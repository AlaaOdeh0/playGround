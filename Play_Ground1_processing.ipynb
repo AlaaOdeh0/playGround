{
 "cells": [
  {
   "cell_type": "code",
   "execution_count": 4,
   "id": "d8c561ad",
   "metadata": {},
   "outputs": [],
   "source": [
    "from bs4 import BeautifulSoup         "
   ]
  },
  {
   "cell_type": "code",
   "execution_count": 5,
   "id": "22bf5116",
   "metadata": {},
   "outputs": [],
   "source": [
    "import pandas as pd\n",
    "import numpy as np\n",
    "import matplotlib.pyplot as plt\n",
    "%matplotlib inline\n",
    "import statsmodels.api as sm\n",
    "import datetime\n",
    "import seaborn as sns\n",
    "from sklearn.model_selection import train_test_split\n",
    "from sklearn.linear_model import LinearRegression\n",
    "from sklearn.ensemble import RandomForestRegressor\n",
    "from sklearn.preprocessing import StandardScaler\n",
    "from sklearn.metrics import r2_score"
   ]
  },
  {
   "cell_type": "code",
   "execution_count": 6,
   "id": "7518865f",
   "metadata": {},
   "outputs": [],
   "source": [
    "df= pd.read_excel(r'Data_file.xlsx')"
   ]
  },
  {
   "cell_type": "code",
   "execution_count": 7,
   "id": "46843bf0",
   "metadata": {},
   "outputs": [
    {
     "data": {
      "text/plain": [
       "(7777, 17)"
      ]
     },
     "execution_count": 7,
     "metadata": {},
     "output_type": "execute_result"
    }
   ],
   "source": [
    "# Print the shape of the DataFrame\n",
    "df.shape"
   ]
  },
  {
   "cell_type": "code",
   "execution_count": 8,
   "id": "8d32ee13",
   "metadata": {},
   "outputs": [
    {
     "name": "stdout",
     "output_type": "stream",
     "text": [
      "Number of rows with'معرض السيارات'in 'Car Name': 913\n"
     ]
    }
   ],
   "source": [
    "print(\"Number of rows with'معرض السيارات'in 'Car Name':\", len(df[df['Car Name'] == 'معرض السيارات']))"
   ]
  },
  {
   "cell_type": "markdown",
   "id": "a1d8de41",
   "metadata": {},
   "source": [
    "\n",
    "Here I will delete 913 rows so that the value of the car name is equal to the \"معرض السيارات\". As this is corrupt data. The rest of the columns of this value are empty."
   ]
  },
  {
   "cell_type": "code",
   "execution_count": 9,
   "id": "65141bd0",
   "metadata": {},
   "outputs": [],
   "source": [
    "# Filter rows where 'Car Name' is not equal to 'معرض السيارات'\n",
    "df = df[df['Car Name'] != 'معرض السيارات']"
   ]
  },
  {
   "cell_type": "code",
   "execution_count": 10,
   "id": "d5861ec2",
   "metadata": {},
   "outputs": [
    {
     "name": "stdout",
     "output_type": "stream",
     "text": [
      "Number of rows with'معرض السيارات'in 'Car Name': 0\n"
     ]
    }
   ],
   "source": [
    "print(\"Number of rows with'معرض السيارات'in 'Car Name':\", len(df[df['Car Name'] == 'معرض السيارات']))"
   ]
  },
  {
   "cell_type": "code",
   "execution_count": 11,
   "id": "f09d3ae8",
   "metadata": {},
   "outputs": [
    {
     "data": {
      "text/plain": [
       "6864"
      ]
     },
     "execution_count": 11,
     "metadata": {},
     "output_type": "execute_result"
    }
   ],
   "source": [
    "#The total number of rows:\n",
    "df.shape[0]"
   ]
  },
  {
   "cell_type": "code",
   "execution_count": 12,
   "id": "9751007a",
   "metadata": {},
   "outputs": [
    {
     "data": {
      "text/plain": [
       "7777"
      ]
     },
     "execution_count": 12,
     "metadata": {},
     "output_type": "execute_result"
    }
   ],
   "source": [
    "6864+913"
   ]
  },
  {
   "cell_type": "markdown",
   "id": "5347555a",
   "metadata": {},
   "source": [
    "Here a new feature, namely Age, was extracted from a previously existing feature"
   ]
  },
  {
   "cell_type": "code",
   "execution_count": 13,
   "id": "763c9268",
   "metadata": {},
   "outputs": [
    {
     "data": {
      "text/html": [
       "<div>\n",
       "<style scoped>\n",
       "    .dataframe tbody tr th:only-of-type {\n",
       "        vertical-align: middle;\n",
       "    }\n",
       "\n",
       "    .dataframe tbody tr th {\n",
       "        vertical-align: top;\n",
       "    }\n",
       "\n",
       "    .dataframe thead th {\n",
       "        text-align: right;\n",
       "    }\n",
       "</style>\n",
       "<table border=\"1\" class=\"dataframe\">\n",
       "  <thead>\n",
       "    <tr style=\"text-align: right;\">\n",
       "      <th></th>\n",
       "      <th>Model Year</th>\n",
       "      <th>Age</th>\n",
       "    </tr>\n",
       "  </thead>\n",
       "  <tbody>\n",
       "    <tr>\n",
       "      <th>0</th>\n",
       "      <td>2014</td>\n",
       "      <td>9</td>\n",
       "    </tr>\n",
       "    <tr>\n",
       "      <th>3</th>\n",
       "      <td>2007</td>\n",
       "      <td>16</td>\n",
       "    </tr>\n",
       "    <tr>\n",
       "      <th>4</th>\n",
       "      <td>2006</td>\n",
       "      <td>17</td>\n",
       "    </tr>\n",
       "    <tr>\n",
       "      <th>6</th>\n",
       "      <td>1982</td>\n",
       "      <td>41</td>\n",
       "    </tr>\n",
       "    <tr>\n",
       "      <th>7</th>\n",
       "      <td>2014</td>\n",
       "      <td>9</td>\n",
       "    </tr>\n",
       "    <tr>\n",
       "      <th>...</th>\n",
       "      <td>...</td>\n",
       "      <td>...</td>\n",
       "    </tr>\n",
       "    <tr>\n",
       "      <th>7771</th>\n",
       "      <td>2015</td>\n",
       "      <td>8</td>\n",
       "    </tr>\n",
       "    <tr>\n",
       "      <th>7772</th>\n",
       "      <td>2002</td>\n",
       "      <td>21</td>\n",
       "    </tr>\n",
       "    <tr>\n",
       "      <th>7773</th>\n",
       "      <td>2018</td>\n",
       "      <td>5</td>\n",
       "    </tr>\n",
       "    <tr>\n",
       "      <th>7774</th>\n",
       "      <td>2017</td>\n",
       "      <td>6</td>\n",
       "    </tr>\n",
       "    <tr>\n",
       "      <th>7776</th>\n",
       "      <td>2001</td>\n",
       "      <td>22</td>\n",
       "    </tr>\n",
       "  </tbody>\n",
       "</table>\n",
       "<p>6864 rows × 2 columns</p>\n",
       "</div>"
      ],
      "text/plain": [
       "      Model Year  Age\n",
       "0           2014    9\n",
       "3           2007   16\n",
       "4           2006   17\n",
       "6           1982   41\n",
       "7           2014    9\n",
       "...          ...  ...\n",
       "7771        2015    8\n",
       "7772        2002   21\n",
       "7773        2018    5\n",
       "7774        2017    6\n",
       "7776        2001   22\n",
       "\n",
       "[6864 rows x 2 columns]"
      ]
     },
     "execution_count": 13,
     "metadata": {},
     "output_type": "execute_result"
    }
   ],
   "source": [
    "# Convert 'Model Year' to numeric values\n",
    "df['Model Year'] = pd.to_numeric(df['Model Year'], errors='coerce')\n",
    "\n",
    "# Calculate the age of the car\n",
    "current_year = 2023  \n",
    "df['Age'] = current_year - df['Model Year']\n",
    "\n",
    "df[['Model Year', 'Age']]"
   ]
  },
  {
   "cell_type": "code",
   "execution_count": 14,
   "id": "2c46d226",
   "metadata": {},
   "outputs": [
    {
     "data": {
      "text/plain": [
       "9     575\n",
       "8     534\n",
       "7     525\n",
       "15    499\n",
       "10    345\n",
       "11    344\n",
       "16    342\n",
       "12    314\n",
       "17    308\n",
       "6     302\n",
       "5     277\n",
       "13    227\n",
       "4     215\n",
       "14    207\n",
       "18    175\n",
       "24    170\n",
       "21    150\n",
       "23    136\n",
       "20    116\n",
       "19    104\n",
       "22    103\n",
       "25    101\n",
       "26     99\n",
       "40     76\n",
       "3      74\n",
       "37     62\n",
       "27     61\n",
       "36     47\n",
       "41     46\n",
       "39     43\n",
       "31     37\n",
       "28     36\n",
       "38     35\n",
       "35     31\n",
       "2      27\n",
       "34     22\n",
       "30     20\n",
       "33     18\n",
       "32     13\n",
       "29     12\n",
       "42      7\n",
       "44      7\n",
       "43      7\n",
       "50      3\n",
       "45      2\n",
       "1       2\n",
       "53      1\n",
       "48      1\n",
       "46      1\n",
       "56      1\n",
       "47      1\n",
       "55      1\n",
       "49      1\n",
       "51      1\n",
       "Name: Age, dtype: int64"
      ]
     },
     "execution_count": 14,
     "metadata": {},
     "output_type": "execute_result"
    }
   ],
   "source": [
    "year_counts = df['Age'].value_counts()\n",
    "year_counts"
   ]
  },
  {
   "cell_type": "code",
   "execution_count": 15,
   "id": "8e9e078f",
   "metadata": {},
   "outputs": [
    {
     "data": {
      "text/plain": [
       "(6864, 18)"
      ]
     },
     "execution_count": 15,
     "metadata": {},
     "output_type": "execute_result"
    }
   ],
   "source": [
    "df.shape"
   ]
  },
  {
   "cell_type": "code",
   "execution_count": 16,
   "id": "311ad2be",
   "metadata": {},
   "outputs": [
    {
     "data": {
      "text/html": [
       "<div>\n",
       "<style scoped>\n",
       "    .dataframe tbody tr th:only-of-type {\n",
       "        vertical-align: middle;\n",
       "    }\n",
       "\n",
       "    .dataframe tbody tr th {\n",
       "        vertical-align: top;\n",
       "    }\n",
       "\n",
       "    .dataframe thead th {\n",
       "        text-align: right;\n",
       "    }\n",
       "</style>\n",
       "<table border=\"1\" class=\"dataframe\">\n",
       "  <thead>\n",
       "    <tr style=\"text-align: right;\">\n",
       "      <th></th>\n",
       "      <th>File Name</th>\n",
       "      <th>Car Name</th>\n",
       "      <th>Model Year</th>\n",
       "      <th>Price</th>\n",
       "      <th>Car Color</th>\n",
       "      <th>Fuel Type</th>\n",
       "      <th>Car Origin</th>\n",
       "      <th>Driving License</th>\n",
       "      <th>Lime Type</th>\n",
       "      <th>Glass Type</th>\n",
       "      <th>Motor Power</th>\n",
       "      <th>Car Speedometer</th>\n",
       "      <th>Passenger Number</th>\n",
       "      <th>Payment Method</th>\n",
       "      <th>Shown Status</th>\n",
       "      <th>Previous Owners</th>\n",
       "      <th>Extras</th>\n",
       "      <th>Age</th>\n",
       "    </tr>\n",
       "  </thead>\n",
       "  <tbody>\n",
       "    <tr>\n",
       "      <th>0</th>\n",
       "      <td>500118.txt</td>\n",
       "      <td>كيا اوبتيما</td>\n",
       "      <td>2014</td>\n",
       "      <td>100000</td>\n",
       "      <td>أبيض عاجي</td>\n",
       "      <td>بنزين</td>\n",
       "      <td>خصوصي</td>\n",
       "      <td>فلسطينية</td>\n",
       "      <td>اوتوماتيك</td>\n",
       "      <td>الكتروني</td>\n",
       "      <td>2000.0</td>\n",
       "      <td>75000</td>\n",
       "      <td>4</td>\n",
       "      <td>نقدا</td>\n",
       "      <td>للبيع</td>\n",
       "      <td>يد اولى</td>\n",
       "      <td>فتحة سقف</td>\n",
       "      <td>9</td>\n",
       "    </tr>\n",
       "    <tr>\n",
       "      <th>3</th>\n",
       "      <td>500163.txt</td>\n",
       "      <td>كيا سورينتو</td>\n",
       "      <td>2007</td>\n",
       "      <td>60000</td>\n",
       "      <td>سكني</td>\n",
       "      <td>ديزل</td>\n",
       "      <td>خصوصي</td>\n",
       "      <td>فلسطينية</td>\n",
       "      <td>نصف اوتوماتيك</td>\n",
       "      <td>الكتروني</td>\n",
       "      <td>2500.0</td>\n",
       "      <td>130000</td>\n",
       "      <td>7</td>\n",
       "      <td>إمكانية التقسيط</td>\n",
       "      <td>للبيع أو التبديل</td>\n",
       "      <td>2</td>\n",
       "      <td>فتحة سقف</td>\n",
       "      <td>16</td>\n",
       "    </tr>\n",
       "    <tr>\n",
       "      <th>4</th>\n",
       "      <td>500226.txt</td>\n",
       "      <td>هونداي افانتي</td>\n",
       "      <td>2006</td>\n",
       "      <td>43500</td>\n",
       "      <td>سكني</td>\n",
       "      <td>بنزين</td>\n",
       "      <td>خصوصي</td>\n",
       "      <td>فلسطينية</td>\n",
       "      <td>اوتوماتيك</td>\n",
       "      <td>الكتروني</td>\n",
       "      <td>1600.0</td>\n",
       "      <td>NaN</td>\n",
       "      <td>NaN</td>\n",
       "      <td>نقدا</td>\n",
       "      <td>للبيع</td>\n",
       "      <td>NaN</td>\n",
       "      <td>NaN</td>\n",
       "      <td>17</td>\n",
       "    </tr>\n",
       "    <tr>\n",
       "      <th>6</th>\n",
       "      <td>500390.txt</td>\n",
       "      <td>فيات 127</td>\n",
       "      <td>1982</td>\n",
       "      <td>5500</td>\n",
       "      <td>بيج</td>\n",
       "      <td>بنزين</td>\n",
       "      <td>خصوصي</td>\n",
       "      <td>فلسطينية</td>\n",
       "      <td>عادي</td>\n",
       "      <td>يدوي</td>\n",
       "      <td>906.0</td>\n",
       "      <td>شغال</td>\n",
       "      <td>4</td>\n",
       "      <td>إمكانية التقسيط</td>\n",
       "      <td>للبيع</td>\n",
       "      <td>00</td>\n",
       "      <td>NaN</td>\n",
       "      <td>41</td>\n",
       "    </tr>\n",
       "    <tr>\n",
       "      <th>7</th>\n",
       "      <td>500393.txt</td>\n",
       "      <td>بيجو 208</td>\n",
       "      <td>2014</td>\n",
       "      <td>54000</td>\n",
       "      <td>فضي</td>\n",
       "      <td>بنزين</td>\n",
       "      <td>خصوصي</td>\n",
       "      <td>فلسطينية</td>\n",
       "      <td>اوتوماتيك</td>\n",
       "      <td>الكتروني</td>\n",
       "      <td>1200.0</td>\n",
       "      <td>38000</td>\n",
       "      <td>4</td>\n",
       "      <td>نقدا</td>\n",
       "      <td>للبيع</td>\n",
       "      <td>NaN</td>\n",
       "      <td>NaN</td>\n",
       "      <td>9</td>\n",
       "    </tr>\n",
       "  </tbody>\n",
       "</table>\n",
       "</div>"
      ],
      "text/plain": [
       "    File Name       Car Name  Model Year    Price  Car Color Fuel Type  \\\n",
       "0  500118.txt    كيا اوبتيما        2014  100000   أبيض عاجي     بنزين   \n",
       "3  500163.txt    كيا سورينتو        2007   60000        سكني      ديزل   \n",
       "4  500226.txt  هونداي افانتي        2006   43500        سكني     بنزين   \n",
       "6  500390.txt       فيات 127        1982    5500         بيج     بنزين   \n",
       "7  500393.txt       بيجو 208        2014   54000         فضي     بنزين   \n",
       "\n",
       "  Car Origin Driving License      Lime Type Glass Type  Motor Power  \\\n",
       "0      خصوصي        فلسطينية      اوتوماتيك   الكتروني       2000.0   \n",
       "3      خصوصي        فلسطينية  نصف اوتوماتيك   الكتروني       2500.0   \n",
       "4      خصوصي        فلسطينية      اوتوماتيك   الكتروني       1600.0   \n",
       "6      خصوصي        فلسطينية           عادي       يدوي        906.0   \n",
       "7      خصوصي        فلسطينية      اوتوماتيك   الكتروني       1200.0   \n",
       "\n",
       "  Car Speedometer Passenger Number   Payment Method      Shown Status  \\\n",
       "0           75000                4            نقدا             للبيع    \n",
       "3          130000                7  إمكانية التقسيط  للبيع أو التبديل   \n",
       "4             NaN              NaN            نقدا             للبيع    \n",
       "6            شغال                4  إمكانية التقسيط            للبيع    \n",
       "7           38000                4            نقدا             للبيع    \n",
       "\n",
       "  Previous Owners    Extras  Age  \n",
       "0         يد اولى  فتحة سقف    9  \n",
       "3               2  فتحة سقف   16  \n",
       "4             NaN       NaN   17  \n",
       "6              00       NaN   41  \n",
       "7             NaN       NaN    9  "
      ]
     },
     "execution_count": 16,
     "metadata": {},
     "output_type": "execute_result"
    }
   ],
   "source": [
    "df.head()"
   ]
  },
  {
   "cell_type": "code",
   "execution_count": 17,
   "id": "56c5caba",
   "metadata": {},
   "outputs": [
    {
     "data": {
      "text/plain": [
       "Index(['File Name', 'Car Name', 'Model Year', 'Price', 'Car Color',\n",
       "       'Fuel Type', 'Car Origin', 'Driving License', 'Lime Type', 'Glass Type',\n",
       "       'Motor Power', 'Car Speedometer', 'Passenger Number', 'Payment Method',\n",
       "       'Shown Status', 'Previous Owners', 'Extras', 'Age'],\n",
       "      dtype='object')"
      ]
     },
     "execution_count": 17,
     "metadata": {},
     "output_type": "execute_result"
    }
   ],
   "source": [
    "df.columns"
   ]
  },
  {
   "cell_type": "code",
   "execution_count": 18,
   "id": "81b8dcc7",
   "metadata": {},
   "outputs": [],
   "source": [
    "new_names=['File_Name', 'Car_Name', 'Model_Year', 'Price', 'Car_Color',\n",
    "       'Fuel_Type','Car_Origin', 'Driving_License', 'Lime_Type', 'Glass_Type',\n",
    "       'Motor_Power', 'Car_Speedometer', 'Passenger_Number', 'Payment_Method',\n",
    "       'Shown_Status', 'Previous_Owners', 'Extras', 'Age']"
   ]
  },
  {
   "cell_type": "code",
   "execution_count": 19,
   "id": "481b0195",
   "metadata": {},
   "outputs": [],
   "source": [
    "#Change the columns names \n",
    "df = df.set_axis(new_names, axis=1, copy=False)"
   ]
  },
  {
   "cell_type": "code",
   "execution_count": 20,
   "id": "0560a6fb",
   "metadata": {},
   "outputs": [
    {
     "data": {
      "text/plain": [
       "Index(['File_Name', 'Car_Name', 'Model_Year', 'Price', 'Car_Color',\n",
       "       'Fuel_Type', 'Car_Origin', 'Driving_License', 'Lime_Type', 'Glass_Type',\n",
       "       'Motor_Power', 'Car_Speedometer', 'Passenger_Number', 'Payment_Method',\n",
       "       'Shown_Status', 'Previous_Owners', 'Extras', 'Age'],\n",
       "      dtype='object')"
      ]
     },
     "execution_count": 20,
     "metadata": {},
     "output_type": "execute_result"
    }
   ],
   "source": [
    "df.columns"
   ]
  },
  {
   "cell_type": "code",
   "execution_count": 21,
   "id": "2dd629ff",
   "metadata": {},
   "outputs": [
    {
     "data": {
      "text/html": [
       "<div>\n",
       "<style scoped>\n",
       "    .dataframe tbody tr th:only-of-type {\n",
       "        vertical-align: middle;\n",
       "    }\n",
       "\n",
       "    .dataframe tbody tr th {\n",
       "        vertical-align: top;\n",
       "    }\n",
       "\n",
       "    .dataframe thead th {\n",
       "        text-align: right;\n",
       "    }\n",
       "</style>\n",
       "<table border=\"1\" class=\"dataframe\">\n",
       "  <thead>\n",
       "    <tr style=\"text-align: right;\">\n",
       "      <th></th>\n",
       "      <th>File_Name</th>\n",
       "      <th>Car_Name</th>\n",
       "      <th>Model_Year</th>\n",
       "      <th>Price</th>\n",
       "      <th>Car_Color</th>\n",
       "      <th>Fuel_Type</th>\n",
       "      <th>Car_Origin</th>\n",
       "      <th>Driving_License</th>\n",
       "      <th>Lime_Type</th>\n",
       "      <th>Glass_Type</th>\n",
       "      <th>Motor_Power</th>\n",
       "      <th>Car_Speedometer</th>\n",
       "      <th>Passenger_Number</th>\n",
       "      <th>Payment_Method</th>\n",
       "      <th>Shown_Status</th>\n",
       "      <th>Previous_Owners</th>\n",
       "      <th>Extras</th>\n",
       "      <th>Age</th>\n",
       "    </tr>\n",
       "  </thead>\n",
       "  <tbody>\n",
       "    <tr>\n",
       "      <th>0</th>\n",
       "      <td>500118.txt</td>\n",
       "      <td>كيا اوبتيما</td>\n",
       "      <td>2014</td>\n",
       "      <td>100000</td>\n",
       "      <td>أبيض عاجي</td>\n",
       "      <td>بنزين</td>\n",
       "      <td>خصوصي</td>\n",
       "      <td>فلسطينية</td>\n",
       "      <td>اوتوماتيك</td>\n",
       "      <td>الكتروني</td>\n",
       "      <td>2000.0</td>\n",
       "      <td>75000</td>\n",
       "      <td>4</td>\n",
       "      <td>نقدا</td>\n",
       "      <td>للبيع</td>\n",
       "      <td>يد اولى</td>\n",
       "      <td>فتحة سقف</td>\n",
       "      <td>9</td>\n",
       "    </tr>\n",
       "    <tr>\n",
       "      <th>3</th>\n",
       "      <td>500163.txt</td>\n",
       "      <td>كيا سورينتو</td>\n",
       "      <td>2007</td>\n",
       "      <td>60000</td>\n",
       "      <td>سكني</td>\n",
       "      <td>ديزل</td>\n",
       "      <td>خصوصي</td>\n",
       "      <td>فلسطينية</td>\n",
       "      <td>نصف اوتوماتيك</td>\n",
       "      <td>الكتروني</td>\n",
       "      <td>2500.0</td>\n",
       "      <td>130000</td>\n",
       "      <td>7</td>\n",
       "      <td>إمكانية التقسيط</td>\n",
       "      <td>للبيع أو التبديل</td>\n",
       "      <td>2</td>\n",
       "      <td>فتحة سقف</td>\n",
       "      <td>16</td>\n",
       "    </tr>\n",
       "  </tbody>\n",
       "</table>\n",
       "</div>"
      ],
      "text/plain": [
       "    File_Name     Car_Name  Model_Year    Price  Car_Color Fuel_Type  \\\n",
       "0  500118.txt  كيا اوبتيما        2014  100000   أبيض عاجي     بنزين   \n",
       "3  500163.txt  كيا سورينتو        2007   60000        سكني      ديزل   \n",
       "\n",
       "  Car_Origin Driving_License      Lime_Type Glass_Type  Motor_Power  \\\n",
       "0      خصوصي        فلسطينية      اوتوماتيك   الكتروني       2000.0   \n",
       "3      خصوصي        فلسطينية  نصف اوتوماتيك   الكتروني       2500.0   \n",
       "\n",
       "  Car_Speedometer Passenger_Number   Payment_Method      Shown_Status  \\\n",
       "0           75000                4            نقدا             للبيع    \n",
       "3          130000                7  إمكانية التقسيط  للبيع أو التبديل   \n",
       "\n",
       "  Previous_Owners    Extras  Age  \n",
       "0         يد اولى  فتحة سقف    9  \n",
       "3               2  فتحة سقف   16  "
      ]
     },
     "execution_count": 21,
     "metadata": {},
     "output_type": "execute_result"
    }
   ],
   "source": [
    "df.head(2)"
   ]
  },
  {
   "cell_type": "code",
   "execution_count": 22,
   "id": "596c13b8",
   "metadata": {},
   "outputs": [
    {
     "data": {
      "text/plain": [
       "100000              115\n",
       "200000              111\n",
       "00000                83\n",
       "75000                80\n",
       "50000                78\n",
       "                   ... \n",
       "100405                1\n",
       "................      1\n",
       "49000كيلو متر         1\n",
       "170 الف               1\n",
       "7686866               1\n",
       "Name: Car_Speedometer, Length: 1021, dtype: int64"
      ]
     },
     "execution_count": 22,
     "metadata": {},
     "output_type": "execute_result"
    }
   ],
   "source": [
    "df.Car_Speedometer.value_counts()"
   ]
  },
  {
   "cell_type": "code",
   "execution_count": 23,
   "id": "20fac776",
   "metadata": {},
   "outputs": [],
   "source": [
    "df['Car_Speedometer1'] = df.Car_Speedometer.str.extract(r'(\\d+[.\\d]*)')"
   ]
  },
  {
   "cell_type": "code",
   "execution_count": 24,
   "id": "3606e578",
   "metadata": {},
   "outputs": [],
   "source": [
    "df['Car_Speedometer_txt'] = df['Car_Speedometer'].str.replace(r'(\\d+[.\\d]*)', '', regex=True)"
   ]
  },
  {
   "cell_type": "code",
   "execution_count": 25,
   "id": "9d31d4a5",
   "metadata": {},
   "outputs": [
    {
     "data": {
      "text/plain": [
       "100000     117\n",
       "200000     112\n",
       "00000       83\n",
       "75000       81\n",
       "50000       79\n",
       "          ... \n",
       "123126       1\n",
       "263200       1\n",
       "16352        1\n",
       "124456       1\n",
       "7686866      1\n",
       "Name: Car_Speedometer1, Length: 841, dtype: int64"
      ]
     },
     "execution_count": 25,
     "metadata": {},
     "output_type": "execute_result"
    }
   ],
   "source": [
    "df.Car_Speedometer1.value_counts()"
   ]
  },
  {
   "cell_type": "code",
   "execution_count": 26,
   "id": "6d6f4fc1",
   "metadata": {},
   "outputs": [
    {
     "data": {
      "text/plain": [
       "File_Name                 0\n",
       "Car_Name                  0\n",
       "Model_Year                0\n",
       "Price                     0\n",
       "Car_Color                 0\n",
       "Fuel_Type                 0\n",
       "Car_Origin                0\n",
       "Driving_License           0\n",
       "Lime_Type                 0\n",
       "Glass_Type                0\n",
       "Motor_Power               0\n",
       "Car_Speedometer        1941\n",
       "Passenger_Number        778\n",
       "Payment_Method            0\n",
       "Shown_Status              0\n",
       "Previous_Owners        1650\n",
       "Extras                 5049\n",
       "Age                       0\n",
       "Car_Speedometer1       1997\n",
       "Car_Speedometer_txt    1941\n",
       "dtype: int64"
      ]
     },
     "execution_count": 26,
     "metadata": {},
     "output_type": "execute_result"
    }
   ],
   "source": [
    "df.isna().sum() "
   ]
  },
  {
   "cell_type": "code",
   "execution_count": 27,
   "id": "8c8caa44",
   "metadata": {},
   "outputs": [
    {
     "data": {
      "text/plain": [
       "2                            636\n",
       "يد اولى                      596\n",
       "3                            539\n",
       "1                            525\n",
       "0                            376\n",
       "                            ... \n",
       "123423                         1\n",
       "اصل تدريب سواقه                1\n",
       "يد أولى بعد الاستيراد          1\n",
       "يد 17                          1\n",
       "يد اولى من الشركة المتحدة      1\n",
       "Name: Previous_Owners, Length: 278, dtype: int64"
      ]
     },
     "execution_count": 27,
     "metadata": {},
     "output_type": "execute_result"
    }
   ],
   "source": [
    "df.Previous_Owners.value_counts()"
   ]
  },
  {
   "cell_type": "code",
   "execution_count": 28,
   "id": "b4ae3668",
   "metadata": {},
   "outputs": [],
   "source": [
    "df['Previous_Owners1'] = df.Previous_Owners.str.extract(r'(\\d+[.\\d]*)')"
   ]
  },
  {
   "cell_type": "code",
   "execution_count": 29,
   "id": "9278ef36",
   "metadata": {},
   "outputs": [],
   "source": [
    " df['Previous_Owners_txt'] = df['Previous_Owners'].str.replace(r'(\\d+[.\\d]*)', '', regex=True)"
   ]
  },
  {
   "cell_type": "code",
   "execution_count": 30,
   "id": "f803aca7",
   "metadata": {},
   "outputs": [
    {
     "data": {
      "text/plain": [
       "2              657\n",
       "3              560\n",
       "1              534\n",
       "0              387\n",
       "4              318\n",
       "5              202\n",
       "6               86\n",
       "7               53\n",
       "00              34\n",
       "8               31\n",
       "9               26\n",
       "10              19\n",
       "12              15\n",
       "11              14\n",
       "00000           13\n",
       "000             10\n",
       "0000             9\n",
       "000000           5\n",
       "15               4\n",
       "12345            3\n",
       "00000000         3\n",
       "18               3\n",
       "17               3\n",
       "13               2\n",
       "0000000          2\n",
       "03               2\n",
       "16               1\n",
       "159000           1\n",
       "01               1\n",
       "11111            1\n",
       "19               1\n",
       "0778244          1\n",
       "00009            1\n",
       "1000             1\n",
       "04               1\n",
       "78888877766      1\n",
       "14               1\n",
       "123423           1\n",
       "0000000000       1\n",
       "000000000        1\n",
       "56               1\n",
       "170000           1\n",
       "44444            1\n",
       "Name: Previous_Owners1, dtype: int64"
      ]
     },
     "execution_count": 30,
     "metadata": {},
     "output_type": "execute_result"
    }
   ],
   "source": [
    "df.Previous_Owners1.value_counts()"
   ]
  },
  {
   "cell_type": "code",
   "execution_count": 31,
   "id": "a51b85fb",
   "metadata": {},
   "outputs": [
    {
     "data": {
      "text/plain": [
       "218"
      ]
     },
     "execution_count": 31,
     "metadata": {},
     "output_type": "execute_result"
    }
   ],
   "source": [
    "len(df['Previous_Owners_txt'].unique())"
   ]
  },
  {
   "cell_type": "code",
   "execution_count": 32,
   "id": "d1eb5193",
   "metadata": {},
   "outputs": [
    {
     "data": {
      "text/plain": [
       "array(['يد اولى', '', nan, 'يد ثانية', 'يد ثانيه', 'ثالثة',\n",
       "       'غير منمر استيراد الماني', 'غير منمرة', 'أولى', 'يد اولا',\n",
       "       'يد ثالثة', 'ثانية', 'يد أولى', 'يد سادسة', 'اولى', 'صفر', 'رابعه',\n",
       "       'يد رابعة', 'يد ثالثه', '...', 'يد أولى استيراد', 'يد اولي ',\n",
       "       '......', 'ثانيه', 'واحد', 'اربعة', 'اولا', 'غير منمره',\n",
       "       'يد تالته', 'يد رابعه', 'يد ثالثة ( فتيات)', '-', 'مش منمر',\n",
       "       ' مستورده', 'يد تانيه', 'يد ', 'مستورد', 'استيراد مباشر من كوريا',\n",
       "       'يد خامسة', '********', 'نعم', 'مش منمرة', 'يداولى',\n",
       "       'يد أولى وكالة', 'يد خامسه', 'يدو اولى', 'للبيع', 'يد واله',\n",
       "       'مش منمره', 'ثالثه', 'اول', 'رابعة', 'منمره', 'يد ولا', 'يد عاشره',\n",
       "       'يدثانيه', 'لا يوجد', '.', 'لايوجد', 'مستورد شركة', 'ايد ثانيه',\n",
       "       'يد صفر', 'يد اولى شركة', 'استيراد الماني', 'يد. اولى', 'غير منمر',\n",
       "       'يد تاسعة', 'مستود غير منمر', 'اثنان', 'ياولى', 'يد', 'استيراد',\n",
       "       'يد اول', 'يد اولى وكالة', 'يد تاني', 'يد ثني',\n",
       "       'يد اولى  اصل شركة', '.........', 'يدثالثة', 'يد اولي',\n",
       "       'يد اولى اصحاب سابقون ', 'يد خامساً', 'اصحاب سابقون صفر', 'اوله',\n",
       "       'يداولا', 'يد  بس نخب السيارة', 'يد ثالث', 'مش منمرا',\n",
       "       'وارد كوريا يد اولى', 'يد ثاتيه', '**********',\n",
       "       'مستوردة غير مرخصة', 'يد تانية', 'مستوردة', 'صفرض', ' مستورد كوري',\n",
       "       'ايد ', 'يد ولى', 'أيد تانية', 'يد اولى صفر كيلو', '@', 'يدثانية',\n",
       "       'استراد شخصي', 'مستورده يد اولى', '******', 'ايد اولى', 'تانيه',\n",
       "       'يد خمسة', 'خمسه', 'استيراد كوري', 'يدتانيه', 'يدخامسه', '....',\n",
       "       'يد أولئ أصحاب سابقون صفر', 'من الشركه مباشر لا يوجد اصحاب سابقون',\n",
       "       'عدد', 'اصل تدريب سواقه', 'تالته', 'يد أولى بعد الاستيراد',\n",
       "       'يد ثاني', 'انا', 'يد أولى ', 'يد أولي', 'ثانبه', 'يد سابعة',\n",
       "       'اشخاص', 'يد ثاني.', 'يد ثامنه', 'ايد ثانية', 'ثمانيه',\n",
       "       'ايد رابعه', 'ثالث', 'استيراد كوريا', 'تانبه',\n",
       "       'استيراد مباشر من اوروبا', 'يد أولئ', 'خمسة', 'يد اولى فقط',\n",
       "       'وارد المانيا', 'خامسة', 'يد ثانيا', 'خمس', 'استراد', 'يدثالثه',\n",
       "       'يد أولى،...', 'اولى\\x89', 'تاني', 'Ooo', 'يد ا', 'يد اوله',\n",
       "       'ايدثانيه', 'ثاني', 'فقط يد اولى', 'سحب شركة',\n",
       "       'يد اولى، استيراد شخصي', 'شطب', 'ا', 'يد اولئ', 'يد اولى ( شركة )',\n",
       "       'مستورده', 'يد التالته', 'يد اربعه', 'O', 'يد  ثانية', 'يد سابعه',\n",
       "       'ايد ثالثه', 'يدأولى', 'صفرر', 'خامسه', '، ', 'استيراد مباشر',\n",
       "       'اصل شركة', '؟', 'مستوردة غير منمرة', 'يد واحدة',\n",
       "       'استيراد كوريا - جديد مش منمر', 'تالثه', 'يداولى سحب شركه', '..',\n",
       "       'يد اولى استيراد شخصي', 'E', ' استيراد كوري', 'ايد أولى',\n",
       "       'استيراد المانيا', 'تانية', 'يديانيه', 'سابعه', ',', 'يد اولة',\n",
       "       '?', 'يد  ', 'مشطوب', 'يد اولى الماني', 'يد اولىً', 'ايد ثالثة',\n",
       "       'غير منمرمستوردة', 'لا شيء', 'خصوصي', 'يد واحد', 'يد اةلي', '،',\n",
       "       'يدى اوله', 'مش منمر . (صفر)', 'أستيراد ألماني', '---', 'Zero',\n",
       "       'يد اولى / استيراد', ' أولى', 'الثانية', 'ايد اوله',\n",
       "       'مستوردة يد اولى', 'يد ثالثي', ' نفس الشخص', 'يد عاشرة',\n",
       "       'بد اولى مستورد', 'ثالثى', ' استيراد', 'يد اولى من الشركة المتحدة'],\n",
       "      dtype=object)"
      ]
     },
     "execution_count": 32,
     "metadata": {},
     "output_type": "execute_result"
    }
   ],
   "source": [
    "df['Previous_Owners_txt'].unique()"
   ]
  },
  {
   "cell_type": "code",
   "execution_count": 33,
   "id": "7239fd6e",
   "metadata": {},
   "outputs": [
    {
     "data": {
      "text/plain": [
       "                4665\n",
       " الف              56\n",
       "الف               21\n",
       "شغال              19\n",
       " كيلو متر         14\n",
       "                ... \n",
       "ماشيه الف كم       1\n",
       " ألف كم            1\n",
       " صفر كيلو          1\n",
       "مش كتير            1\n",
       "متور جديد          1\n",
       "Name: Car_Speedometer_txt, Length: 78, dtype: int64"
      ]
     },
     "execution_count": 33,
     "metadata": {},
     "output_type": "execute_result"
    }
   ],
   "source": [
    "df.Car_Speedometer_txt.value_counts()"
   ]
  },
  {
   "cell_type": "code",
   "execution_count": 34,
   "id": "5f127e3a",
   "metadata": {},
   "outputs": [
    {
     "data": {
      "text/plain": [
       "count     4923\n",
       "unique      78\n",
       "top           \n",
       "freq      4665\n",
       "Name: Car_Speedometer_txt, dtype: object"
      ]
     },
     "execution_count": 34,
     "metadata": {},
     "output_type": "execute_result"
    }
   ],
   "source": [
    "df.Car_Speedometer_txt.describe()"
   ]
  },
  {
   "cell_type": "code",
   "execution_count": 35,
   "id": "c808349a",
   "metadata": {},
   "outputs": [
    {
     "data": {
      "text/plain": [
       "array(['', nan, 'شغال', ' الف', ',', '_', '-', 'قابل لزيادة', 'الف',\n",
       "       ' كيلو', ' كيلو متر', ' الف كيلو متر', '.....', ' كم', '....',\n",
       "       'واحد', ' كيلومتر', '................', '********', 'كيلو متر',\n",
       "       '  كيلو', 'كم', ' Km', 'الف كيلو', ' الف كيلو', 'ما انتبهت',\n",
       "       'صفر كيلو', '____', 'اكثر من سيارة', '.........', ' الاف', '...',\n",
       "       'الف فقط', ' الف سنويا', ' كيلومتير', 'لا  ا\\u200fعلم', '،',\n",
       "       'الف كيلو متر', ' ', '...........', ' الف كم', ' Mil', '  الف',\n",
       "       '******', 'ماشيه الف كم', ' ألف كم', ' صفر كيلو', 'مش كتير',\n",
       "       ' فقط', '… ..', ' ألف كيلو', 'صفر ..كيلو', 'عداد غير حقيقي',\n",
       "       ' الاف كيلو', '......', 'ج', ', km', ', كيلومتر', ' ألف كيلومتر',\n",
       "       ' الف ماشيه', 'آلف', ' الف ك', 'جديد', ' الف فقط',\n",
       "       '..........o.........', '!!!!', 'ماشيه  الف كم', '...............',\n",
       "       'صفر', '””', '........', 'ش', 'km', 'km عداد اصلي', '؟', '.',\n",
       "       '  ألف', ' km', 'متور جديد'], dtype=object)"
      ]
     },
     "execution_count": 35,
     "metadata": {},
     "output_type": "execute_result"
    }
   ],
   "source": [
    "df['Car_Speedometer_txt'].unique()"
   ]
  },
  {
   "cell_type": "code",
   "execution_count": 36,
   "id": "bb672d77",
   "metadata": {},
   "outputs": [
    {
     "name": "stdout",
     "output_type": "stream",
     "text": [
      "0         75000\n",
      "3        130000\n",
      "4           NaN\n",
      "6           NaN\n",
      "7         38000\n",
      "         ...   \n",
      "7771     130000\n",
      "7772      00000\n",
      "7773      50000\n",
      "7774        100\n",
      "7776    7686866\n",
      "Name: Car_Speedometer1, Length: 6864, dtype: object\n"
     ]
    }
   ],
   "source": [
    "print(df['Car_Speedometer1'])"
   ]
  },
  {
   "cell_type": "code",
   "execution_count": 37,
   "id": "cf053b57",
   "metadata": {},
   "outputs": [
    {
     "name": "stdout",
     "output_type": "stream",
     "text": [
      "object\n"
     ]
    }
   ],
   "source": [
    "print(df['Car_Speedometer_txt'].dtype)"
   ]
  },
  {
   "cell_type": "code",
   "execution_count": 38,
   "id": "0059a566",
   "metadata": {},
   "outputs": [],
   "source": [
    "df['Car_Speedometer_txt'] = df['Car_Speedometer_txt'].str.strip()\n",
    "\n",
    "df['Car_Speedometer_txt'].replace({\"الف\": 1000,\n",
    "                              \"الف كيلو متر\": 1000,\n",
    "                              \"الف كيلو\": 1000,\n",
    "                              \"ألف كيلومتر\": 1000,\n",
    "                              \"ألف كيلو\": 1000,\n",
    "                              \"ألف فقط\": 1000,\n",
    "                               \"الف فقط\": 1000,\n",
    "                              \"آلف\": 1000,\n",
    "                              \"صفر كيلو\": 0,\n",
    "                              \"الاف كيلو\": 1000,\n",
    "                                    \"الف كم\": 1000,\n",
    "                                    \"ألف كم\": 1000,\n",
    "                                    \"ماشيه الف كم\": 1000,\n",
    "                                    \"الف ماشيه\": 1000,\n",
    "                                  \"ألف\": 1000,\n",
    "                                   \"الف ك\": 1000,\n",
    "                                  \"صفر\": 0,\n",
    "                                  \"صفر كيلو\": 0,\n",
    "                                  \"صفر ..كيلو\": 0,       },inplace=True)"
   ]
  },
  {
   "cell_type": "code",
   "execution_count": 39,
   "id": "8d8c5515",
   "metadata": {},
   "outputs": [
    {
     "data": {
      "text/plain": [
       "array(['', nan, 'شغال', 1000, ',', '_', '-', 'قابل لزيادة', 'كيلو',\n",
       "       'كيلو متر', '.....', 'كم', '....', 'واحد', 'كيلومتر',\n",
       "       '................', '********', 'Km', 'ما انتبهت', 0, '____',\n",
       "       'اكثر من سيارة', '.........', 'الاف', '...', 'الف سنويا',\n",
       "       'كيلومتير', 'لا  ا\\u200fعلم', '،', '...........', 'Mil', '******',\n",
       "       'مش كتير', 'فقط', '… ..', 'عداد غير حقيقي', '......', 'ج', ', km',\n",
       "       ', كيلومتر', 'جديد', '..........o.........', '!!!!',\n",
       "       'ماشيه  الف كم', '...............', '””', '........', 'ش', 'km',\n",
       "       'km عداد اصلي', '؟', '.', 'متور جديد'], dtype=object)"
      ]
     },
     "execution_count": 39,
     "metadata": {},
     "output_type": "execute_result"
    }
   ],
   "source": [
    "df['Car_Speedometer_txt'].unique()"
   ]
  },
  {
   "cell_type": "code",
   "execution_count": 40,
   "id": "f2b7d11e",
   "metadata": {},
   "outputs": [],
   "source": [
    "df['Car_Speedometer_txt'].replace({  \"شغال\": \" \",\n",
    "                                    \"ما انتبهت\": \" \",\n",
    "                                   \",\": \" \",\n",
    "                                   \"قابل لزيادة\": \" \",\n",
    "                                   \"كيلو\": \" \",\n",
    "                                   \"كيلو متر\": \" \",\n",
    "                                   \"................\": \" \",\n",
    "                                   \"اكثر من سيارة\": \" \",\n",
    "                                   \"____\": \" \",\n",
    "                                   \"0\": \" \",\n",
    "                                   \"Km\": \" \",\n",
    "                                    \"لا  ا\": \" \",\n",
    "                                   \"… ..'\": \" \",\n",
    "                                   \"مش كتير\": \" \",\n",
    "                                   \"فقط\": \" \",\n",
    "                                   \"******\": \" \",\n",
    "                                   \"Mil\": \" \",\n",
    "                                   \"...........\": \" \",\n",
    "                                   \"كيلومتر\": \" \",\n",
    "                                        \", km\": \" \",\n",
    "                                   \"عداد غير حقيقي\": \" \",\n",
    "                                    \"......\": \" \",\n",
    "                                   \"ج\": \" \",\n",
    "                                   \"...............\": \" \",\n",
    "                                   \"ماشيه  الف كم\": \" \",\n",
    "                                   \"!!!!\": \" \",\n",
    "                                   \"..........o.........\": \" \",\n",
    "                                   \"عداد اصلي\": \" \",\n",
    "                                   \"؟\": \" \",\n",
    "                                           \".\": \" \",\n",
    "                                   \"km\": \" \",\n",
    "                                   \"ش\": \" \",\n",
    "                                   \"........\": \" \",\n",
    "                                   \"””\": \" \",\n",
    "                                  }, inplace=True)"
   ]
  },
  {
   "cell_type": "code",
   "execution_count": 41,
   "id": "a53b65b4",
   "metadata": {},
   "outputs": [
    {
     "data": {
      "text/plain": [
       "array(['', nan, ' ', 1000, '_', '-', '.....', 'كم', '....', 'واحد',\n",
       "       '********', 0, '.........', 'الاف', '...', 'الف سنويا', 'كيلومتير',\n",
       "       'لا  ا\\u200fعلم', '،', '… ..', ', كيلومتر', 'جديد', 'km عداد اصلي',\n",
       "       'متور جديد'], dtype=object)"
      ]
     },
     "execution_count": 41,
     "metadata": {},
     "output_type": "execute_result"
    }
   ],
   "source": [
    "df['Car_Speedometer_txt'].unique()"
   ]
  },
  {
   "cell_type": "code",
   "execution_count": 42,
   "id": "d942db9b",
   "metadata": {},
   "outputs": [],
   "source": [
    "df['Car_Speedometer_txt'].replace({ \"********\": \" \",\n",
    "                                    \"كم\": \" \",\n",
    "                                   \"....\": \" \",\n",
    "                                   \"واحد\": \" \",\n",
    "                                   \".....\": \" \",\n",
    "                                   \"-\": \" \",\n",
    "                                   \"_\": \" \",\n",
    "                                   \"...\": \" \",\n",
    "                                   \"كيلومتير\": \" \",\n",
    "                                    \".........\": \" \",\n",
    "                                   \"علم\": \" \",\n",
    "                                   \"،\": \" \",\n",
    "                                    \"متور جديد\": \" \",\n",
    "                                    \"km عداد اصلي\": \" \",\n",
    "                                   \"… ..\": \" \",\n",
    "                                    \"كيلومتر\": \" \",    \n",
    "                                   \" \": \" \",                                   \n",
    "                                       \"علم', \": \" \",\n",
    "                                   \"لا  ا\": \" \",\n",
    "                                    \" 0\": \" \",\n",
    "                                    \"كيلومتر\\u200fالاف\": \" \",  \n",
    "                                    \"\": \" \", \n",
    "                                   \"0\": \" \", \n",
    "                                   \", كيلومتر\": \" \", \n",
    "                                    \"جديد\": \" \", \n",
    "                                   \"لا  ا‏علم\": \" \", \n",
    "                                    \" 0\": \" \", \n",
    "                                    \"الاف\": \" \", \n",
    "                                   \"الف سنويا\": \" \",       }, inplace=True)"
   ]
  },
  {
   "cell_type": "code",
   "execution_count": 43,
   "id": "752fde52",
   "metadata": {},
   "outputs": [],
   "source": [
    "df['Car_Speedometer_txt'].replace({ \"0\": \" \",        }, inplace=True)"
   ]
  },
  {
   "cell_type": "code",
   "execution_count": 44,
   "id": "7c6ea008",
   "metadata": {},
   "outputs": [
    {
     "data": {
      "text/plain": [
       "        4802\n",
       "1000     115\n",
       "0          6\n",
       "Name: Car_Speedometer_txt, dtype: int64"
      ]
     },
     "execution_count": 44,
     "metadata": {},
     "output_type": "execute_result"
    }
   ],
   "source": [
    "df['Car_Speedometer_txt'].value_counts()"
   ]
  },
  {
   "cell_type": "code",
   "execution_count": 45,
   "id": "5bd0f751",
   "metadata": {},
   "outputs": [
    {
     "data": {
      "text/plain": [
       "array([' ', nan, 1000, 0], dtype=object)"
      ]
     },
     "execution_count": 45,
     "metadata": {},
     "output_type": "execute_result"
    }
   ],
   "source": [
    "df['Car_Speedometer_txt'].unique()"
   ]
  },
  {
   "cell_type": "code",
   "execution_count": 46,
   "id": "40289899",
   "metadata": {},
   "outputs": [
    {
     "data": {
      "text/plain": [
       "0          \n",
       "3          \n",
       "4       NaN\n",
       "6          \n",
       "7          \n",
       "       ... \n",
       "7771       \n",
       "7772       \n",
       "7773       \n",
       "7774       \n",
       "7776       \n",
       "Name: Car_Speedometer_txt, Length: 6864, dtype: object"
      ]
     },
     "execution_count": 46,
     "metadata": {},
     "output_type": "execute_result"
    }
   ],
   "source": [
    "df['Car_Speedometer_txt']"
   ]
  },
  {
   "cell_type": "code",
   "execution_count": 47,
   "id": "70085775",
   "metadata": {},
   "outputs": [
    {
     "data": {
      "text/plain": [
       "0         75000\n",
       "3        130000\n",
       "4           NaN\n",
       "6           NaN\n",
       "7         38000\n",
       "         ...   \n",
       "7771     130000\n",
       "7772      00000\n",
       "7773      50000\n",
       "7774        100\n",
       "7776    7686866\n",
       "Name: Car_Speedometer1, Length: 6864, dtype: object"
      ]
     },
     "execution_count": 47,
     "metadata": {},
     "output_type": "execute_result"
    }
   ],
   "source": [
    "df['Car_Speedometer1']"
   ]
  },
  {
   "cell_type": "code",
   "execution_count": 48,
   "id": "4ff7b1e9",
   "metadata": {},
   "outputs": [
    {
     "name": "stdout",
     "output_type": "stream",
     "text": [
      "0         75000\n",
      "3        130000\n",
      "4           NaN\n",
      "6          شغال\n",
      "7         38000\n",
      "         ...   \n",
      "7771     130000\n",
      "7772      00000\n",
      "7773      50000\n",
      "7774        100\n",
      "7776    7686866\n",
      "Name: Car_Speedometer, Length: 6864, dtype: object 0         75000\n",
      "3        130000\n",
      "4           NaN\n",
      "6           NaN\n",
      "7         38000\n",
      "         ...   \n",
      "7771     130000\n",
      "7772      00000\n",
      "7773      50000\n",
      "7774        100\n",
      "7776    7686866\n",
      "Name: Car_Speedometer1, Length: 6864, dtype: object 0          \n",
      "3          \n",
      "4       NaN\n",
      "6          \n",
      "7          \n",
      "       ... \n",
      "7771       \n",
      "7772       \n",
      "7773       \n",
      "7774       \n",
      "7776       \n",
      "Name: Car_Speedometer_txt, Length: 6864, dtype: object\n"
     ]
    }
   ],
   "source": [
    "print(df['Car_Speedometer'],df['Car_Speedometer1'],df['Car_Speedometer_txt'])"
   ]
  },
  {
   "cell_type": "code",
   "execution_count": 49,
   "id": "69a86a86",
   "metadata": {},
   "outputs": [],
   "source": [
    "df['Car_Speedometer_txt1'] = df.Car_Speedometer_txt.str.extract(r'(\\d+[.\\d]*)')"
   ]
  },
  {
   "cell_type": "code",
   "execution_count": 50,
   "id": "54cb108c",
   "metadata": {},
   "outputs": [
    {
     "data": {
      "text/plain": [
       "0       NaN\n",
       "3       NaN\n",
       "4       NaN\n",
       "6       NaN\n",
       "7       NaN\n",
       "       ... \n",
       "7771    NaN\n",
       "7772    NaN\n",
       "7773    NaN\n",
       "7774    NaN\n",
       "7776    NaN\n",
       "Name: Car_Speedometer_txt1, Length: 6864, dtype: object"
      ]
     },
     "execution_count": 50,
     "metadata": {},
     "output_type": "execute_result"
    }
   ],
   "source": [
    "df['Car_Speedometer_txt1']"
   ]
  },
  {
   "cell_type": "code",
   "execution_count": 51,
   "id": "5b97c9aa",
   "metadata": {},
   "outputs": [
    {
     "data": {
      "text/plain": [
       "Series([], Name: Car_Speedometer_txt1, dtype: int64)"
      ]
     },
     "execution_count": 51,
     "metadata": {},
     "output_type": "execute_result"
    }
   ],
   "source": [
    "df['Car_Speedometer_txt1'].value_counts()"
   ]
  },
  {
   "cell_type": "code",
   "execution_count": 52,
   "id": "60b0e2da",
   "metadata": {},
   "outputs": [],
   "source": [
    "df.to_excel('Test_Car_Speedometer.xlsx', index=False)"
   ]
  },
  {
   "cell_type": "code",
   "execution_count": 53,
   "id": "8585bee8",
   "metadata": {},
   "outputs": [
    {
     "data": {
      "text/plain": [
       "فلسطينية      6789\n",
       "نمرة صفراء      75\n",
       "Name: Driving_License, dtype: int64"
      ]
     },
     "execution_count": 53,
     "metadata": {},
     "output_type": "execute_result"
    }
   ],
   "source": [
    "df['Driving_License'].value_counts()"
   ]
  },
  {
   "cell_type": "code",
   "execution_count": 54,
   "id": "3d2f4203",
   "metadata": {},
   "outputs": [],
   "source": [
    "df['Driving_License'] = df['Driving_License'].str.strip()\n",
    "df['Driving_License'].replace({ \"فلسطينية\": \"Palestinian\",\n",
    "                                    \"نمرة صفراء\": \"Non_Palestinian\",                }, inplace=True)\n",
    "            ##نمرة صفراء == non pal                     "
   ]
  },
  {
   "cell_type": "code",
   "execution_count": 55,
   "id": "91c9c5b1",
   "metadata": {},
   "outputs": [
    {
     "data": {
      "text/plain": [
       "Palestinian        6789\n",
       "Non_Palestinian      75\n",
       "Name: Driving_License, dtype: int64"
      ]
     },
     "execution_count": 55,
     "metadata": {},
     "output_type": "execute_result"
    }
   ],
   "source": [
    "df['Driving_License'].value_counts()"
   ]
  },
  {
   "cell_type": "code",
   "execution_count": 56,
   "id": "0e358f8f",
   "metadata": {},
   "outputs": [
    {
     "data": {
      "text/plain": [
       "خصوصي          5833\n",
       "عمومي           580\n",
       "تجاري           189\n",
       "تأجير           128\n",
       "حكومي            96\n",
       "تدريب سياقة      38\n",
       "Name: Car_Origin, dtype: int64"
      ]
     },
     "execution_count": 56,
     "metadata": {},
     "output_type": "execute_result"
    }
   ],
   "source": [
    "df['Car_Origin'].value_counts()"
   ]
  },
  {
   "cell_type": "code",
   "execution_count": 57,
   "id": "ac6aa53b",
   "metadata": {},
   "outputs": [],
   "source": [
    "df['Car_Origin'] = df['Car_Origin'].str.strip()\n",
    "df['Car_Origin'].replace({ \"خصوصي\": \"private\",\n",
    "                                    \"عمومي\": \"public\",\n",
    "                                \"تجاري\": \"Tegari\",\n",
    "                                    \"تأجير\": \"Leasing\",\n",
    "                                \"حكومي\": \"governmental\",\n",
    "                                    \"تدريب سياقة\": \"training\",            }, inplace=True)"
   ]
  },
  {
   "cell_type": "code",
   "execution_count": 58,
   "id": "7f799bc0",
   "metadata": {},
   "outputs": [
    {
     "data": {
      "text/plain": [
       "private         5833\n",
       "public           580\n",
       "Tegari           189\n",
       "Leasing          128\n",
       "governmental      96\n",
       "training          38\n",
       "Name: Car_Origin, dtype: int64"
      ]
     },
     "execution_count": 58,
     "metadata": {},
     "output_type": "execute_result"
    }
   ],
   "source": [
    "df['Car_Origin'].value_counts()"
   ]
  },
  {
   "cell_type": "code",
   "execution_count": 59,
   "id": "0cc3bc12",
   "metadata": {},
   "outputs": [
    {
     "data": {
      "text/plain": [
       "array(['أبيض عاجي', 'سكني', 'بيج', 'فضي', 'أسود', 'بترولي', 'أبيض',\n",
       "       'أسود ميتالك', 'ذهبي', 'فيراني', 'أحمر', 'أزرق', 'أزرق سماوي',\n",
       "       'رمادي', 'عدة الوان', 'رصاصي', 'برتقالي', 'أخضر', 'بني', 'خمري',\n",
       "       'كحلي', 'زيتي', 'بنفسجي', 'جيشي', 'أصفر', 'كرميدي'], dtype=object)"
      ]
     },
     "execution_count": 59,
     "metadata": {},
     "output_type": "execute_result"
    }
   ],
   "source": [
    "df['Car_Color'].unique()"
   ]
  },
  {
   "cell_type": "code",
   "execution_count": 60,
   "id": "2ab8567d",
   "metadata": {},
   "outputs": [],
   "source": [
    "df['Car_Color'] = df['Car_Color'].str.strip()\n",
    "\n",
    "df['Car_Color'].replace({\n",
    "    \"فضي\": \"سكني\",\n",
    "    \"فيراني\": \"سكني\",\n",
    "    \"رمادي\": \"سكني\",\n",
    "    \"رصاصي\": \"سكني\",\n",
    "    \"جيشي\": \"أخضر\",\n",
    "    \"أبيض عاجي\": \"أبيض\",\n",
    "    \"أسود ميتالك\": \"أسود\",\n",
    "    \"أزرق سماوي\": \"أزرق\",\n",
    "       \"خمري\": \"أحمر\",\n",
    "    \"زيتي\": \"أخضر\",\n",
    "    \"كرميدي\": \"بني\",\n",
    "     \"ذهبي\": \"أصفر\",           }, inplace=True)"
   ]
  },
  {
   "cell_type": "code",
   "execution_count": 61,
   "id": "6c4b5f15",
   "metadata": {},
   "outputs": [
    {
     "data": {
      "text/plain": [
       "array(['أبيض', 'سكني', 'بيج', 'أسود', 'بترولي', 'أصفر', 'أحمر', 'أزرق',\n",
       "       'عدة الوان', 'برتقالي', 'أخضر', 'بني', 'كحلي', 'بنفسجي'],\n",
       "      dtype=object)"
      ]
     },
     "execution_count": 61,
     "metadata": {},
     "output_type": "execute_result"
    }
   ],
   "source": [
    "df['Car_Color'].unique()"
   ]
  },
  {
   "cell_type": "code",
   "execution_count": 62,
   "id": "0836e62b",
   "metadata": {},
   "outputs": [],
   "source": [
    "df['Car_Color'] = df['Car_Color'].str.strip()\n",
    "\n",
    "df['Car_Color'].replace({\n",
    "     \"أبيض\" :\"white\" ,\n",
    "   \"سكني\": \"Grey\",\n",
    "     \"بيج\":\"beige\",\n",
    "     \"أسود\":\"black\",\n",
    "    \"بترولي\":\"petroleum\" ,\n",
    "     \"أصفر\":\"yellow\",\n",
    "     \"أحمر\":\"red\",\n",
    "     \"أزرق\":\"blue\",\n",
    "        \"عدة الوان\":\"several colors\",\n",
    "     \"بنفسجي\":\"purple\",\n",
    "     \"كحلي\":\"navy blue\",\n",
    "      \"بني\":\"brown\",\n",
    "     \"أخضر\":\"green\",\n",
    "      \"برتقالي\":\"orange\",           }, inplace=True)"
   ]
  },
  {
   "cell_type": "code",
   "execution_count": 63,
   "id": "fa76e91d",
   "metadata": {},
   "outputs": [
    {
     "data": {
      "text/plain": [
       "white             2117\n",
       "Grey              2035\n",
       "black              950\n",
       "blue               430\n",
       "red                388\n",
       "navy blue          214\n",
       "green              161\n",
       "yellow             160\n",
       "brown              125\n",
       "petroleum          106\n",
       "beige               72\n",
       "several colors      55\n",
       "orange              35\n",
       "purple              16\n",
       "Name: Car_Color, dtype: int64"
      ]
     },
     "execution_count": 63,
     "metadata": {},
     "output_type": "execute_result"
    }
   ],
   "source": [
    "df['Car_Color'].value_counts()"
   ]
  },
  {
   "cell_type": "code",
   "execution_count": 64,
   "id": "909c2151",
   "metadata": {},
   "outputs": [
    {
     "data": {
      "text/plain": [
       "array(['بنزين', 'ديزل', 'هايبرد', 'كهرباء'], dtype=object)"
      ]
     },
     "execution_count": 64,
     "metadata": {},
     "output_type": "execute_result"
    }
   ],
   "source": [
    "df['Fuel_Type'].unique()"
   ]
  },
  {
   "cell_type": "code",
   "execution_count": 65,
   "id": "20506d33",
   "metadata": {},
   "outputs": [
    {
     "data": {
      "text/plain": [
       "array(['petrol', 'diesel', 'Hybrid', 'electricity'], dtype=object)"
      ]
     },
     "execution_count": 65,
     "metadata": {},
     "output_type": "execute_result"
    }
   ],
   "source": [
    "df['Fuel_Type'] = df['Fuel_Type'].str.strip()\n",
    "\n",
    "df['Fuel_Type'].replace({\n",
    "     \"بنزين\" :\"petrol\" ,\n",
    "   \"ديزل\": \"diesel\",\n",
    "     \"هايبرد\":\"Hybrid\",\n",
    "     \"كهرباء\":\"electricity\",   }, inplace=True)\n",
    "\n",
    "df['Fuel_Type'].unique()"
   ]
  },
  {
   "cell_type": "code",
   "execution_count": 66,
   "id": "4899d0fd",
   "metadata": {},
   "outputs": [
    {
     "data": {
      "text/plain": [
       "اوتوماتيك        3623\n",
       "عادي             3061\n",
       "نصف اوتوماتيك     180\n",
       "Name: Lime_Type, dtype: int64"
      ]
     },
     "execution_count": 66,
     "metadata": {},
     "output_type": "execute_result"
    }
   ],
   "source": [
    "df['Lime_Type'].value_counts()"
   ]
  },
  {
   "cell_type": "code",
   "execution_count": 67,
   "id": "39d3aac2",
   "metadata": {},
   "outputs": [
    {
     "data": {
      "text/plain": [
       "Automatic         3623\n",
       "normal            3061\n",
       "Semi automatic     180\n",
       "Name: Lime_Type, dtype: int64"
      ]
     },
     "execution_count": 67,
     "metadata": {},
     "output_type": "execute_result"
    }
   ],
   "source": [
    "df['Lime_Type'] = df['Lime_Type'].str.strip()\n",
    "\n",
    "df['Lime_Type'].replace({\n",
    "     \"اوتوماتيك\" :\"Automatic\" ,\n",
    "     \"عادي\": \"normal\",\n",
    "     \"نصف اوتوماتيك\":\"Semi automatic\",      }, inplace=True)\n",
    "\n",
    "df['Lime_Type'].value_counts()"
   ]
  },
  {
   "cell_type": "code",
   "execution_count": 68,
   "id": "68077a94",
   "metadata": {},
   "outputs": [
    {
     "data": {
      "text/plain": [
       "الكتروني    6338\n",
       "يدوي         526\n",
       "Name: Glass_Type, dtype: int64"
      ]
     },
     "execution_count": 68,
     "metadata": {},
     "output_type": "execute_result"
    }
   ],
   "source": [
    "df['Glass_Type'].value_counts()"
   ]
  },
  {
   "cell_type": "code",
   "execution_count": 69,
   "id": "851c6fef",
   "metadata": {},
   "outputs": [
    {
     "data": {
      "text/plain": [
       "electronic    6338\n",
       "Manual         526\n",
       "Name: Glass_Type, dtype: int64"
      ]
     },
     "execution_count": 69,
     "metadata": {},
     "output_type": "execute_result"
    }
   ],
   "source": [
    "df['Glass_Type'] = df['Glass_Type'].str.strip()\n",
    "\n",
    "df['Glass_Type'].replace({\n",
    "     \"الكتروني\" :\"electronic\" ,\n",
    "     \"يدوي\": \"Manual\",          }, inplace=True)\n",
    "\n",
    "df['Glass_Type'].value_counts()"
   ]
  },
  {
   "cell_type": "code",
   "execution_count": 70,
   "id": "9fe00e59",
   "metadata": {},
   "outputs": [
    {
     "data": {
      "text/plain": [
       "نقدا               4323\n",
       "إمكانية التقسيط    2541\n",
       "Name: Payment_Method, dtype: int64"
      ]
     },
     "execution_count": 70,
     "metadata": {},
     "output_type": "execute_result"
    }
   ],
   "source": [
    "df['Payment_Method'].value_counts()"
   ]
  },
  {
   "cell_type": "code",
   "execution_count": 71,
   "id": "a283d394",
   "metadata": {},
   "outputs": [
    {
     "data": {
      "text/plain": [
       "cash           4323\n",
       "Installment    2541\n",
       "Name: Payment_Method, dtype: int64"
      ]
     },
     "execution_count": 71,
     "metadata": {},
     "output_type": "execute_result"
    }
   ],
   "source": [
    "df['Payment_Method'] = df['Payment_Method'].str.strip()\n",
    "\n",
    "df['Payment_Method'].replace({\n",
    "     \"نقدا\" :\"cash\" ,\n",
    "   \"إمكانية التقسيط\": \"Installment\",      }, inplace=True)\n",
    "\n",
    "df['Payment_Method'].value_counts()"
   ]
  },
  {
   "cell_type": "code",
   "execution_count": 72,
   "id": "422758be",
   "metadata": {},
   "outputs": [
    {
     "data": {
      "text/plain": [
       "للبيع               4209\n",
       "للبيع أو التبديل    2596\n",
       "للتبديل               59\n",
       "Name: Shown_Status, dtype: int64"
      ]
     },
     "execution_count": 72,
     "metadata": {},
     "output_type": "execute_result"
    }
   ],
   "source": [
    "df['Shown_Status'].value_counts()"
   ]
  },
  {
   "cell_type": "code",
   "execution_count": 73,
   "id": "c213c134",
   "metadata": {},
   "outputs": [
    {
     "data": {
      "text/plain": [
       "For_sale            4209\n",
       "Sell_or_exchange    2596\n",
       "To_switch             59\n",
       "Name: Shown_Status, dtype: int64"
      ]
     },
     "execution_count": 73,
     "metadata": {},
     "output_type": "execute_result"
    }
   ],
   "source": [
    "df['Shown_Status'] = df['Shown_Status'].str.strip()\n",
    "df['Shown_Status'].replace({\n",
    "     \"للبيع\": \"For_sale \" ,\n",
    "     \"للبيع أو التبديل\":\"Sell_or_exchange\" ,\n",
    "     \"للتبديل\": \"To_switch \",        }, inplace=True)\n",
    "\n",
    "df['Shown_Status'].value_counts()"
   ]
  },
  {
   "cell_type": "code",
   "execution_count": 74,
   "id": "f3f5a393",
   "metadata": {},
   "outputs": [
    {
     "data": {
      "text/plain": [
       "For_sale            4209\n",
       "Sell_or_exchange    2596\n",
       "To_switch             59\n",
       "Name: Shown_Status, dtype: int64"
      ]
     },
     "execution_count": 74,
     "metadata": {},
     "output_type": "execute_result"
    }
   ],
   "source": [
    "df['Shown_Status'].value_counts()"
   ]
  },
  {
   "cell_type": "code",
   "execution_count": 75,
   "id": "2d4a0b31",
   "metadata": {},
   "outputs": [],
   "source": [
    "df['Previous_Owners1'] = df.Previous_Owners.str.extract(r'(\\d+[.\\d]*)')"
   ]
  },
  {
   "cell_type": "code",
   "execution_count": 76,
   "id": "7f1bf5a0",
   "metadata": {},
   "outputs": [],
   "source": [
    "df['Previous_Owners_txt'] = df['Previous_Owners'].str.replace(r'(\\d+[.\\d]*)', '', regex=True)"
   ]
  },
  {
   "cell_type": "code",
   "execution_count": 77,
   "id": "2da157c6",
   "metadata": {},
   "outputs": [
    {
     "data": {
      "text/plain": [
       "218"
      ]
     },
     "execution_count": 77,
     "metadata": {},
     "output_type": "execute_result"
    }
   ],
   "source": [
    "len(df['Previous_Owners_txt'].unique())"
   ]
  },
  {
   "cell_type": "code",
   "execution_count": 78,
   "id": "cf2a5768",
   "metadata": {},
   "outputs": [
    {
     "data": {
      "text/plain": [
       "278"
      ]
     },
     "execution_count": 78,
     "metadata": {},
     "output_type": "execute_result"
    }
   ],
   "source": [
    "len(df.Previous_Owners.value_counts())"
   ]
  },
  {
   "cell_type": "code",
   "execution_count": 79,
   "id": "e5ad3211",
   "metadata": {},
   "outputs": [
    {
     "data": {
      "text/html": [
       "<div>\n",
       "<style scoped>\n",
       "    .dataframe tbody tr th:only-of-type {\n",
       "        vertical-align: middle;\n",
       "    }\n",
       "\n",
       "    .dataframe tbody tr th {\n",
       "        vertical-align: top;\n",
       "    }\n",
       "\n",
       "    .dataframe thead th {\n",
       "        text-align: right;\n",
       "    }\n",
       "</style>\n",
       "<table border=\"1\" class=\"dataframe\">\n",
       "  <thead>\n",
       "    <tr style=\"text-align: right;\">\n",
       "      <th></th>\n",
       "      <th>Model_Year</th>\n",
       "      <th>Motor_Power</th>\n",
       "      <th>Age</th>\n",
       "    </tr>\n",
       "  </thead>\n",
       "  <tbody>\n",
       "    <tr>\n",
       "      <th>count</th>\n",
       "      <td>6864.000000</td>\n",
       "      <td>6864.000000</td>\n",
       "      <td>6864.000000</td>\n",
       "    </tr>\n",
       "    <tr>\n",
       "      <th>mean</th>\n",
       "      <td>2008.616259</td>\n",
       "      <td>1740.494755</td>\n",
       "      <td>14.383741</td>\n",
       "    </tr>\n",
       "    <tr>\n",
       "      <th>std</th>\n",
       "      <td>8.690874</td>\n",
       "      <td>589.470714</td>\n",
       "      <td>8.690874</td>\n",
       "    </tr>\n",
       "    <tr>\n",
       "      <th>min</th>\n",
       "      <td>1967.000000</td>\n",
       "      <td>106.000000</td>\n",
       "      <td>1.000000</td>\n",
       "    </tr>\n",
       "    <tr>\n",
       "      <th>25%</th>\n",
       "      <td>2005.000000</td>\n",
       "      <td>1400.000000</td>\n",
       "      <td>8.000000</td>\n",
       "    </tr>\n",
       "    <tr>\n",
       "      <th>50%</th>\n",
       "      <td>2011.000000</td>\n",
       "      <td>1600.000000</td>\n",
       "      <td>12.000000</td>\n",
       "    </tr>\n",
       "    <tr>\n",
       "      <th>75%</th>\n",
       "      <td>2015.000000</td>\n",
       "      <td>2000.000000</td>\n",
       "      <td>18.000000</td>\n",
       "    </tr>\n",
       "    <tr>\n",
       "      <th>max</th>\n",
       "      <td>2022.000000</td>\n",
       "      <td>9000.000000</td>\n",
       "      <td>56.000000</td>\n",
       "    </tr>\n",
       "  </tbody>\n",
       "</table>\n",
       "</div>"
      ],
      "text/plain": [
       "        Model_Year  Motor_Power          Age\n",
       "count  6864.000000  6864.000000  6864.000000\n",
       "mean   2008.616259  1740.494755    14.383741\n",
       "std       8.690874   589.470714     8.690874\n",
       "min    1967.000000   106.000000     1.000000\n",
       "25%    2005.000000  1400.000000     8.000000\n",
       "50%    2011.000000  1600.000000    12.000000\n",
       "75%    2015.000000  2000.000000    18.000000\n",
       "max    2022.000000  9000.000000    56.000000"
      ]
     },
     "execution_count": 79,
     "metadata": {},
     "output_type": "execute_result"
    }
   ],
   "source": [
    "df.describe()"
   ]
  },
  {
   "cell_type": "code",
   "execution_count": 80,
   "id": "706d2b6f",
   "metadata": {},
   "outputs": [
    {
     "data": {
      "text/plain": [
       "841"
      ]
     },
     "execution_count": 80,
     "metadata": {},
     "output_type": "execute_result"
    }
   ],
   "source": [
    "len(df.Car_Speedometer1.value_counts())"
   ]
  },
  {
   "cell_type": "code",
   "execution_count": 81,
   "id": "2c565a24",
   "metadata": {},
   "outputs": [
    {
     "data": {
      "text/plain": [
       "100000     117\n",
       "200000     112\n",
       "00000       83\n",
       "75000       81\n",
       "50000       79\n",
       "          ... \n",
       "123126       1\n",
       "263200       1\n",
       "16352        1\n",
       "124456       1\n",
       "7686866      1\n",
       "Name: Car_Speedometer1, Length: 841, dtype: int64"
      ]
     },
     "execution_count": 81,
     "metadata": {},
     "output_type": "execute_result"
    }
   ],
   "source": [
    "df['Car_Speedometer1'].value_counts()"
   ]
  },
  {
   "cell_type": "code",
   "execution_count": 82,
   "id": "d49df3ed",
   "metadata": {},
   "outputs": [
    {
     "data": {
      "text/plain": [
       "array(['75000', '130000', nan, '38000', '123456', '50000', '56000',\n",
       "       '460000', '45000', '70000', '79000', '000', '150', '210000', '1',\n",
       "       '20000', '00000000000000000', '113000', '33000', '122',\n",
       "       '00000000000000', '22000', '150000', '29000', '123457', '250000',\n",
       "       '140000', '122000', '78000', '00000', '900000', '7', '00000000',\n",
       "       '65000', '190', '184000', '200', '30000', '295000', '60000',\n",
       "       '143212', '43000', '71', '160000', '4000', '121000', '9900', '260',\n",
       "       '0000', '80', '200000', '60', '124000', '120000', '100000',\n",
       "       '90000', '000000', '99', '82000', '32123123', '120', '166000',\n",
       "       '275000', '82700', '123000', '500000', '18000000', '80000',\n",
       "       '87000', '110000', '350000', '700000', '55', '400000', '35000',\n",
       "       '380000', '167000', '140', '160', '123456789', '111111', '94000',\n",
       "       '90', '46000', '82', '51', '280000', '115', '300000', '41000',\n",
       "       '196000', '274000', '2000', '136000', '116000', '13700', '132',\n",
       "       '54000', '40', '72000', '12345', '133000', '157', '47', '71000',\n",
       "       '132000', '180000', '47000', '999855', '52000', '5', '30',\n",
       "       '165500', '40000', '256664', '109000', '100', '39000', '190000',\n",
       "       '113500', '74000', '2000000', '91000', '620', '51000', '1600',\n",
       "       '1111111', '363636', '220', '490000', '48000', '159000',\n",
       "       '000000000000', '000000000', '68000', '950000', '93000', '290090',\n",
       "       '58000', '36000', '800000', '350', '10000', '16000', '105000',\n",
       "       '32000', '150000000', '12000', '44000', '84000', '67000', '290000',\n",
       "       '63000', '85', '240', '29500', '8000', '5500', '1234566677',\n",
       "       '41500', '76000', '24000', '492000', '56', '42000', '195000',\n",
       "       '18000', '62000', '101', '1234', '230240', '64000', '164000',\n",
       "       '145000', '0000000', '95000', '25000', '308654', '4', '250.000',\n",
       "       '33158', '3000', '48', '102000', '17000', '114000', '207000',\n",
       "       '280', '34000', '00', '123', '100405', '20000000', '10002',\n",
       "       '15000', '185', '57000', '0012345', '0000000000', '83000', '11111',\n",
       "       '6666', '119', '400', '999999', '98000', '880000', '120076',\n",
       "       '1000', '135000', '91', '22222222', '134000', '5555444',\n",
       "       '0000000112315', '99999', '45555', '145', '180', '1354000',\n",
       "       '550000', '5400', '18', '85000', '61000', '1234567', '3211230',\n",
       "       '142', '2123047', '7777777', '77755578', '77000', '300', '165',\n",
       "       '69000', '0', '666666', '440000', '170000', '119000', '39',\n",
       "       '115000', '170', '98800', '69', '790000', '27', '125000', '199000',\n",
       "       '78', '143', '49000', '145820', '73000', '230', '52', '13500',\n",
       "       '230000', '31000', '777', '68515', '0000014', '92000', '800', '14',\n",
       "       '2500000', '319763', '107', '7500', '650', '202000', '187453',\n",
       "       '66000', '37000', '112', '129000', '14000', '678890', '710000',\n",
       "       '139000', '450000', '19000', '13000', '89700', '23000', '123888',\n",
       "       '21000', '133', '675000', '445000', '169000', '175000', '87400',\n",
       "       '23821', '92', '112000', '78567', '168000', '186000', '183737',\n",
       "       '555555', '38800', '54357', '130', '183000', '97000', '35',\n",
       "       '896000', '88000', '11', '126000', '165000', '67.7', '12345677',\n",
       "       '108000', '10800', '141540', '55000', '28000', '20003', '244789',\n",
       "       '220000', '1000000', '87689', '118000', '70', '176000', '50',\n",
       "       '24489', '210', '90990800', '09877890', '360', '45', '135',\n",
       "       '185000', '13', '49', '757575', '750000', '172', '95', '19',\n",
       "       '11467', '556677', '33360', '216560', '67', '58700', '98', '9977',\n",
       "       '144000', '106000', '152000', '75458', '360000', '162000',\n",
       "       '5600000000', '141000', '44', '53', '44555', '700', '155000',\n",
       "       '320000', '1300000', '500', '884000', '27000', '20', '117000',\n",
       "       '111000', '81000', '125326', '24', '137000', '228000', '71500',\n",
       "       '161000', '146009', '54566', '188000', '153000', '240000',\n",
       "       '255000', '0000000000000', '264400', '42', '156000', '1466789',\n",
       "       '270000', '0000000000000000000005', '213000', '23100', '9999',\n",
       "       '58', '200069', '89000', '7000', '77', '207767', '107000',\n",
       "       '284922', '182000', '257', '00008800', '4444444444', '79', '57',\n",
       "       '770000', '8500', '65', '199999', '46500', '125', '13366',\n",
       "       '470000', '63', '211000', '345667', '11000', '26000', '777777',\n",
       "       '83', '363000', '128', '74500', '250', '1230000', '148', '480000',\n",
       "       '209557', '3500', '5000', '9500', '118567', '152', '870000',\n",
       "       '176403', '19900', '60.000', '59000', '15', '277000', '1100000',\n",
       "       '32343', '163000', '53000', '750', '600000', '275', '526325',\n",
       "       '821111', '1111', '219', '215000', '157000', '103106', '94500',\n",
       "       '121212', '00000000000', '298000', '203000', '260000', '148372',\n",
       "       '40300', '197000', '160542', '127000', '65788879999', '120678',\n",
       "       '124456', '16352', '263200', '123126', '16822', '22', '450',\n",
       "       '808887', '25', '138000', '540000', '117', '87', '262000',\n",
       "       '7500000', '17590', '1500', '127654', '427374', '251', '192',\n",
       "       '105', '103000', '245', '420000', '155555', '86000', '9000',\n",
       "       '9999999', '26134', '1800000', '684186', '192000', '3000000',\n",
       "       '222', '147000', '99500', '158000', '4500', '88', '2356880', '33',\n",
       "       '175', '131000', '110', '445677', '11112222', '1600000', '032538',\n",
       "       '56666', '46', '6000000', '96000', '116', '142312', '142000',\n",
       "       '340000', '628939', '3001111', '227000', '3333', '9', '233', '93',\n",
       "       '213466', '1233', '146000', '285', '290', '180.000', '16200',\n",
       "       '2600', '800009966544', '60380', '65500', '68', '1007', '198000',\n",
       "       '56754', '225000', '149000', '64890075', '17990', '32', '385000',\n",
       "       '370000', '37500', '30.000', '6112345', '580000', '23', '66600',\n",
       "       '43', '245000', '999000', '201788', '141300', '270', '148000',\n",
       "       '38', '91500', '24489057', '75', '129100', '12452', '111111111111',\n",
       "       '48990', '56700', '28800', '34', '85600', '147', '101000',\n",
       "       '187000', '118', '94400', '4444', '320', '8580050', '505040',\n",
       "       '2400000', '620000', '16707', '20266', '250882', '23500', '259',\n",
       "       '47500', '131', '179000', '224000', '113', '400000000', '75218',\n",
       "       '163', '181000', '76484983', '73', '103151', '13600', '174',\n",
       "       '1800', '128000', '143000', '104000', '62', '677773', '667890',\n",
       "       '1900', '1008', '1660000', '249000', '267', '89', '235000',\n",
       "       '18500', '0000000009', '108', '874757', '75500', '1234000',\n",
       "       '7667888', '11111111', '6700', '64', '172000', '216578', '47900',\n",
       "       '177000', '26', '122457846', '1001', '390', '218000', '8550',\n",
       "       '7568554499', '66', '6200000', '186', '121', '222000', '246000',\n",
       "       '6000', '1038', '777777777', '1244', '90.000', '360000000',\n",
       "       '8546541', '1233445', '173000', '20.000', '50000000', '194000',\n",
       "       '123577', '11700', '865543', '227500', '156', '11111111111111',\n",
       "       '17900', '154000', '286000', '19500', '49500', '123455', '418000',\n",
       "       '3700', '164', '1850000', '100000000000', '127', '8654',\n",
       "       '9999999999', '80500', '14128', '113800', '188', '122456',\n",
       "       '200000000', '15300', '60800', '352688875', '458000', '16900',\n",
       "       '4445', '36', '530000', '0010000001', '65288', '123356', '25880',\n",
       "       '144', '233000', '315000', '10006', '241000', '100007', '106',\n",
       "       '00658', '253000', '85650', '102500', '4700', '265000', '99000',\n",
       "       '46554', '20400', '5000000', '520000', '339900', '435675',\n",
       "       '5855558', '88555855', '34765', '189000', '0000000000000000',\n",
       "       '326000', '58041', '14300', '21500', '158', '242000', '150.000',\n",
       "       '390000', '17500', '215', '12222', '16956', '133400', '264000',\n",
       "       '39600', '226', '194045', '193000', '330000', '1040', '354000',\n",
       "       '52555', '33500', '8568996', '177314', '232', '35555', '368586',\n",
       "       '229000', '35432', '103', '167', '42315', '544321', '62500', '288',\n",
       "       '16500', '80435', '170465', '205', '94996', '179',\n",
       "       '6006869666666686855888', '24500', '124', '12345568900', '0500000',\n",
       "       '300.00', '178000', '36500', '55432', '305069', '297000', '6800',\n",
       "       '2888', '7000000', '110.00', '60479', '34578898', '1233456',\n",
       "       '99300', '110665', '167500', '9300', '430000', '390300', '650000',\n",
       "       '84', '14700', '8570000', '272000', '225600', '85225', '151000',\n",
       "       '2121212212', '0088000000', '600', '225', '281021', '5600', '54',\n",
       "       '204000', '28654', '1032', '6500', '297423', '182', '418706',\n",
       "       '232800', '220119', '509', '20461', '10700', '10110', '216705',\n",
       "       '217000', '45321', '205000', '120987', '102', '80.000', '55555555',\n",
       "       '85432', '18765', '000008', '310000', '89999', '174000', '191000',\n",
       "       '466678', '38500', '222222', '177', '7686866'], dtype=object)"
      ]
     },
     "execution_count": 82,
     "metadata": {},
     "output_type": "execute_result"
    }
   ],
   "source": [
    "df['Car_Speedometer1'].unique()"
   ]
  },
  {
   "cell_type": "code",
   "execution_count": 83,
   "id": "344bc12a",
   "metadata": {},
   "outputs": [],
   "source": [
    "df['Car_Speedometer1'].replace({\n",
    "    \"00000000000000000\":\"0\",\n",
    "     \"00000000000000\":\"0\",\n",
    "     \"00000000\":\"0\",\n",
    "     \"00000\":\"0\",\n",
    "     \"000\":\"0\",\n",
    "     \"0000\":\"0\",\n",
    "     \"000000\":\"0\",\n",
    "     \"0000000009\":\"0\",\n",
    "     \"00008800\":\"0\",\n",
    "     \"0000000000000000\":\"0\",\n",
    "     \"0000000000000\":\"0\",\n",
    "     \"0000000000000000000005\":\"0\",\n",
    "     \"000008\":\"0\",\n",
    "     \"0088000000\":\"0\",\n",
    "     \"00000000000\":\"0\",\n",
    "     \"0000014\":\"0\",\n",
    "     \"0000000112315\":\"0\",\n",
    "     \"000000000000\":\"0\",\n",
    "     \"000000000\":\"0\",\n",
    "     \"22222222\":\"0\",\n",
    "     \"0012345\":\"0\",\n",
    "     \"0000000000\":\"0\",\n",
    "     \"0000000\":\"0\",\n",
    "     \"00\":\"0\",\n",
    "     \"6006869666666686855888\":\"0\",         }, inplace=True)"
   ]
  },
  {
   "cell_type": "code",
   "execution_count": 84,
   "id": "1c36ed13",
   "metadata": {},
   "outputs": [
    {
     "data": {
      "text/plain": [
       "فتحة سقف    1815\n",
       "Name: Extras, dtype: int64"
      ]
     },
     "execution_count": 84,
     "metadata": {},
     "output_type": "execute_result"
    }
   ],
   "source": [
    "df.Extras.value_counts()"
   ]
  },
  {
   "cell_type": "code",
   "execution_count": 85,
   "id": "0e7ae014",
   "metadata": {},
   "outputs": [],
   "source": [
    "df['Extras'] = df['Extras'].str.strip()\n",
    "df['Extras'].replace({\n",
    "    \"فتحة سقف\":\"sunroof\",           }, inplace=True)"
   ]
  },
  {
   "cell_type": "code",
   "execution_count": 86,
   "id": "efb3e8d4",
   "metadata": {},
   "outputs": [
    {
     "data": {
      "text/plain": [
       "sunroof    1815\n",
       "Name: Extras, dtype: int64"
      ]
     },
     "execution_count": 86,
     "metadata": {},
     "output_type": "execute_result"
    }
   ],
   "source": [
    "df.Extras.value_counts()"
   ]
  },
  {
   "cell_type": "code",
   "execution_count": 87,
   "id": "8b2def54",
   "metadata": {},
   "outputs": [],
   "source": [
    "# Convert columns to numeric if they contain string values\n",
    "df['Car_Speedometer1'] = pd.to_numeric(df['Car_Speedometer1'], errors='coerce')\n",
    "df['Car_Speedometer_txt'] = pd.to_numeric(df['Car_Speedometer_txt'], errors='coerce')\n",
    "\n",
    "# Create a new column by multiplying the values in parallel\n",
    "condition = df['Car_Speedometer_txt'] == 1000\n",
    "df.loc[condition, 'Car_Speedometer1'] *= 1000"
   ]
  },
  {
   "cell_type": "code",
   "execution_count": 88,
   "id": "fdc2b5aa",
   "metadata": {},
   "outputs": [
    {
     "data": {
      "text/plain": [
       "0"
      ]
     },
     "execution_count": 88,
     "metadata": {},
     "output_type": "execute_result"
    }
   ],
   "source": [
    "len(df.Car_Speedometer_txt1.value_counts())"
   ]
  },
  {
   "cell_type": "code",
   "execution_count": 89,
   "id": "73672183",
   "metadata": {},
   "outputs": [],
   "source": [
    "columns_to_drop = ['Car_Speedometer_txt1', 'Car_Speedometer_txt', 'Car_Speedometer']\n",
    "\n",
    "for column in columns_to_drop:\n",
    "    del df[column]"
   ]
  },
  {
   "cell_type": "code",
   "execution_count": 90,
   "id": "98812a8e",
   "metadata": {},
   "outputs": [
    {
     "data": {
      "text/html": [
       "<div>\n",
       "<style scoped>\n",
       "    .dataframe tbody tr th:only-of-type {\n",
       "        vertical-align: middle;\n",
       "    }\n",
       "\n",
       "    .dataframe tbody tr th {\n",
       "        vertical-align: top;\n",
       "    }\n",
       "\n",
       "    .dataframe thead th {\n",
       "        text-align: right;\n",
       "    }\n",
       "</style>\n",
       "<table border=\"1\" class=\"dataframe\">\n",
       "  <thead>\n",
       "    <tr style=\"text-align: right;\">\n",
       "      <th></th>\n",
       "      <th>File_Name</th>\n",
       "      <th>Car_Name</th>\n",
       "      <th>Model_Year</th>\n",
       "      <th>Price</th>\n",
       "      <th>Car_Color</th>\n",
       "      <th>Fuel_Type</th>\n",
       "      <th>Car_Origin</th>\n",
       "      <th>Driving_License</th>\n",
       "      <th>Lime_Type</th>\n",
       "      <th>Glass_Type</th>\n",
       "      <th>Motor_Power</th>\n",
       "      <th>Passenger_Number</th>\n",
       "      <th>Payment_Method</th>\n",
       "      <th>Shown_Status</th>\n",
       "      <th>Previous_Owners</th>\n",
       "      <th>Extras</th>\n",
       "      <th>Age</th>\n",
       "      <th>Car_Speedometer1</th>\n",
       "      <th>Previous_Owners1</th>\n",
       "      <th>Previous_Owners_txt</th>\n",
       "    </tr>\n",
       "  </thead>\n",
       "  <tbody>\n",
       "    <tr>\n",
       "      <th>0</th>\n",
       "      <td>500118.txt</td>\n",
       "      <td>كيا اوبتيما</td>\n",
       "      <td>2014</td>\n",
       "      <td>100000</td>\n",
       "      <td>white</td>\n",
       "      <td>petrol</td>\n",
       "      <td>private</td>\n",
       "      <td>Palestinian</td>\n",
       "      <td>Automatic</td>\n",
       "      <td>electronic</td>\n",
       "      <td>2000.0</td>\n",
       "      <td>4</td>\n",
       "      <td>cash</td>\n",
       "      <td>For_sale</td>\n",
       "      <td>يد اولى</td>\n",
       "      <td>sunroof</td>\n",
       "      <td>9</td>\n",
       "      <td>75000.0</td>\n",
       "      <td>NaN</td>\n",
       "      <td>يد اولى</td>\n",
       "    </tr>\n",
       "    <tr>\n",
       "      <th>3</th>\n",
       "      <td>500163.txt</td>\n",
       "      <td>كيا سورينتو</td>\n",
       "      <td>2007</td>\n",
       "      <td>60000</td>\n",
       "      <td>Grey</td>\n",
       "      <td>diesel</td>\n",
       "      <td>private</td>\n",
       "      <td>Palestinian</td>\n",
       "      <td>Semi automatic</td>\n",
       "      <td>electronic</td>\n",
       "      <td>2500.0</td>\n",
       "      <td>7</td>\n",
       "      <td>Installment</td>\n",
       "      <td>Sell_or_exchange</td>\n",
       "      <td>2</td>\n",
       "      <td>sunroof</td>\n",
       "      <td>16</td>\n",
       "      <td>130000.0</td>\n",
       "      <td>2</td>\n",
       "      <td></td>\n",
       "    </tr>\n",
       "  </tbody>\n",
       "</table>\n",
       "</div>"
      ],
      "text/plain": [
       "    File_Name     Car_Name  Model_Year    Price Car_Color Fuel_Type  \\\n",
       "0  500118.txt  كيا اوبتيما        2014  100000      white    petrol   \n",
       "3  500163.txt  كيا سورينتو        2007   60000       Grey    diesel   \n",
       "\n",
       "  Car_Origin Driving_License       Lime_Type  Glass_Type  Motor_Power  \\\n",
       "0    private     Palestinian       Automatic  electronic       2000.0   \n",
       "3    private     Palestinian  Semi automatic  electronic       2500.0   \n",
       "\n",
       "  Passenger_Number Payment_Method      Shown_Status Previous_Owners   Extras  \\\n",
       "0                4           cash         For_sale          يد اولى  sunroof   \n",
       "3                7    Installment  Sell_or_exchange               2  sunroof   \n",
       "\n",
       "   Age  Car_Speedometer1 Previous_Owners1 Previous_Owners_txt  \n",
       "0    9           75000.0              NaN             يد اولى  \n",
       "3   16          130000.0                2                      "
      ]
     },
     "execution_count": 90,
     "metadata": {},
     "output_type": "execute_result"
    }
   ],
   "source": [
    "df.head(2)"
   ]
  },
  {
   "cell_type": "code",
   "execution_count": 91,
   "id": "2acbfd6d",
   "metadata": {},
   "outputs": [],
   "source": [
    "def arabic_to_english(text):\n",
    "    arabic_numerals = {'٠': '0', '١': '1', '٢': '2', '٣': '3', '٤': '4', '٥': '5', '٦': '6', '٧': '7', '٨': '8', '٩': '9'}\n",
    "    \n",
    "    if isinstance(text, str):\n",
    "        for arabic, english in arabic_numerals.items():\n",
    "            text = text.replace(arabic, english)\n",
    "    \n",
    "    return text"
   ]
  },
  {
   "cell_type": "code",
   "execution_count": 92,
   "id": "0e2c4d2f",
   "metadata": {},
   "outputs": [],
   "source": [
    "df['Previous_Owners1'] = df['Previous_Owners1'].apply(arabic_to_english)"
   ]
  },
  {
   "cell_type": "code",
   "execution_count": 93,
   "id": "a5243029",
   "metadata": {},
   "outputs": [
    {
     "data": {
      "text/plain": [
       "Index(['File_Name', 'Car_Name', 'Model_Year', 'Price', 'Car_Color',\n",
       "       'Fuel_Type', 'Car_Origin', 'Driving_License', 'Lime_Type', 'Glass_Type',\n",
       "       'Motor_Power', 'Passenger_Number', 'Payment_Method', 'Shown_Status',\n",
       "       'Previous_Owners', 'Extras', 'Age', 'Car_Speedometer1',\n",
       "       'Previous_Owners1', 'Previous_Owners_txt'],\n",
       "      dtype='object')"
      ]
     },
     "execution_count": 93,
     "metadata": {},
     "output_type": "execute_result"
    }
   ],
   "source": [
    "df.columns"
   ]
  },
  {
   "cell_type": "code",
   "execution_count": 94,
   "id": "98ae08e8",
   "metadata": {},
   "outputs": [
    {
     "data": {
      "text/plain": [
       "array([nan, '2', '00', '0', '1', '4', '3', '8', '5', '9', '0000', '6',\n",
       "       '7', '159000', '12', '10', '00000', '11', '03', '56', '13', '16',\n",
       "       '17', '000000', '000', '78888877766', '15', '170000', '18',\n",
       "       '000000000', '00000000', '0000000000', '123423', '14', '04',\n",
       "       '12345', '1000', '00009', '0778244', '19', '11111', '0000000',\n",
       "       '01', '44444'], dtype=object)"
      ]
     },
     "execution_count": 94,
     "metadata": {},
     "output_type": "execute_result"
    }
   ],
   "source": [
    "df['Previous_Owners1'].unique()"
   ]
  },
  {
   "cell_type": "code",
   "execution_count": 95,
   "id": "f9b74d5b",
   "metadata": {},
   "outputs": [
    {
     "data": {
      "image/png": "[encoded data removed]",
      "text/plain": [
       "<Figure size 3000x3000 with 4 Axes>"
      ]
     },
     "metadata": {},
     "output_type": "display_data"
    }
   ],
   "source": [
    "import matplotlib.pyplot as plt  # Import the pyplot module from Matplotlib\n",
    "df.hist(bins=100,figsize=(30,30))\n",
    "plt.show()"
   ]
  },
  {
   "cell_type": "code",
   "execution_count": 96,
   "id": "e20aeab9",
   "metadata": {},
   "outputs": [],
   "source": [
    "df['Previous_Owners1'].replace({\n",
    "    \"00\":\"0\",\n",
    "     \"0000\":\"0\",\n",
    "     \"159000\":\"0\",\n",
    "     \"00000\":\"0\",\n",
    "     \"000000\":\"0\",\n",
    "     \"000\":\"0\",\n",
    "     \"78888877766\":\"0\",\n",
    "       \"170000\":\"0\",\n",
    "     \"000000000\":\"0\",\n",
    "     \"00000000\":\"0\",\n",
    "     \"0000000000\":\"0\",\n",
    "       \"123423\":\"0\",\n",
    "     \"12345\":\"0\",\n",
    "     \"0778244\":\"0\",\n",
    "     \"11111\":\"0\",\n",
    "     \"0000000\":\"0\",\n",
    "     \"44444\":\"0\",\n",
    "     \"01\":\"1\",\n",
    "     \"00009\":\"9\",\n",
    "     \"03\":\"3\",\n",
    "     \"04\":\"4\",\n",
    "     \"1000\":\"0\",\n",
    "     \"56\":\"0\",\n",
    "     \"19\":\"0\",\n",
    "     \"18\":\"0\",\n",
    "     \n",
    "      \n",
    "}, inplace=True)"
   ]
  },
  {
   "cell_type": "code",
   "execution_count": 97,
   "id": "303cc0d4",
   "metadata": {},
   "outputs": [
    {
     "data": {
      "text/plain": [
       "array([nan, '2', '0', '1', '4', '3', '8', '5', '9', '6', '7', '12', '10',\n",
       "       '11', '13', '16', '17', '15', '14'], dtype=object)"
      ]
     },
     "execution_count": 97,
     "metadata": {},
     "output_type": "execute_result"
    }
   ],
   "source": [
    "df['Previous_Owners1'].unique()"
   ]
  },
  {
   "cell_type": "code",
   "execution_count": 98,
   "id": "675cccba",
   "metadata": {},
   "outputs": [
    {
     "data": {
      "text/plain": [
       "2     657\n",
       "3     562\n",
       "1     535\n",
       "0     481\n",
       "4     319\n",
       "5     202\n",
       "6      86\n",
       "7      53\n",
       "8      31\n",
       "9      27\n",
       "10     19\n",
       "12     15\n",
       "11     14\n",
       "15      4\n",
       "17      3\n",
       "13      2\n",
       "16      1\n",
       "14      1\n",
       "Name: Previous_Owners1, dtype: int64"
      ]
     },
     "execution_count": 98,
     "metadata": {},
     "output_type": "execute_result"
    }
   ],
   "source": [
    "df.Previous_Owners1.value_counts()"
   ]
  },
  {
   "cell_type": "code",
   "execution_count": 99,
   "id": "924bd9ad",
   "metadata": {},
   "outputs": [
    {
     "data": {
      "text/plain": [
       "                             2922\n",
       "يد اولى                       596\n",
       "يد ثانية                      236\n",
       "يد ثانيه                      186\n",
       "يد أولى                       147\n",
       "                             ... \n",
       "مستورده يد اولى                 1\n",
       "استراد شخصي                     1\n",
       "@                               1\n",
       "يد اولى صفر كيلو                1\n",
       "يد اولى من الشركة المتحدة       1\n",
       "Name: Previous_Owners_txt, Length: 217, dtype: int64"
      ]
     },
     "execution_count": 99,
     "metadata": {},
     "output_type": "execute_result"
    }
   ],
   "source": [
    "df.Previous_Owners_txt.value_counts()"
   ]
  },
  {
   "cell_type": "code",
   "execution_count": 100,
   "id": "ab8c01ab",
   "metadata": {},
   "outputs": [
    {
     "data": {
      "text/plain": [
       "array(['يد اولى', '', nan, 'يد ثانية', 'يد ثانيه', 'ثالثة',\n",
       "       'غير منمر استيراد الماني', 'غير منمرة', 'أولى', 'يد اولا',\n",
       "       'يد ثالثة', 'ثانية', 'يد أولى', 'يد سادسة', 'اولى', 'صفر', 'رابعه',\n",
       "       'يد رابعة', 'يد ثالثه', '...', 'يد أولى استيراد', 'يد اولي ',\n",
       "       '......', 'ثانيه', 'واحد', 'اربعة', 'اولا', 'غير منمره',\n",
       "       'يد تالته', 'يد رابعه', 'يد ثالثة ( فتيات)', '-', 'مش منمر',\n",
       "       ' مستورده', 'يد تانيه', 'يد ', 'مستورد', 'استيراد مباشر من كوريا',\n",
       "       'يد خامسة', '********', 'نعم', 'مش منمرة', 'يداولى',\n",
       "       'يد أولى وكالة', 'يد خامسه', 'يدو اولى', 'للبيع', 'يد واله',\n",
       "       'مش منمره', 'ثالثه', 'اول', 'رابعة', 'منمره', 'يد ولا', 'يد عاشره',\n",
       "       'يدثانيه', 'لا يوجد', '.', 'لايوجد', 'مستورد شركة', 'ايد ثانيه',\n",
       "       'يد صفر', 'يد اولى شركة', 'استيراد الماني', 'يد. اولى', 'غير منمر',\n",
       "       'يد تاسعة', 'مستود غير منمر', 'اثنان', 'ياولى', 'يد', 'استيراد',\n",
       "       'يد اول', 'يد اولى وكالة', 'يد تاني', 'يد ثني',\n",
       "       'يد اولى  اصل شركة', '.........', 'يدثالثة', 'يد اولي',\n",
       "       'يد اولى اصحاب سابقون ', 'يد خامساً', 'اصحاب سابقون صفر', 'اوله',\n",
       "       'يداولا', 'يد  بس نخب السيارة', 'يد ثالث', 'مش منمرا',\n",
       "       'وارد كوريا يد اولى', 'يد ثاتيه', '**********',\n",
       "       'مستوردة غير مرخصة', 'يد تانية', 'مستوردة', 'صفرض', ' مستورد كوري',\n",
       "       'ايد ', 'يد ولى', 'أيد تانية', 'يد اولى صفر كيلو', '@', 'يدثانية',\n",
       "       'استراد شخصي', 'مستورده يد اولى', '******', 'ايد اولى', 'تانيه',\n",
       "       'يد خمسة', 'خمسه', 'استيراد كوري', 'يدتانيه', 'يدخامسه', '....',\n",
       "       'يد أولئ أصحاب سابقون صفر', 'من الشركه مباشر لا يوجد اصحاب سابقون',\n",
       "       'عدد', 'اصل تدريب سواقه', 'تالته', 'يد أولى بعد الاستيراد',\n",
       "       'يد ثاني', 'انا', 'يد أولى ', 'يد أولي', 'ثانبه', 'يد سابعة',\n",
       "       'اشخاص', 'يد ثاني.', 'يد ثامنه', 'ايد ثانية', 'ثمانيه',\n",
       "       'ايد رابعه', 'ثالث', 'استيراد كوريا', 'تانبه',\n",
       "       'استيراد مباشر من اوروبا', 'يد أولئ', 'خمسة', 'يد اولى فقط',\n",
       "       'وارد المانيا', 'خامسة', 'يد ثانيا', 'خمس', 'استراد', 'يدثالثه',\n",
       "       'يد أولى،...', 'اولى\\x89', 'تاني', 'Ooo', 'يد ا', 'يد اوله',\n",
       "       'ايدثانيه', 'ثاني', 'فقط يد اولى', 'سحب شركة',\n",
       "       'يد اولى، استيراد شخصي', 'شطب', 'ا', 'يد اولئ', 'يد اولى ( شركة )',\n",
       "       'مستورده', 'يد التالته', 'يد اربعه', 'O', 'يد  ثانية', 'يد سابعه',\n",
       "       'ايد ثالثه', 'يدأولى', 'صفرر', 'خامسه', '، ', 'استيراد مباشر',\n",
       "       'اصل شركة', '؟', 'مستوردة غير منمرة', 'يد واحدة',\n",
       "       'استيراد كوريا - جديد مش منمر', 'تالثه', 'يداولى سحب شركه', '..',\n",
       "       'يد اولى استيراد شخصي', 'E', ' استيراد كوري', 'ايد أولى',\n",
       "       'استيراد المانيا', 'تانية', 'يديانيه', 'سابعه', ',', 'يد اولة',\n",
       "       '?', 'يد  ', 'مشطوب', 'يد اولى الماني', 'يد اولىً', 'ايد ثالثة',\n",
       "       'غير منمرمستوردة', 'لا شيء', 'خصوصي', 'يد واحد', 'يد اةلي', '،',\n",
       "       'يدى اوله', 'مش منمر . (صفر)', 'أستيراد ألماني', '---', 'Zero',\n",
       "       'يد اولى / استيراد', ' أولى', 'الثانية', 'ايد اوله',\n",
       "       'مستوردة يد اولى', 'يد ثالثي', ' نفس الشخص', 'يد عاشرة',\n",
       "       'بد اولى مستورد', 'ثالثى', ' استيراد', 'يد اولى من الشركة المتحدة'],\n",
       "      dtype=object)"
      ]
     },
     "execution_count": 100,
     "metadata": {},
     "output_type": "execute_result"
    }
   ],
   "source": [
    "df['Previous_Owners_txt'].unique()"
   ]
  },
  {
   "cell_type": "code",
   "execution_count": 101,
   "id": "d5b3f349",
   "metadata": {},
   "outputs": [],
   "source": [
    "df['Previous_Owners_txt'] = df['Previous_Owners_txt'].str.strip()\n",
    "df['Previous_Owners_txt'].replace({\n",
    "   \"يد اولى\":\"1\",\n",
    "    \"يد ثانية\":\"2\",\n",
    "    \"يد ثانيه\":\"2\",\n",
    "    \"ثالثة\":\"3\",\n",
    "    \"أولى\":\"1\",\n",
    "    \"يد اولا\":\"1\",\n",
    "    \"يد ثالثة\":\"3\",\n",
    "    \"يد ثالثه\":\"3\",\n",
    "    \"ثانية\":\"2\",\n",
    "    \"يد أولى\":\"1\",\n",
    "    \"يد سادسة\":\"6\",\n",
    "    \"رابعه\":\"4\",\n",
    "    \"اولى\":\"1\",\n",
    "    \"صفر\":\"0\",\n",
    "    \"يد رابعة\":\"4\",\n",
    "    \"يد أولى استيراد\":\"1\",\n",
    "    \"يد اولي\":\"1\",\n",
    "    \"يد تالته\":\"3\",\n",
    "    \"غير منمرة\":\"0\",\n",
    "    \"غير منمر استيراد الماني\":\"0\",\n",
    "    \"ثانيه\":\"2\",\n",
    "    \"غير منمره\":\"0\",\n",
    "    \"اربعة\":\"4\",\n",
    "    \"واحد\":\"1\",\n",
    "    \"اولا\":\"1\",\n",
    "    \"يد\":\"1\",\n",
    "    \"يد تانيه\":\"2\",\n",
    "    \"مستورده\":\"0\",\n",
    "    \"مش منمر\":\"0\",\n",
    "    \"مستورد\":\"0\",\n",
    "    \"********\":\"0\",\n",
    "    \"استيراد مباشر من كوريا\":\"0\",\n",
    "    \"يد خامسة\":\"5\",\n",
    "    \"مش منمرة\":\"0\",\n",
    "    \"يداولى\":\"1\",\n",
    "    \"يد واله\":\"1\",\n",
    "    \"مش منمره\":\"0\",\n",
    "    \"يد خامسه\":\"5\",\n",
    "    \"نعم\":\"0\",\n",
    "    \"يد ولى\":\"1\",\n",
    "    \"رابعة\":\"4\",\n",
    "    \"يد صفر\":\"0\",\n",
    "    \"يدثانيه\":\"2\",\n",
    "    \"ثالثه\":\"3\",\n",
    "    \"يد عاشره\":\"10\",\n",
    "    \"اصحاب سابقون صفر\":\"0\",\n",
    "    \"مستورد شركة\":\"0\",\n",
    "    \"لا يوجد\":\"0\",\n",
    "    \"يد أولى وكالة\":\"1\",\n",
    "    \"اول\":\"1\",\n",
    "    \"ايد ثانيه\":\"2\",\n",
    "    \"منمره\":\"0\",\n",
    "    \"للبيع\":\"0\",\n",
    "    \"يد ولا\":\"1\",\n",
    "    \"يد رابعه\":\"4\",\n",
    "    \"يد ثالثة ( فتيات)\":\"3\",\n",
    "    \"يد اولى شركة\":\"1\",\n",
    "    \"لايوجد\":\"0\",\n",
    "    \"يد. اولى\":\"1\",\n",
    "    \"غير منمر\":\"0\",\n",
    "    \"يد اول\":\"1\",\n",
    "    \"يد تاسعة\":\"9\",\n",
    "    \"مستود غير منمر\":\"0\",\n",
    "    \"استيراد الماني\":\"0\",\n",
    "    \"اثنان\":\"2\",\n",
    "    \"ياولى\":\"1\",\n",
    "    \"يد\":\"1\",\n",
    "    \"استيراد\":\"0\",\n",
    "    \"يد اولى وكالة\":\"0\",\n",
    "    \"يد تاني\":\"2\",\n",
    "    \"يد اولي\":\"1\",\n",
    "    \"يدثالثة\":\"3\",\n",
    "    \"يد ثني\":\"2\",\n",
    "    \"يد اولى  اصل شركة\":\"1\",\n",
    "    \".........\":\"0\",\n",
    "    \"يد اولى اصحاب سابقون\":\"1\",\n",
    "    \"يد خامساً\":\"5\",\n",
    "    \"اوله\":\"1\",\n",
    "    \"يداولا\":\"1\",\n",
    "    \"يد  بس نخب السيارة\":\"1\",\n",
    "    \"يد ثالث\":\"3\",\n",
    "    \"مش منمرا\":\"0\",\n",
    "    \"وارد كوريا يد اولى\":\"1\",\n",
    "    \"يد ثاتيه\":\"2\",\n",
    "    \"مستوردة غير مرخصة\":\"0\",\n",
    "    \"يد تانية\":\"2\",\n",
    "    \"مستوردة\":\"0\",\n",
    "    \"صفرض\":\"0\",\n",
    "    \"**********\":\"0\",\n",
    "    \"@\":\"0\",\n",
    "    \"مستورد كوري\":\"0\",\n",
    "    \"ايد\":\"1\",\n",
    "    \"أيد تانية\":\"2\",\n",
    "    \"يد اولى صفر كيلو\":\"1\",\n",
    "    \"...\":\"0\",\n",
    "    \"-\":\"0\",\n",
    "    \"يدو اولى\":\"1\",\n",
    "    \".\":\"0\",\n",
    "    \"يد اولى اصحاب سابقون\":\"1\",\n",
    "    \"يدثانية\":\"2\",\n",
    "    \"استراد شخصي\":\"0\",\n",
    "    \"مستورده يد اولى\":\"1\",\n",
    "    \"******\":\"0\",\n",
    "    \"ايد اولى\":\"1\",\n",
    "    \"تانيه\":\"2\",\n",
    "    \"يد خمسة\":\"5\",\n",
    "    \"خمسه\":\"5\",\n",
    "    \"استيراد كوري\":\"0\",\n",
    "    \"يدتانيه\":\"2\",\n",
    "    \"يدخامسه\":\"5\",\n",
    "    \"من الشركه مباشر لا يوجد اصحاب سابقون\":\"0\",\n",
    "    \"....\":\"0\",\n",
    "    \"يد ثاني.\":\"2\",\n",
    "    \"اشخاص\":\"0\",\n",
    "    \"تالته\":\"3\",\n",
    "    \"اصل تدريب سواقه\":\"0\",\n",
    "    \"عدد\":\"0\",\n",
    "    \"يد ثاني\":\"2\",\n",
    "    \"يد أولى بعد الاستيراد\":\"1\",\n",
    "    \"تالته\":\"3\",\n",
    "     \"عدد\":\"0\",\n",
    "    \"يد أولئ أصحاب سابقون صفر\":\"0\",\n",
    "    \"يد سابعة\":\"7\",\n",
    "    \"يد ثامنه\":\"8\",\n",
    "    \"ايد ثانية\":\"2\",\n",
    "    \"ثمانيه\":\"8\",\n",
    "    \"ايد رابعه\":\"4\",\n",
    "    \"ثالث\":\"3\",\n",
    "    \"ثانبه\":\"2\",\n",
    "    \"يدثالثه\":\"3\",\n",
    "    \"استراد\":\"0\",\n",
    "    \"ثاني\":\"2\",\n",
    "    \"فقط يد اولى\":\"1\",\n",
    "    \"وارد المانيا\":\"0\",\n",
    "    \"استيراد كوريا\":\"0\",\n",
    "    \"انا\":\"1\",\n",
    "    \"يد أولي\":\"1\",\n",
    "    \"تانبه\":\"2\",\n",
    "    \"استيراد مباشر من اوروبا\":\"0\",\n",
    "    \"يد أولي\":\"1\",\n",
    "    \"خمسة\":\"5\",\n",
    "    \"يد اولى فقط\":\"1\",\n",
    "    \"خامسة\":\"5\",\n",
    "    \"يد ثانيا\":\"2\",\n",
    "    \"يد أولى\":\"1\",\n",
    "    \"اولى\\x89\":\"1\",\n",
    "    \"يد اولى / استيراد\":\"1\",\n",
    "    \"Zero\":\"0\",\n",
    "    \"مش منمر . (صفر)\":\"0\",\n",
    "    \"ثالثى\":\"3\",\n",
    "    \"بد اولى مستورد\":\"1\",\n",
    "    \"يد اولى من الشركة المتحدة\":\"1\",\n",
    "    \"يدى اوله\":\"1\",\n",
    "    \"تالثه\":\"3\",\n",
    "    \"الثانية\":\"2\",\n",
    "    \"ايد اوله\":\"1\",\n",
    "    \"مستوردة يد اولى\":\"1\",\n",
    "    \"يد ثالثي\":\"2\",\n",
    "    \"نفس الشخص\":\"1\",\n",
    "    \"يد عاشرة\":\"10\",\n",
    "    \"أستيراد ألماني\":\"0\",\n",
    "    \"يد اةلي\":\"1\",\n",
    "    \"يد واحد\":\"1\",\n",
    "    \"لا شيء\":\"0\",\n",
    "    \"غير منمرمستوردة\":\"0\",\n",
    "    \"?\":\"0\",\n",
    "    \"ايد ثالثة\":\"3\",\n",
    "    \"يد اولىً\":\"1\",\n",
    "    \"مشطوب\":\"0\",\n",
    "    \"يد اولة\":\"1\",\n",
    "    \"يد اولة\":\"1\",\n",
    "    \"سابعه\":\"7\",\n",
    "    \"يد اولى استيراد شخصي\":\"1\",\n",
    "    \"E\":\"0\",\n",
    "    \"يديانيه\":\"2\",\n",
    "    \"تانية\":\"2\",\n",
    "    \"استيراد المانيا\":\"0\",\n",
    "    \"ايد أولى\":\"1\",\n",
    "    \"يداولى سحب شركه\":\"1\",\n",
    "    \"استيراد كوريا - جديد مش منمر\":\"0\",\n",
    "    \"يد واحدة\":\"1\",\n",
    "    \"..\":\"0\",\n",
    "    \"يد أولئ\":\"1\",\n",
    "    \"خمس\":\"5\",\n",
    "    \"يد ا\":\"1\",\n",
    "    \"يد اوله\":\"1\",\n",
    "    \"ايدثانيه\":\"2\",\n",
    "    \"سحب شركة\":\"0\",\n",
    "    \"يد اولى\":\"1\",\n",
    "    \"استيراد شخصي\":\"1\",\n",
    "    \"شطب\":\"0\",\n",
    "    \"يد اولئ\":\"1\",\n",
    "    \"ا\":\"0\",\n",
    "    \"،\":\"0\",\n",
    "    \"؟\":\"0\",\n",
    "    \"اصل شركة\":\"0\",\n",
    "    \",\":\"0\",\n",
    "    \"خامسه\":\"5\",\n",
    "    \"استيراد مباشر\":\"0\",\n",
    "    \"Ooo\":\"0\",\n",
    "    \"يد أولى،...\":\"1\",\n",
    "    \"تاني\":\"2\",\n",
    "    \"مستوردة غير منمرة\":\"0\",\n",
    "    \"خصوصي\":\"0\",\n",
    "    \"يد اولى الماني\":\"1\",\n",
    "    \"---\":\"0\",\n",
    "    \"صفرر\":\"0\",\n",
    "    \"يد  ثانية\":\"2\",\n",
    "    \"يد سابعه\":\"7\",\n",
    "    \"ايد ثالثه\":\"3\",\n",
    "    \"يدأولى\":\"1\",\n",
    "    \"O\":\"0\",\n",
    "    \"يد التالته\":\"3\",\n",
    "    \"يد اربعه\":\"4\",\n",
    "    \"......\":\"0\",\n",
    "    \"، \":\"0\",\n",
    "    \"يد اولى ( شركة )\":\"1\",\n",
    "    \"يد اولى، استيراد شخصي\":\"1\",         }, inplace=True)"
   ]
  },
  {
   "cell_type": "code",
   "execution_count": 102,
   "id": "5210f821",
   "metadata": {},
   "outputs": [
    {
     "data": {
      "text/plain": [
       "array(['1', '', nan, '2', '3', '0', '6', '4', '5', '10', '9', '7', '8'],\n",
       "      dtype=object)"
      ]
     },
     "execution_count": 102,
     "metadata": {},
     "output_type": "execute_result"
    }
   ],
   "source": [
    "df['Previous_Owners_txt'].unique()"
   ]
  },
  {
   "cell_type": "code",
   "execution_count": 103,
   "id": "660b1189",
   "metadata": {},
   "outputs": [],
   "source": [
    "def extract_numbers(row):\n",
    "    # convert the 'Previous_Owners_txt' value to a numeric type\n",
    "    txt_value = pd.to_numeric(row['Previous_Owners_txt'], errors='coerce')\n",
    "\n",
    "    if not pd.isna(txt_value):\n",
    "        return txt_value\n",
    "    else:\n",
    "        return pd.to_numeric(row['Previous_Owners1'], errors='coerce')\n",
    "\n",
    "df['New_Previous_Owners'] = df.apply(extract_numbers, axis=1)"
   ]
  },
  {
   "cell_type": "code",
   "execution_count": 104,
   "id": "1d0b2b7c",
   "metadata": {},
   "outputs": [
    {
     "data": {
      "text/html": [
       "<div>\n",
       "<style scoped>\n",
       "    .dataframe tbody tr th:only-of-type {\n",
       "        vertical-align: middle;\n",
       "    }\n",
       "\n",
       "    .dataframe tbody tr th {\n",
       "        vertical-align: top;\n",
       "    }\n",
       "\n",
       "    .dataframe thead th {\n",
       "        text-align: right;\n",
       "    }\n",
       "</style>\n",
       "<table border=\"1\" class=\"dataframe\">\n",
       "  <thead>\n",
       "    <tr style=\"text-align: right;\">\n",
       "      <th></th>\n",
       "      <th>Model_Year</th>\n",
       "      <th>Motor_Power</th>\n",
       "      <th>Age</th>\n",
       "      <th>Car_Speedometer1</th>\n",
       "      <th>New_Previous_Owners</th>\n",
       "    </tr>\n",
       "  </thead>\n",
       "  <tbody>\n",
       "    <tr>\n",
       "      <th>count</th>\n",
       "      <td>6864.000000</td>\n",
       "      <td>6864.000000</td>\n",
       "      <td>6864.000000</td>\n",
       "      <td>4.867000e+03</td>\n",
       "      <td>5214.000000</td>\n",
       "    </tr>\n",
       "    <tr>\n",
       "      <th>mean</th>\n",
       "      <td>2008.616259</td>\n",
       "      <td>1740.494755</td>\n",
       "      <td>14.383741</td>\n",
       "      <td>2.516097e+09</td>\n",
       "      <td>2.113924</td>\n",
       "    </tr>\n",
       "    <tr>\n",
       "      <th>std</th>\n",
       "      <td>8.690874</td>\n",
       "      <td>589.470714</td>\n",
       "      <td>8.690874</td>\n",
       "      <td>1.596937e+11</td>\n",
       "      <td>1.950782</td>\n",
       "    </tr>\n",
       "    <tr>\n",
       "      <th>min</th>\n",
       "      <td>1967.000000</td>\n",
       "      <td>106.000000</td>\n",
       "      <td>1.000000</td>\n",
       "      <td>0.000000e+00</td>\n",
       "      <td>0.000000</td>\n",
       "    </tr>\n",
       "    <tr>\n",
       "      <th>25%</th>\n",
       "      <td>2005.000000</td>\n",
       "      <td>1400.000000</td>\n",
       "      <td>8.000000</td>\n",
       "      <td>9.988000e+03</td>\n",
       "      <td>1.000000</td>\n",
       "    </tr>\n",
       "    <tr>\n",
       "      <th>50%</th>\n",
       "      <td>2011.000000</td>\n",
       "      <td>1600.000000</td>\n",
       "      <td>12.000000</td>\n",
       "      <td>7.000000e+04</td>\n",
       "      <td>2.000000</td>\n",
       "    </tr>\n",
       "    <tr>\n",
       "      <th>75%</th>\n",
       "      <td>2015.000000</td>\n",
       "      <td>2000.000000</td>\n",
       "      <td>18.000000</td>\n",
       "      <td>1.330000e+05</td>\n",
       "      <td>3.000000</td>\n",
       "    </tr>\n",
       "    <tr>\n",
       "      <th>max</th>\n",
       "      <td>2022.000000</td>\n",
       "      <td>9000.000000</td>\n",
       "      <td>56.000000</td>\n",
       "      <td>1.111111e+13</td>\n",
       "      <td>17.000000</td>\n",
       "    </tr>\n",
       "  </tbody>\n",
       "</table>\n",
       "</div>"
      ],
      "text/plain": [
       "        Model_Year  Motor_Power          Age  Car_Speedometer1  \\\n",
       "count  6864.000000  6864.000000  6864.000000      4.867000e+03   \n",
       "mean   2008.616259  1740.494755    14.383741      2.516097e+09   \n",
       "std       8.690874   589.470714     8.690874      1.596937e+11   \n",
       "min    1967.000000   106.000000     1.000000      0.000000e+00   \n",
       "25%    2005.000000  1400.000000     8.000000      9.988000e+03   \n",
       "50%    2011.000000  1600.000000    12.000000      7.000000e+04   \n",
       "75%    2015.000000  2000.000000    18.000000      1.330000e+05   \n",
       "max    2022.000000  9000.000000    56.000000      1.111111e+13   \n",
       "\n",
       "       New_Previous_Owners  \n",
       "count          5214.000000  \n",
       "mean              2.113924  \n",
       "std               1.950782  \n",
       "min               0.000000  \n",
       "25%               1.000000  \n",
       "50%               2.000000  \n",
       "75%               3.000000  \n",
       "max              17.000000  "
      ]
     },
     "execution_count": 104,
     "metadata": {},
     "output_type": "execute_result"
    }
   ],
   "source": [
    "df.describe()"
   ]
  },
  {
   "cell_type": "code",
   "execution_count": 105,
   "id": "505f53a4",
   "metadata": {},
   "outputs": [
    {
     "name": "stdout",
     "output_type": "stream",
     "text": [
      "float64\n"
     ]
    }
   ],
   "source": [
    "df['Previous_Owners1'] = pd.to_numeric(df['Previous_Owners1'], errors='coerce')\n",
    "print(df['Previous_Owners1'].dtypes)"
   ]
  },
  {
   "cell_type": "markdown",
   "id": "2c50b586",
   "metadata": {},
   "source": [
    "Fill with the Mean or Median:\n",
    "If the column contains numerical data, you might consider filling missing values with the mean or median of the column."
   ]
  },
  {
   "cell_type": "code",
   "execution_count": 106,
   "id": "c13e95a9",
   "metadata": {},
   "outputs": [],
   "source": [
    "mean_value = df['Previous_Owners1'].mean()\n",
    "df['Previous_Owners1'].fillna(mean_value, inplace=True)"
   ]
  },
  {
   "cell_type": "code",
   "execution_count": 107,
   "id": "e66643f9",
   "metadata": {},
   "outputs": [
    {
     "data": {
      "text/plain": [
       "sunroof    1815\n",
       "Name: Extras, dtype: int64"
      ]
     },
     "execution_count": 107,
     "metadata": {},
     "output_type": "execute_result"
    }
   ],
   "source": [
    " df.Extras.value_counts()"
   ]
  },
  {
   "cell_type": "code",
   "execution_count": 108,
   "id": "0359ae00",
   "metadata": {},
   "outputs": [],
   "source": [
    "df['Extras'].fillna('No_Sunroof', inplace=True)"
   ]
  },
  {
   "cell_type": "code",
   "execution_count": 109,
   "id": "f45806fa",
   "metadata": {},
   "outputs": [
    {
     "data": {
      "text/plain": [
       "No_Sunroof    5049\n",
       "sunroof       1815\n",
       "Name: Extras, dtype: int64"
      ]
     },
     "execution_count": 109,
     "metadata": {},
     "output_type": "execute_result"
    }
   ],
   "source": [
    "df.Extras.value_counts()"
   ]
  },
  {
   "cell_type": "code",
   "execution_count": 110,
   "id": "a0ab10cd",
   "metadata": {},
   "outputs": [
    {
     "name": "stdout",
     "output_type": "stream",
     "text": [
      "2.1139240506329116\n"
     ]
    }
   ],
   "source": [
    "mean_value = df['New_Previous_Owners'].mean()\n",
    "print(mean_value)"
   ]
  },
  {
   "cell_type": "code",
   "execution_count": 111,
   "id": "6c90c164",
   "metadata": {},
   "outputs": [],
   "source": [
    "df['New_Previous_Owners'].fillna(int(mean_value), inplace=True)"
   ]
  },
  {
   "cell_type": "code",
   "execution_count": 112,
   "id": "ba4bfc52",
   "metadata": {},
   "outputs": [
    {
     "data": {
      "text/plain": [
       "array([ 1.,  2.,  0.,  4.,  3.,  8.,  6.,  5.,  9.,  7., 12., 10., 11.,\n",
       "       13., 16., 17., 15., 14.])"
      ]
     },
     "execution_count": 112,
     "metadata": {},
     "output_type": "execute_result"
    }
   ],
   "source": [
    "New_Previous_Owners = df['New_Previous_Owners'].unique()\n",
    "New_Previous_Owners"
   ]
  },
  {
   "cell_type": "code",
   "execution_count": 113,
   "id": "e7472271",
   "metadata": {},
   "outputs": [],
   "source": [
    "columns_to_drop = ['Previous_Owners_txt', 'Previous_Owners1', 'Previous_Owners']\n",
    "\n",
    "df.drop(columns=columns_to_drop, inplace=True)"
   ]
  },
  {
   "cell_type": "code",
   "execution_count": 114,
   "id": "2313293e",
   "metadata": {},
   "outputs": [
    {
     "data": {
      "text/plain": [
       "801"
      ]
     },
     "execution_count": 114,
     "metadata": {},
     "output_type": "execute_result"
    }
   ],
   "source": [
    "len(df['Car_Speedometer1'].unique())"
   ]
  },
  {
   "cell_type": "code",
   "execution_count": 115,
   "id": "eb3b8bb3",
   "metadata": {},
   "outputs": [
    {
     "data": {
      "text/plain": [
       "array([2000., 2500., 1600.,  906., 1200., 1400., 4500., 1800., 2200.,\n",
       "       1250., 1300., 1500., 1100., 3700., 1235., 1900., 2400., 1000.,\n",
       "        125.,  800.,  220.,  420., 1999., 3600., 3000., 1850., 4800.,\n",
       "        200., 3100., 2300., 3500., 1150., 3200., 4000.,  300., 2800.,\n",
       "        390., 1995.,  900., 1990., 2008., 2700., 5985., 2900.,  903.,\n",
       "       1595., 7000.,  250.,  270., 6500., 1499.,  550., 2600., 1950.,\n",
       "       1350.,  240., 3222., 1690.,  170., 1009., 9000.,  230.,  905.,\n",
       "       3300.,  460., 2996., 5983.,  160.,  260., 1700.,  340., 1234.,\n",
       "        180., 5800., 1190., 1498., 4750.,  210., 1989., 1609.,  280.,\n",
       "       1108., 7777., 2459., 2190., 5555.,  380.,  166., 2476., 1495.,\n",
       "        440., 2265., 1605., 5500., 4600.,  140., 6000., 2850., 1242.,\n",
       "       1928., 1006., 1360., 4200., 1116., 4700., 1050., 5000., 1390.,\n",
       "       6600., 2150., 1004., 1450., 1240., 1444., 1840., 2100.,  320.,\n",
       "       4400.,  999.,  400., 6700.,  480., 4016.,  106., 2250., 2770.,\n",
       "        500., 1003.,  998., 2390., 5200., 2006.,  321.,  120., 1518.,\n",
       "       1248., 1275.,  290., 2260.,  150., 2005., 6400., 1018.,  249.])"
      ]
     },
     "execution_count": 115,
     "metadata": {},
     "output_type": "execute_result"
    }
   ],
   "source": [
    "df['Motor_Power'].unique()"
   ]
  },
  {
   "cell_type": "code",
   "execution_count": 116,
   "id": "1cd552fc",
   "metadata": {},
   "outputs": [
    {
     "data": {
      "text/plain": [
       "array([7.50000000e+04, 1.30000000e+05,            nan, 3.80000000e+04,\n",
       "       1.23456000e+05, 5.00000000e+04, 5.60000000e+04, 4.60000000e+05,\n",
       "       4.50000000e+04, 7.00000000e+04, 7.90000000e+04, 0.00000000e+00,\n",
       "       1.50000000e+05, 2.10000000e+05, 1.00000000e+00, 2.00000000e+04,\n",
       "       1.13000000e+05, 3.30000000e+04, 1.22000000e+02, 2.20000000e+04,\n",
       "       2.90000000e+04, 1.23457000e+05, 2.50000000e+05, 1.40000000e+05,\n",
       "       1.22000000e+05, 7.80000000e+04, 9.00000000e+05, 7.00000000e+00,\n",
       "       6.50000000e+04, 1.90000000e+02, 1.84000000e+05, 2.00000000e+02,\n",
       "       3.00000000e+04, 2.95000000e+05, 6.00000000e+04, 1.43212000e+05,\n",
       "       4.30000000e+04, 7.10000000e+01, 1.60000000e+05, 4.00000000e+03,\n",
       "       1.21000000e+05, 9.90000000e+03, 2.60000000e+02, 8.00000000e+04,\n",
       "       2.00000000e+05, 6.00000000e+01, 1.24000000e+05, 1.20000000e+05,\n",
       "       1.00000000e+05, 9.00000000e+04, 9.90000000e+01, 8.20000000e+04,\n",
       "       3.21231230e+07, 1.66000000e+05, 2.75000000e+05, 8.27000000e+04,\n",
       "       1.23000000e+05, 5.00000000e+05, 1.80000000e+07, 1.50000000e+02,\n",
       "       8.70000000e+04, 1.10000000e+05, 3.50000000e+05, 7.00000000e+05,\n",
       "       5.50000000e+01, 4.00000000e+05, 3.50000000e+04, 3.80000000e+05,\n",
       "       1.67000000e+05, 1.40000000e+02, 1.60000000e+02, 1.23456789e+08,\n",
       "       1.11111000e+05, 9.40000000e+04, 9.00000000e+01, 4.60000000e+04,\n",
       "       8.20000000e+01, 5.10000000e+01, 2.80000000e+05, 1.15000000e+02,\n",
       "       3.00000000e+05, 4.10000000e+04, 1.20000000e+02, 1.96000000e+05,\n",
       "       2.74000000e+05, 2.00000000e+03, 1.36000000e+05, 1.16000000e+05,\n",
       "       1.37000000e+04, 1.32000000e+02, 5.40000000e+04, 4.00000000e+01,\n",
       "       7.20000000e+04, 1.23450000e+04, 1.33000000e+05, 1.57000000e+02,\n",
       "       4.70000000e+04, 7.10000000e+04, 1.32000000e+05, 1.80000000e+05,\n",
       "       9.99855000e+05, 5.20000000e+04, 5.00000000e+00, 3.00000000e+01,\n",
       "       1.65500000e+05, 4.00000000e+04, 2.56664000e+05, 1.09000000e+05,\n",
       "       1.00000000e+02, 3.90000000e+04, 1.90000000e+05, 1.13500000e+05,\n",
       "       7.40000000e+04, 2.00000000e+06, 9.10000000e+04, 6.20000000e+02,\n",
       "       5.10000000e+04, 1.60000000e+03, 1.11111100e+06, 3.63636000e+05,\n",
       "       2.20000000e+02, 4.90000000e+05, 4.80000000e+04, 1.59000000e+05,\n",
       "       6.80000000e+04, 9.50000000e+05, 9.30000000e+04, 2.90090000e+05,\n",
       "       5.80000000e+04, 3.60000000e+04, 8.00000000e+05, 3.50000000e+02,\n",
       "       1.00000000e+04, 1.60000000e+04, 1.05000000e+05, 3.20000000e+04,\n",
       "       1.50000000e+08, 1.20000000e+04, 4.40000000e+04, 8.40000000e+04,\n",
       "       6.70000000e+04, 2.90000000e+05, 6.30000000e+04, 8.50000000e+01,\n",
       "       2.40000000e+02, 2.95000000e+04, 8.00000000e+03, 5.50000000e+03,\n",
       "       1.23456668e+09, 4.15000000e+04, 7.60000000e+04, 2.40000000e+04,\n",
       "       4.92000000e+05, 5.60000000e+01, 4.20000000e+04, 1.95000000e+05,\n",
       "       1.80000000e+04, 6.20000000e+04, 1.01000000e+02, 1.23400000e+03,\n",
       "       2.30240000e+05, 6.40000000e+04, 1.64000000e+05, 1.45000000e+05,\n",
       "       9.50000000e+04, 2.50000000e+04, 3.08654000e+05, 4.00000000e+00,\n",
       "       2.50000000e+02, 3.31580000e+04, 3.00000000e+03, 4.80000000e+01,\n",
       "       1.02000000e+05, 1.70000000e+04, 1.14000000e+05, 2.07000000e+05,\n",
       "       2.80000000e+02, 3.40000000e+04, 1.23000000e+02, 1.00405000e+05,\n",
       "       2.00000000e+07, 1.00020000e+04, 1.50000000e+04, 1.85000000e+02,\n",
       "       5.70000000e+04, 8.30000000e+04, 1.11110000e+04, 6.66600000e+03,\n",
       "       1.19000000e+02, 4.00000000e+02, 9.99999000e+05, 9.80000000e+04,\n",
       "       8.80000000e+05, 1.20076000e+05, 1.00000000e+03, 1.35000000e+05,\n",
       "       1.34000000e+05, 5.55544400e+06, 9.99990000e+04, 4.55550000e+04,\n",
       "       1.45000000e+02, 1.80000000e+02, 1.35400000e+06, 5.50000000e+05,\n",
       "       5.40000000e+03, 1.80000000e+01, 8.50000000e+04, 6.10000000e+04,\n",
       "       1.23456700e+06, 3.21123000e+06, 1.42000000e+02, 2.12304700e+06,\n",
       "       7.77777700e+06, 7.77555780e+07, 7.70000000e+04, 3.00000000e+02,\n",
       "       1.65000000e+02, 6.90000000e+04, 6.66666000e+05, 4.40000000e+05,\n",
       "       1.70000000e+05, 1.19000000e+05, 3.90000000e+01, 1.15000000e+05,\n",
       "       1.70000000e+02, 9.88000000e+04, 6.90000000e+01, 7.90000000e+05,\n",
       "       2.70000000e+04, 1.25000000e+05, 1.99000000e+05, 1.43000000e+05,\n",
       "       4.90000000e+04, 1.45820000e+05, 7.30000000e+04, 2.30000000e+05,\n",
       "       5.20000000e+01, 1.35000000e+04, 3.10000000e+04, 7.77000000e+02,\n",
       "       6.85150000e+04, 9.20000000e+04, 8.00000000e+02, 1.40000000e+01,\n",
       "       2.50000000e+06, 3.19763000e+05, 1.07000000e+02, 7.50000000e+03,\n",
       "       6.50000000e+02, 2.02000000e+05, 1.87453000e+05, 6.60000000e+04,\n",
       "       3.70000000e+04, 1.12000000e+05, 1.29000000e+05, 1.40000000e+04,\n",
       "       6.78890000e+05, 7.10000000e+05, 1.39000000e+05, 4.50000000e+05,\n",
       "       1.90000000e+04, 1.30000000e+04, 8.97000000e+04, 2.30000000e+04,\n",
       "       1.23888000e+05, 7.00000000e+07, 2.10000000e+04, 1.33000000e+02,\n",
       "       6.75000000e+05, 4.45000000e+05, 1.69000000e+05, 1.75000000e+05,\n",
       "       8.74000000e+04, 2.38210000e+04, 7.85670000e+04, 1.68000000e+05,\n",
       "       1.86000000e+05, 1.83737000e+05, 5.55555000e+05, 3.88000000e+04,\n",
       "       5.43570000e+04, 1.30000000e+02, 1.83000000e+05, 9.70000000e+04,\n",
       "       8.96000000e+05, 8.80000000e+04, 1.10000000e+01, 1.26000000e+05,\n",
       "       1.65000000e+05, 6.77000000e+01, 1.23456770e+07, 1.08000000e+05,\n",
       "       1.08000000e+04, 1.41540000e+05, 5.50000000e+04, 2.80000000e+04,\n",
       "       2.00030000e+04, 2.44789000e+05, 2.20000000e+05, 1.00000000e+06,\n",
       "       8.76890000e+04, 8.00000000e+01, 1.12000000e+02, 1.18000000e+05,\n",
       "       7.00000000e+01, 1.76000000e+05, 5.00000000e+01, 2.44890000e+04,\n",
       "       2.10000000e+02, 9.09908000e+07, 9.87789000e+06, 3.60000000e+02,\n",
       "       9.00000000e+07, 4.50000000e+01, 1.35000000e+02, 1.85000000e+05,\n",
       "       1.30000000e+01, 4.90000000e+01, 7.57575000e+05, 7.50000000e+05,\n",
       "       1.72000000e+02, 9.50000000e+01, 1.90000000e+01, 1.14670000e+04,\n",
       "       5.56677000e+05, 3.33600000e+04, 2.16560000e+05, 6.70000000e+01,\n",
       "       5.87000000e+04, 9.97700000e+03, 1.44000000e+05, 1.06000000e+05,\n",
       "       1.52000000e+05, 7.54580000e+04, 3.60000000e+05, 1.62000000e+05,\n",
       "       9.20000000e+01, 5.60000000e+09, 1.41000000e+05, 4.40000000e+01,\n",
       "       5.30000000e+01, 4.45550000e+04, 7.00000000e+02, 1.55000000e+05,\n",
       "       3.20000000e+05, 1.30000000e+06, 5.00000000e+02, 8.84000000e+05,\n",
       "       2.00000000e+01, 1.17000000e+05, 1.11000000e+05, 3.90000000e+07,\n",
       "       8.10000000e+04, 1.25326000e+05, 2.40000000e+01, 1.37000000e+05,\n",
       "       2.28000000e+05, 7.15000000e+04, 1.61000000e+05, 1.46009000e+05,\n",
       "       5.45660000e+04, 1.88000000e+05, 1.53000000e+05, 2.40000000e+05,\n",
       "       2.55000000e+05, 2.64400000e+05, 1.56000000e+05, 1.46678900e+06,\n",
       "       2.70000000e+05, 2.13000000e+05, 2.31000000e+04, 9.99900000e+03,\n",
       "       5.80000000e+01, 2.00069000e+05, 8.90000000e+04, 7.00000000e+03,\n",
       "       7.70000000e+01, 2.07767000e+05, 1.07000000e+05, 2.84922000e+05,\n",
       "       1.82000000e+05, 2.57000000e+02, 3.50000000e+01, 4.44444444e+09,\n",
       "       7.90000000e+01, 5.70000000e+01, 7.70000000e+05, 8.50000000e+03,\n",
       "       1.99999000e+05, 4.65000000e+04, 1.25000000e+02, 1.33660000e+04,\n",
       "       4.70000000e+05, 6.30000000e+01, 2.11000000e+05, 3.45667000e+05,\n",
       "       1.10000000e+04, 2.60000000e+04, 7.77777000e+05, 8.30000000e+01,\n",
       "       3.63000000e+05, 1.28000000e+02, 7.45000000e+04, 1.23000000e+06,\n",
       "       1.48000000e+02, 4.80000000e+05, 2.09557000e+05, 3.50000000e+03,\n",
       "       5.00000000e+03, 9.50000000e+03, 1.18567000e+05, 1.52000000e+02,\n",
       "       8.70000000e+05, 1.76403000e+05, 1.99000000e+04, 5.90000000e+04,\n",
       "       1.43000000e+02, 2.77000000e+05, 1.10000000e+06, 3.23430000e+04,\n",
       "       1.63000000e+05, 5.30000000e+04, 2.30000000e+02, 7.50000000e+02,\n",
       "       6.00000000e+05, 5.26325000e+05, 8.21111000e+05, 1.11100000e+03,\n",
       "       2.19000000e+02, 2.15000000e+05, 1.57000000e+05, 1.03106000e+05,\n",
       "       9.45000000e+04, 1.21212000e+05, 2.98000000e+05, 2.03000000e+05,\n",
       "       2.60000000e+05, 1.48372000e+05, 4.03000000e+04, 1.97000000e+05,\n",
       "       1.60542000e+05, 1.27000000e+05, 6.57888800e+10, 1.20678000e+05,\n",
       "       1.24456000e+05, 1.63520000e+04, 2.63200000e+05, 1.23126000e+05,\n",
       "       1.68220000e+04, 2.20000000e+01, 4.50000000e+02, 8.08887000e+05,\n",
       "       2.50000000e+01, 1.38000000e+05, 5.40000000e+05, 1.17000000e+02,\n",
       "       8.70000000e+01, 2.62000000e+05, 7.50000000e+06, 1.75900000e+04,\n",
       "       1.50000000e+03, 1.27654000e+05, 4.27374000e+05, 2.51000000e+02,\n",
       "       1.92000000e+02, 1.05000000e+02, 1.03000000e+05, 2.45000000e+02,\n",
       "       4.20000000e+05, 1.55555000e+05, 8.60000000e+04, 9.00000000e+03,\n",
       "       9.99999900e+06, 2.61340000e+04, 1.80000000e+06, 6.84186000e+05,\n",
       "       1.92000000e+05, 3.00000000e+06, 2.22000000e+02, 1.47000000e+05,\n",
       "       9.95000000e+04, 1.58000000e+05, 4.50000000e+03, 8.80000000e+01,\n",
       "       2.35688000e+06, 3.30000000e+01, 1.75000000e+02, 1.31000000e+05,\n",
       "       1.10000000e+02, 6.50000000e+01, 4.45677000e+05, 1.11122220e+07,\n",
       "       1.60000000e+06, 3.25380000e+04, 5.66660000e+04, 4.60000000e+01,\n",
       "       6.00000000e+06, 9.60000000e+04, 1.16000000e+02, 1.42312000e+05,\n",
       "       1.42000000e+05, 3.40000000e+05, 6.28939000e+05, 3.00111100e+06,\n",
       "       2.27000000e+05, 3.33300000e+03, 2.33000000e+02, 9.30000000e+01,\n",
       "       2.13466000e+05, 1.23300000e+03, 1.46000000e+05, 2.85000000e+05,\n",
       "       2.90000000e+02, 1.62000000e+04, 2.60000000e+03, 8.00009967e+11,\n",
       "       6.03800000e+04, 6.55000000e+04, 6.80000000e+01, 1.00700000e+03,\n",
       "       1.98000000e+05, 5.67540000e+04, 2.25000000e+05, 1.49000000e+05,\n",
       "       6.48900750e+07, 1.79900000e+04, 3.85000000e+05, 3.70000000e+05,\n",
       "       3.75000000e+04, 3.20000000e+01, 9.10000000e+01, 6.11234500e+06,\n",
       "       5.80000000e+05, 6.66000000e+04, 2.45000000e+05, 9.99000000e+05,\n",
       "       2.01788000e+05, 1.41300000e+05, 2.70000000e+02, 9.80000000e+01,\n",
       "       1.48000000e+05, 3.80000000e+01, 4.20000000e+01, 9.15000000e+04,\n",
       "       2.44890570e+07, 7.50000000e+01, 1.29100000e+05, 1.24520000e+04,\n",
       "       1.11111111e+11, 4.89900000e+04, 5.67000000e+04, 2.88000000e+04,\n",
       "       3.40000000e+01, 8.56000000e+04, 1.47000000e+02, 1.01000000e+05,\n",
       "       1.87000000e+05, 9.44000000e+04, 4.44400000e+03, 3.20000000e+02,\n",
       "       8.58005000e+06, 5.05040000e+05, 2.40000000e+06, 6.20000000e+05,\n",
       "       1.67070000e+04, 2.02660000e+04, 2.50882000e+05, 2.35000000e+04,\n",
       "       2.59000000e+02, 4.75000000e+04, 1.31000000e+02, 1.79000000e+05,\n",
       "       2.24000000e+05, 1.13000000e+02, 4.00000000e+08, 7.52180000e+04,\n",
       "       1.63000000e+02, 1.81000000e+05, 7.64849830e+07, 1.03151000e+05,\n",
       "       1.36000000e+04, 1.74000000e+02, 1.80000000e+03, 1.28000000e+05,\n",
       "       1.04000000e+05, 6.20000000e+01, 6.77773000e+05, 6.67890000e+05,\n",
       "       1.90000000e+03, 1.00800000e+03, 1.66000000e+06, 2.49000000e+05,\n",
       "       2.67000000e+02, 2.35000000e+05, 1.85000000e+04, 1.08000000e+02,\n",
       "       8.74757000e+05, 7.55000000e+04, 1.23400000e+06, 7.66788800e+06,\n",
       "       1.11111110e+07, 6.70000000e+03, 6.40000000e+01, 1.72000000e+05,\n",
       "       2.16578000e+05, 4.79000000e+04, 1.77000000e+05, 1.22457846e+08,\n",
       "       1.00100000e+03, 3.90000000e+05, 2.18000000e+05, 8.55000000e+03,\n",
       "       7.56855450e+09, 6.20000000e+06, 1.86000000e+02, 1.21000000e+02,\n",
       "       2.22000000e+05, 2.46000000e+05, 6.00000000e+03, 1.03800000e+03,\n",
       "       8.00000000e+07, 7.77777777e+08, 1.24400000e+03, 3.60000000e+08,\n",
       "       8.54654100e+06, 1.23344500e+06, 1.73000000e+05, 5.00000000e+07,\n",
       "       1.94000000e+05, 1.23577000e+05, 1.17000000e+04, 8.65543000e+05,\n",
       "       2.27500000e+05, 1.56000000e+02, 1.11111111e+13, 1.79000000e+04,\n",
       "       1.54000000e+05, 2.86000000e+05, 1.95000000e+04, 4.95000000e+04,\n",
       "       1.23455000e+05, 4.18000000e+05, 3.70000000e+03, 1.64000000e+02,\n",
       "       1.85000000e+06, 1.00000000e+11, 1.27000000e+02, 8.65400000e+03,\n",
       "       1.00000000e+10, 8.05000000e+04, 1.90000000e+07, 1.41280000e+04,\n",
       "       1.13800000e+05, 1.88000000e+02, 1.22456000e+05, 2.00000000e+08,\n",
       "       1.53000000e+04, 6.08000000e+04, 3.52688875e+08, 4.58000000e+05,\n",
       "       1.69000000e+04, 4.44500000e+03, 3.60000000e+01, 5.30000000e+05,\n",
       "       1.00000010e+07, 6.52880000e+04, 1.23356000e+05, 3.90000000e+02,\n",
       "       2.58800000e+04, 1.44000000e+02, 2.33000000e+05, 3.15000000e+05,\n",
       "       1.00060000e+04, 2.41000000e+05, 1.00007000e+05, 1.06000000e+02,\n",
       "       6.58000000e+02, 8.90000000e+01, 2.53000000e+05, 8.56500000e+04,\n",
       "       1.02500000e+05, 4.70000000e+03, 2.65000000e+05, 9.90000000e+04,\n",
       "       4.65540000e+04, 2.04000000e+04, 5.00000000e+06, 5.20000000e+05,\n",
       "       3.39900000e+05, 4.35675000e+05, 5.85555800e+06, 8.85558550e+07,\n",
       "       3.47650000e+04, 1.89000000e+05, 3.26000000e+05, 5.80410000e+04,\n",
       "       1.43000000e+04, 2.15000000e+04, 1.58000000e+02, 2.42000000e+05,\n",
       "       1.75000000e+04, 2.15000000e+02, 1.22220000e+04, 1.69560000e+04,\n",
       "       1.33400000e+05, 2.64000000e+05, 3.96000000e+04, 2.26000000e+02,\n",
       "       1.94045000e+05, 1.93000000e+05, 3.30000000e+05, 1.04000000e+03,\n",
       "       3.54000000e+05, 5.25550000e+04, 3.35000000e+04, 8.56899600e+06,\n",
       "       1.77314000e+05, 1.18000000e+02, 2.32000000e+02, 3.55550000e+04,\n",
       "       3.68586000e+05, 2.29000000e+05, 3.54320000e+04, 1.03000000e+02,\n",
       "       1.67000000e+02, 4.23150000e+04, 5.44321000e+05, 6.25000000e+04,\n",
       "       2.88000000e+02, 1.65000000e+04, 8.04350000e+04, 1.70465000e+05,\n",
       "       2.05000000e+02, 9.49960000e+04, 1.79000000e+02, 2.45000000e+04,\n",
       "       1.24000000e+02, 1.23455689e+10, 1.78000000e+05, 3.65000000e+04,\n",
       "       5.54320000e+04, 3.05069000e+05, 2.97000000e+05, 6.80000000e+03,\n",
       "       2.88800000e+03, 7.00000000e+06, 6.04790000e+04, 3.45788980e+07,\n",
       "       1.23345600e+06, 9.93000000e+04, 1.10665000e+05, 1.67500000e+05,\n",
       "       9.30000000e+03, 4.30000000e+05, 3.90300000e+05, 6.50000000e+05,\n",
       "       8.40000000e+01, 1.47000000e+04, 8.57000000e+06, 2.72000000e+05,\n",
       "       2.25600000e+05, 8.52250000e+04, 1.51000000e+05, 2.12121221e+09,\n",
       "       6.00000000e+02, 2.25000000e+02, 2.81021000e+05, 5.60000000e+03,\n",
       "       5.40000000e+01, 2.04000000e+05, 2.86540000e+04, 1.03200000e+03,\n",
       "       6.50000000e+03, 2.97423000e+05, 1.82000000e+02, 4.18706000e+05,\n",
       "       2.32800000e+05, 2.20119000e+05, 5.09000000e+02, 2.04610000e+04,\n",
       "       1.07000000e+04, 1.01100000e+04, 2.16705000e+05, 2.17000000e+05,\n",
       "       4.53210000e+04, 2.05000000e+05, 1.20987000e+05, 1.02000000e+02,\n",
       "       5.55555550e+07, 8.54320000e+04, 1.87650000e+04, 3.10000000e+05,\n",
       "       8.99990000e+04, 1.74000000e+05, 1.91000000e+05, 4.66678000e+05,\n",
       "       2.60000000e+01, 3.85000000e+04, 2.22222000e+05, 1.77000000e+02,\n",
       "       7.68686600e+06])"
      ]
     },
     "execution_count": 116,
     "metadata": {},
     "output_type": "execute_result"
    }
   ],
   "source": [
    "df['Car_Speedometer1'].unique()"
   ]
  },
  {
   "cell_type": "code",
   "execution_count": 117,
   "id": "f7a2e130",
   "metadata": {},
   "outputs": [
    {
     "name": "stdout",
     "output_type": "stream",
     "text": [
      "The data type of the column is: float64\n"
     ]
    }
   ],
   "source": [
    "column_data_type = df['Car_Speedometer1'].dtype\n",
    "print(f\"The data type of the column is: {column_data_type}\")"
   ]
  },
  {
   "cell_type": "code",
   "execution_count": 119,
   "id": "cfa2dbbc",
   "metadata": {},
   "outputs": [
    {
     "data": {
      "text/html": [
       "<div>\n",
       "<style scoped>\n",
       "    .dataframe tbody tr th:only-of-type {\n",
       "        vertical-align: middle;\n",
       "    }\n",
       "\n",
       "    .dataframe tbody tr th {\n",
       "        vertical-align: top;\n",
       "    }\n",
       "\n",
       "    .dataframe thead th {\n",
       "        text-align: right;\n",
       "    }\n",
       "</style>\n",
       "<table border=\"1\" class=\"dataframe\">\n",
       "  <thead>\n",
       "    <tr style=\"text-align: right;\">\n",
       "      <th></th>\n",
       "      <th>Model_Year</th>\n",
       "      <th>Motor_Power</th>\n",
       "      <th>Age</th>\n",
       "      <th>Car_Speedometer1</th>\n",
       "      <th>New_Previous_Owners</th>\n",
       "    </tr>\n",
       "  </thead>\n",
       "  <tbody>\n",
       "    <tr>\n",
       "      <th>count</th>\n",
       "      <td>6864.000000</td>\n",
       "      <td>6864.000000</td>\n",
       "      <td>6864.000000</td>\n",
       "      <td>4.867000e+03</td>\n",
       "      <td>6864.000000</td>\n",
       "    </tr>\n",
       "    <tr>\n",
       "      <th>mean</th>\n",
       "      <td>2008.616259</td>\n",
       "      <td>1740.494755</td>\n",
       "      <td>14.383741</td>\n",
       "      <td>2.516097e+09</td>\n",
       "      <td>2.086538</td>\n",
       "    </tr>\n",
       "    <tr>\n",
       "      <th>std</th>\n",
       "      <td>8.690874</td>\n",
       "      <td>589.470714</td>\n",
       "      <td>8.690874</td>\n",
       "      <td>1.596937e+11</td>\n",
       "      <td>1.700879</td>\n",
       "    </tr>\n",
       "    <tr>\n",
       "      <th>min</th>\n",
       "      <td>1967.000000</td>\n",
       "      <td>106.000000</td>\n",
       "      <td>1.000000</td>\n",
       "      <td>0.000000e+00</td>\n",
       "      <td>0.000000</td>\n",
       "    </tr>\n",
       "    <tr>\n",
       "      <th>25%</th>\n",
       "      <td>2005.000000</td>\n",
       "      <td>1400.000000</td>\n",
       "      <td>8.000000</td>\n",
       "      <td>9.988000e+03</td>\n",
       "      <td>1.000000</td>\n",
       "    </tr>\n",
       "    <tr>\n",
       "      <th>50%</th>\n",
       "      <td>2011.000000</td>\n",
       "      <td>1600.000000</td>\n",
       "      <td>12.000000</td>\n",
       "      <td>7.000000e+04</td>\n",
       "      <td>2.000000</td>\n",
       "    </tr>\n",
       "    <tr>\n",
       "      <th>75%</th>\n",
       "      <td>2015.000000</td>\n",
       "      <td>2000.000000</td>\n",
       "      <td>18.000000</td>\n",
       "      <td>1.330000e+05</td>\n",
       "      <td>2.000000</td>\n",
       "    </tr>\n",
       "    <tr>\n",
       "      <th>max</th>\n",
       "      <td>2022.000000</td>\n",
       "      <td>9000.000000</td>\n",
       "      <td>56.000000</td>\n",
       "      <td>1.111111e+13</td>\n",
       "      <td>17.000000</td>\n",
       "    </tr>\n",
       "  </tbody>\n",
       "</table>\n",
       "</div>"
      ],
      "text/plain": [
       "        Model_Year  Motor_Power          Age  Car_Speedometer1  \\\n",
       "count  6864.000000  6864.000000  6864.000000      4.867000e+03   \n",
       "mean   2008.616259  1740.494755    14.383741      2.516097e+09   \n",
       "std       8.690874   589.470714     8.690874      1.596937e+11   \n",
       "min    1967.000000   106.000000     1.000000      0.000000e+00   \n",
       "25%    2005.000000  1400.000000     8.000000      9.988000e+03   \n",
       "50%    2011.000000  1600.000000    12.000000      7.000000e+04   \n",
       "75%    2015.000000  2000.000000    18.000000      1.330000e+05   \n",
       "max    2022.000000  9000.000000    56.000000      1.111111e+13   \n",
       "\n",
       "       New_Previous_Owners  \n",
       "count          6864.000000  \n",
       "mean              2.086538  \n",
       "std               1.700879  \n",
       "min               0.000000  \n",
       "25%               1.000000  \n",
       "50%               2.000000  \n",
       "75%               2.000000  \n",
       "max              17.000000  "
      ]
     },
     "execution_count": 119,
     "metadata": {},
     "output_type": "execute_result"
    }
   ],
   "source": [
    "df.describe()"
   ]
  },
  {
   "cell_type": "code",
   "execution_count": 120,
   "id": "e6dc2c26",
   "metadata": {},
   "outputs": [
    {
     "data": {
      "text/plain": [
       "0.0          470\n",
       "100000.0     122\n",
       "200000.0     116\n",
       "75000.0       81\n",
       "150000.0      80\n",
       "            ... \n",
       "22.0           1\n",
       "16822.0        1\n",
       "123126.0       1\n",
       "263200.0       1\n",
       "7686866.0      1\n",
       "Name: Car_Speedometer1, Length: 800, dtype: int64"
      ]
     },
     "execution_count": 120,
     "metadata": {},
     "output_type": "execute_result"
    }
   ],
   "source": [
    "df['Car_Speedometer1'].value_counts()"
   ]
  },
  {
   "cell_type": "code",
   "execution_count": 121,
   "id": "45c5e52e",
   "metadata": {},
   "outputs": [
    {
     "name": "stdout",
     "output_type": "stream",
     "text": [
      "0.000000e+00    470\n",
      "1.000000e+05    122\n",
      "2.000000e+05    116\n",
      "7.500000e+04     81\n",
      "1.500000e+05     80\n",
      "5.000000e+04     79\n",
      "6.000000e+04     79\n",
      "1.200000e+05     77\n",
      "9.000000e+04     77\n",
      "8.000000e+04     71\n",
      "7.000000e+04     67\n",
      "1.300000e+05     66\n",
      "1.400000e+05     64\n",
      "1.800000e+05     56\n",
      "1.700000e+05     52\n",
      "1.600000e+05     50\n",
      "2.000000e+04     45\n",
      "4.000000e+04     43\n",
      "9.500000e+04     42\n",
      "3.000000e+04     41\n",
      "4.500000e+04     36\n",
      "6.500000e+04     35\n",
      "1.900000e+05     35\n",
      "2.000000e+02     33\n",
      "1.000000e+02     31\n",
      "3.000000e+05     31\n",
      "2.500000e+05     30\n",
      "3.500000e+04     29\n",
      "5.500000e+04     29\n",
      "2.500000e+04     27\n",
      "1.100000e+05     26\n",
      "1.200000e+02     24\n",
      "1.500000e+04     23\n",
      "1.150000e+05     23\n",
      "1.234560e+05     23\n",
      "7.200000e+04     22\n",
      "1.250000e+05     22\n",
      "1.600000e+02     21\n",
      "8.500000e+04     20\n",
      "1.800000e+02     20\n",
      "4.300000e+04     20\n",
      "3.900000e+04     20\n",
      "1.300000e+04     20\n",
      "9.000000e+01     19\n",
      "8.800000e+04     19\n",
      "2.300000e+05     19\n",
      "5.800000e+04     19\n",
      "5.200000e+04     19\n",
      "1.500000e+02     18\n",
      "2.200000e+04     18\n",
      "3.200000e+04     18\n",
      "9.200000e+04     18\n",
      "1.900000e+02     18\n",
      "1.050000e+05     17\n",
      "1.800000e+04     16\n",
      "1.000000e+04     16\n",
      "9.800000e+04     16\n",
      "6.800000e+04     16\n",
      "7.800000e+04     16\n",
      "3.000000e+02     16\n",
      "4.600000e+04     15\n",
      "5.000000e+05     15\n",
      "7.400000e+04     15\n",
      "2.500000e+02     15\n",
      "4.400000e+04     15\n",
      "1.650000e+05     15\n",
      "4.900000e+04     15\n",
      "4.200000e+04     15\n",
      "2.200000e+05     15\n",
      "1.200000e+04     15\n",
      "2.200000e+02     15\n",
      "1.350000e+05     15\n",
      "4.800000e+04     14\n",
      "6.900000e+04     14\n",
      "8.200000e+04     14\n",
      "1.300000e+02     14\n",
      "1.700000e+04     14\n",
      "1.400000e+04     14\n",
      "4.700000e+04     13\n",
      "3.500000e+05     13\n",
      "1.234500e+04     13\n",
      "1.400000e+02     13\n",
      "5.100000e+04     13\n",
      "7.100000e+04     13\n",
      "5.700000e+04     13\n",
      "1.240000e+05     12\n",
      "6.200000e+04     12\n",
      "9.700000e+04     12\n",
      "2.900000e+04     12\n",
      "6.600000e+04     12\n",
      "4.100000e+04     12\n",
      "1.900000e+04     12\n",
      "1.380000e+05     12\n",
      "2.100000e+04     12\n",
      "3.400000e+04     12\n",
      "9.400000e+04     12\n",
      "1.100000e+02     12\n",
      "9.300000e+04     12\n",
      "7.700000e+04     12\n",
      "7.000000e+01     12\n",
      "9.100000e+04     11\n",
      "7.300000e+04     11\n",
      "5.400000e+04     11\n",
      "1.230000e+02     11\n",
      "2.400000e+05     11\n",
      "7.500000e+05     11\n",
      "2.400000e+04     11\n",
      "7.900000e+04     11\n",
      "1.000000e+03     11\n",
      "8.300000e+04     11\n",
      "8.000000e+01     11\n",
      "2.700000e+05     11\n",
      "2.900000e+05     10\n",
      "1.750000e+05     10\n",
      "1.600000e+04     10\n",
      "6.300000e+04     10\n",
      "8.900000e+04     10\n",
      "2.800000e+04     10\n",
      "1.234000e+03     10\n",
      "3.100000e+04     10\n",
      "6.100000e+04     10\n",
      "3.600000e+04     10\n",
      "4.000000e+01     10\n",
      "4.000000e+05     10\n",
      "1.160000e+05     10\n",
      "1.450000e+05      9\n",
      "6.000000e+01      9\n",
      "1.100000e+04      9\n",
      "1.700000e+02      9\n",
      "1.220000e+05      9\n",
      "2.800000e+05      9\n",
      "3.300000e+04      9\n",
      "6.700000e+04      9\n",
      "8.400000e+04      9\n",
      "8.700000e+04      9\n",
      "1.230000e+05      9\n",
      "1.180000e+05      9\n",
      "2.300000e+04      9\n",
      "1.550000e+05      9\n",
      "2.100000e+05      9\n",
      "1.170000e+05      9\n",
      "1.070000e+05      9\n",
      "1.120000e+05      9\n",
      "8.100000e+04      9\n",
      "5.900000e+04      9\n",
      "3.800000e+04      9\n",
      "2.600000e+04      9\n",
      "5.500000e+01      8\n",
      "4.500000e+05      8\n",
      "6.400000e+04      8\n",
      "2.000000e+03      8\n",
      "1.150000e+02      8\n",
      "4.000000e+02      8\n",
      "7.600000e+04      8\n",
      "5.300000e+04      8\n",
      "3.700000e+04      8\n",
      "5.600000e+04      8\n",
      "1.000000e+00      8\n",
      "2.600000e+05      7\n",
      "1.111111e+06      7\n",
      "8.600000e+04      7\n",
      "3.000000e+03      7\n",
      "1.050000e+02      7\n",
      "9.000000e+03      7\n",
      "5.000000e+01      7\n",
      "2.300000e+02      7\n",
      "7.500000e+03      7\n",
      "1.850000e+05      7\n",
      "2.000000e+01      6\n",
      "1.130000e+05      6\n",
      "1.280000e+05      6\n",
      "2.600000e+02      6\n",
      "1.650000e+02      6\n",
      "1.470000e+05      6\n",
      "1.110000e+05      6\n",
      "1.030000e+05      6\n",
      "1.590000e+05      6\n",
      "1.270000e+05      6\n",
      "2.400000e+02      6\n",
      "1.330000e+05      6\n",
      "1.140000e+05      6\n",
      "1.390000e+05      6\n",
      "8.000000e+05      6\n",
      "1.950000e+05      5\n",
      "1.320000e+05      5\n",
      "1.580000e+05      5\n",
      "1.000000e+06      5\n",
      "1.190000e+05      5\n",
      "8.000000e+03      5\n",
      "1.880000e+05      5\n",
      "4.000000e+03      5\n",
      "9.500000e+01      5\n",
      "6.800000e+01      5\n",
      "1.980000e+05      5\n",
      "3.000000e+01      5\n",
      "1.090000e+05      5\n",
      "2.000000e+06      5\n",
      "1.290000e+05      5\n",
      "5.500000e+05      5\n",
      "6.000000e+03      5\n",
      "1.530000e+05      5\n",
      "1.060000e+05      5\n",
      "1.111100e+04      5\n",
      "2.900000e+02      4\n",
      "2.700000e+04      4\n",
      "3.600000e+05      4\n",
      "1.770000e+05      4\n",
      "1.670000e+05      4\n",
      "1.210000e+05      4\n",
      "1.080000e+05      4\n",
      "1.560000e+05      4\n",
      "1.450000e+02      4\n",
      "1.420000e+05      4\n",
      "1.260000e+05      4\n",
      "1.840000e+05      4\n",
      "5.200000e+01      4\n",
      "1.690000e+05      4\n",
      "8.500000e+01      4\n",
      "4.800000e+01      4\n",
      "3.000000e+06      4\n",
      "1.234568e+08      4\n",
      "5.000000e+03      4\n",
      "3.500000e+02      4\n",
      "1.570000e+05      4\n",
      "6.000000e+05      4\n",
      "1.020000e+05      4\n",
      "1.350000e+02      4\n",
      "1.234567e+06      4\n",
      "2.150000e+05      3\n",
      "5.555550e+05      3\n",
      "1.430000e+02      3\n",
      "1.480000e+05      3\n",
      "1.790000e+05      3\n",
      "1.680000e+05      3\n",
      "1.170000e+02      3\n",
      "1.111000e+03      3\n",
      "1.330000e+02      3\n",
      "7.000000e+03      3\n",
      "3.700000e+05      3\n",
      "2.250000e+05      3\n",
      "6.700000e+01      3\n",
      "1.920000e+05      3\n",
      "1.440000e+05      3\n",
      "4.500000e+01      3\n",
      "1.520000e+05      3\n",
      "7.700000e+01      3\n",
      "7.900000e+01      3\n",
      "1.970000e+05      3\n",
      "9.900000e+04      3\n",
      "1.610000e+05      3\n",
      "9.999999e+06      3\n",
      "1.250000e+02      3\n",
      "1.620000e+05      3\n",
      "3.150000e+05      3\n",
      "2.550000e+05      3\n",
      "4.400000e+01      3\n",
      "1.830000e+05      3\n",
      "9.900000e+01      3\n",
      "1.960000e+05      3\n",
      "1.660000e+05      3\n",
      "4.400000e+05      3\n",
      "2.750000e+05      3\n",
      "1.990000e+05      3\n",
      "1.430000e+05      3\n",
      "4.000000e+00      3\n",
      "7.000000e+05      3\n",
      "8.200000e+01      3\n",
      "9.500000e+05      3\n",
      "1.850000e+02      3\n",
      "5.600000e+01      3\n",
      "9.999990e+05      3\n",
      "9.999900e+04      3\n",
      "1.340000e+05      3\n",
      "1.360000e+05      3\n",
      "2.180000e+05      2\n",
      "5.800000e+01      2\n",
      "9.999000e+03      2\n",
      "1.930000e+05      2\n",
      "1.720000e+05      2\n",
      "1.410000e+05      2\n",
      "2.130000e+05      2\n",
      "1.640000e+05      2\n",
      "3.200000e+05      2\n",
      "3.900000e+05      2\n",
      "2.800000e+02      2\n",
      "6.000000e+06      2\n",
      "9.600000e+04      2\n",
      "2.280000e+05      2\n",
      "1.370000e+05      2\n",
      "1.010000e+02      2\n",
      "1.750000e+04      2\n",
      "3.400000e+05      2\n",
      "1.300000e+06      2\n",
      "1.520000e+02      2\n",
      "5.700000e+01      2\n",
      "1.310000e+05      2\n",
      "4.200000e+05      2\n",
      "1.880000e+02      2\n",
      "1.320000e+02      2\n",
      "2.980000e+05      2\n",
      "1.000000e+10      2\n",
      "9.450000e+04      2\n",
      "5.000000e+00      2\n",
      "3.600000e+01      2\n",
      "2.050000e+05      2\n",
      "1.630000e+05      2\n",
      "1.540000e+05      2\n",
      "4.900000e+05      2\n",
      "1.060000e+02      2\n",
      "1.820000e+05      2\n",
      "1.480000e+02      2\n",
      "1.111110e+05      2\n",
      "3.800000e+05      2\n",
      "8.300000e+01      2\n",
      "7.777770e+05      2\n",
      "2.110000e+05      2\n",
      "4.700000e+03      2\n",
      "5.500000e+03      2\n",
      "1.940000e+05      2\n",
      "6.000000e+02      2\n",
      "5.200000e+05      2\n",
      "3.300000e+05      2\n",
      "1.370000e+04      2\n",
      "7.900000e+05      2\n",
      "9.100000e+01      2\n",
      "2.100000e+02      2\n",
      "1.030000e+02      2\n",
      "5.800000e+05      2\n",
      "1.780000e+05      2\n",
      "7.500000e+01      2\n",
      "7.777777e+06      2\n",
      "1.120000e+02      2\n",
      "1.010000e+05      2\n",
      "8.560000e+04      2\n",
      "3.900000e+01      2\n",
      "1.240000e+02      2\n",
      "1.040000e+05      2\n",
      "9.800000e+01      2\n",
      "6.900000e+01      2\n",
      "1.130000e+02      2\n",
      "1.860000e+05      2\n",
      "1.080000e+04      2\n",
      "1.810000e+05      2\n",
      "1.220000e+02      2\n",
      "1.100000e+01      2\n",
      "1.360000e+04      2\n",
      "3.650000e+04      2\n",
      "1.350000e+04      2\n",
      "1.490000e+05      2\n",
      "1.180000e+02      2\n",
      "1.870000e+05      2\n",
      "9.000000e+05      2\n",
      "1.070000e+02      2\n",
      "4.600000e+05      2\n",
      "2.950000e+05      2\n",
      "4.900000e+01      2\n",
      "7.000000e+00      2\n",
      "1.300000e+01      2\n",
      "1.630000e+02      1\n",
      "4.000000e+08      1\n",
      "1.412800e+04      1\n",
      "2.275000e+05      1\n",
      "7.521800e+04      1\n",
      "1.640000e+02      1\n",
      "1.138000e+05      1\n",
      "2.350000e+04      1\n",
      "1.900000e+07      1\n",
      "1.031510e+05      1\n",
      "8.655430e+05      1\n",
      "1.170000e+04      1\n",
      "1.235770e+05      1\n",
      "2.508820e+05      1\n",
      "7.648498e+07      1\n",
      "4.750000e+04      1\n",
      "8.050000e+04      1\n",
      "1.950000e+04      1\n",
      "3.700000e+03      1\n",
      "1.850000e+06      1\n",
      "1.000000e+11      1\n",
      "4.180000e+05      1\n",
      "1.270000e+02      1\n",
      "8.654000e+03      1\n",
      "4.950000e+04      1\n",
      "2.860000e+05      1\n",
      "1.560000e+02      1\n",
      "1.310000e+02      1\n",
      "1.790000e+04      1\n",
      "1.111111e+13      1\n",
      "2.240000e+05      1\n",
      "8.999900e+04      1\n",
      "3.100000e+05      1\n",
      "2.590000e+02      1\n",
      "1.234550e+05      1\n",
      "7.550000e+04      1\n",
      "1.740000e+05      1\n",
      "2.600000e+01      1\n",
      "1.660000e+06      1\n",
      "7.568554e+09      1\n",
      "1.224560e+05      1\n",
      "2.490000e+05      1\n",
      "2.670000e+02      1\n",
      "1.001000e+03      1\n",
      "2.350000e+05      1\n",
      "1.850000e+04      1\n",
      "1.224578e+08      1\n",
      "4.790000e+04      1\n",
      "1.860000e+02      1\n",
      "2.165780e+05      1\n",
      "1.080000e+02      1\n",
      "3.850000e+04      1\n",
      "6.400000e+01      1\n",
      "6.700000e+03      1\n",
      "1.111111e+07      1\n",
      "8.747570e+05      1\n",
      "7.667888e+06      1\n",
      "1.234000e+06      1\n",
      "6.200000e+06      1\n",
      "1.008000e+03      1\n",
      "1.740000e+02      1\n",
      "1.770000e+02      1\n",
      "1.910000e+05      1\n",
      "5.000000e+07      1\n",
      "1.800000e+03      1\n",
      "1.730000e+05      1\n",
      "2.222220e+05      1\n",
      "1.233445e+06      1\n",
      "8.546541e+06      1\n",
      "3.600000e+08      1\n",
      "1.244000e+03      1\n",
      "7.777778e+08      1\n",
      "1.900000e+03      1\n",
      "6.200000e+01      1\n",
      "8.000000e+07      1\n",
      "6.777730e+05      1\n",
      "6.678900e+05      1\n",
      "1.038000e+03      1\n",
      "4.666780e+05      1\n",
      "2.460000e+05      1\n",
      "2.220000e+05      1\n",
      "1.210000e+02      1\n",
      "8.550000e+03      1\n",
      "6.800000e+03      1\n",
      "2.000000e+08      1\n",
      "2.040000e+05      1\n",
      "8.570000e+06      1\n",
      "3.543200e+04      1\n",
      "2.290000e+05      1\n",
      "3.685860e+05      1\n",
      "3.555500e+04      1\n",
      "2.720000e+05      1\n",
      "2.256000e+05      1\n",
      "8.522500e+04      1\n",
      "2.320000e+02      1\n",
      "1.510000e+05      1\n",
      "2.121212e+09      1\n",
      "1.773140e+05      1\n",
      "8.568996e+06      1\n",
      "3.350000e+04      1\n",
      "5.255500e+04      1\n",
      "3.540000e+05      1\n",
      "1.040000e+03      1\n",
      "2.250000e+02      1\n",
      "2.810210e+05      1\n",
      "5.600000e+03      1\n",
      "1.940450e+05      1\n",
      "2.260000e+02      1\n",
      "3.960000e+04      1\n",
      "2.640000e+05      1\n",
      "1.334000e+05      1\n",
      "5.400000e+01      1\n",
      "1.695600e+04      1\n",
      "1.670000e+02      1\n",
      "1.470000e+04      1\n",
      "8.400000e+01      1\n",
      "1.790000e+02      1\n",
      "7.000000e+06      1\n",
      "6.047900e+04      1\n",
      "2.970000e+05      1\n",
      "3.457890e+07      1\n",
      "3.050690e+05      1\n",
      "5.543200e+04      1\n",
      "1.233456e+06      1\n",
      "9.930000e+04      1\n",
      "1.106650e+05      1\n",
      "1.234557e+10      1\n",
      "2.450000e+04      1\n",
      "1.675000e+05      1\n",
      "9.300000e+03      1\n",
      "4.231500e+04      1\n",
      "9.499600e+04      1\n",
      "2.050000e+02      1\n",
      "4.300000e+05      1\n",
      "1.670700e+04      1\n",
      "1.704650e+05      1\n",
      "3.903000e+05      1\n",
      "8.043500e+04      1\n",
      "1.650000e+04      1\n",
      "2.880000e+02      1\n",
      "6.500000e+05      1\n",
      "6.250000e+04      1\n",
      "5.443210e+05      1\n",
      "1.222200e+04      1\n",
      "2.865400e+04      1\n",
      "1.530000e+04      1\n",
      "2.150000e+02      1\n",
      "2.167050e+05      1\n",
      "8.900000e+01      1\n",
      "6.580000e+02      1\n",
      "1.000070e+05      1\n",
      "2.410000e+05      1\n",
      "1.000600e+04      1\n",
      "2.888000e+03      1\n",
      "2.330000e+05      1\n",
      "1.440000e+02      1\n",
      "2.588000e+04      1\n",
      "2.170000e+05      1\n",
      "4.532100e+04      1\n",
      "3.900000e+02      1\n",
      "1.233560e+05      1\n",
      "6.528800e+04      1\n",
      "1.209870e+05      1\n",
      "1.000000e+07      1\n",
      "1.020000e+02      1\n",
      "5.300000e+05      1\n",
      "5.555556e+07      1\n",
      "4.445000e+03      1\n",
      "8.543200e+04      1\n",
      "1.690000e+04      1\n",
      "4.580000e+05      1\n",
      "3.526889e+08      1\n",
      "1.876500e+04      1\n",
      "6.080000e+04      1\n",
      "2.530000e+05      1\n",
      "1.011000e+04      1\n",
      "1.070000e+04      1\n",
      "3.476500e+04      1\n",
      "1.032000e+03      1\n",
      "2.420000e+05      1\n",
      "1.580000e+02      1\n",
      "6.500000e+03      1\n",
      "2.150000e+04      1\n",
      "1.430000e+04      1\n",
      "2.974230e+05      1\n",
      "1.820000e+02      1\n",
      "5.804100e+04      1\n",
      "4.187060e+05      1\n",
      "3.260000e+05      1\n",
      "1.890000e+05      1\n",
      "2.328000e+05      1\n",
      "8.565000e+04      1\n",
      "8.855586e+07      1\n",
      "2.201190e+05      1\n",
      "5.855558e+06      1\n",
      "4.356750e+05      1\n",
      "3.399000e+05      1\n",
      "5.090000e+02      1\n",
      "5.000000e+06      1\n",
      "2.040000e+04      1\n",
      "4.655400e+04      1\n",
      "2.046100e+04      1\n",
      "2.650000e+05      1\n",
      "1.025000e+05      1\n",
      "2.026600e+04      1\n",
      "1.280000e+02      1\n",
      "6.200000e+05      1\n",
      "2.000300e+04      1\n",
      "1.146700e+04      1\n",
      "1.900000e+01      1\n",
      "1.720000e+02      1\n",
      "7.575750e+05      1\n",
      "9.000000e+07      1\n",
      "3.600000e+02      1\n",
      "9.877890e+06      1\n",
      "9.099080e+07      1\n",
      "2.448900e+04      1\n",
      "1.760000e+05      1\n",
      "8.768900e+04      1\n",
      "2.447890e+05      1\n",
      "1.415400e+05      1\n",
      "3.336000e+04      1\n",
      "1.234568e+07      1\n",
      "6.770000e+01      1\n",
      "8.960000e+05      1\n",
      "5.435700e+04      1\n",
      "3.880000e+04      1\n",
      "1.837370e+05      1\n",
      "7.856700e+04      1\n",
      "2.382100e+04      1\n",
      "8.740000e+04      1\n",
      "4.450000e+05      1\n",
      "6.750000e+05      1\n",
      "7.000000e+07      1\n",
      "5.566770e+05      1\n",
      "2.165600e+05      1\n",
      "2.400000e+06      1\n",
      "1.460090e+05      1\n",
      "8.500000e+03      1\n",
      "7.700000e+05      1\n",
      "4.444444e+09      1\n",
      "3.500000e+01      1\n",
      "2.570000e+02      1\n",
      "2.849220e+05      1\n",
      "2.077670e+05      1\n",
      "2.000690e+05      1\n",
      "2.310000e+04      1\n",
      "1.466789e+06      1\n",
      "2.644000e+05      1\n",
      "5.456600e+04      1\n",
      "7.150000e+04      1\n",
      "5.870000e+04      1\n",
      "2.400000e+01      1\n",
      "1.253260e+05      1\n",
      "3.900000e+07      1\n",
      "8.840000e+05      1\n",
      "5.000000e+02      1\n",
      "7.000000e+02      1\n",
      "4.455500e+04      1\n",
      "5.300000e+01      1\n",
      "5.600000e+09      1\n",
      "9.200000e+01      1\n",
      "7.545800e+04      1\n",
      "9.977000e+03      1\n",
      "1.238880e+05      1\n",
      "8.970000e+04      1\n",
      "7.100000e+05      1\n",
      "1.135000e+05      1\n",
      "3.315800e+04      1\n",
      "3.086540e+05      1\n",
      "2.302400e+05      1\n",
      "4.920000e+05      1\n",
      "4.150000e+04      1\n",
      "1.234567e+09      1\n",
      "2.950000e+04      1\n",
      "1.500000e+08      1\n",
      "2.900900e+05      1\n",
      "3.636360e+05      1\n",
      "1.600000e+03      1\n",
      "6.200000e+02      1\n",
      "2.566640e+05      1\n",
      "6.788900e+05      1\n",
      "1.655000e+05      1\n",
      "9.998550e+05      1\n",
      "1.570000e+02      1\n",
      "2.740000e+05      1\n",
      "5.100000e+01      1\n",
      "1.800000e+07      1\n",
      "8.270000e+04      1\n",
      "3.212312e+07      1\n",
      "9.900000e+03      1\n",
      "7.100000e+01      1\n",
      "1.432120e+05      1\n",
      "1.234570e+05      1\n",
      "2.070000e+05      1\n",
      "1.004050e+05      1\n",
      "2.000000e+07      1\n",
      "1.000200e+04      1\n",
      "1.874530e+05      1\n",
      "2.020000e+05      1\n",
      "6.500000e+02      1\n",
      "3.197630e+05      1\n",
      "2.500000e+06      1\n",
      "1.400000e+01      1\n",
      "8.000000e+02      1\n",
      "6.851500e+04      1\n",
      "7.770000e+02      1\n",
      "1.458200e+05      1\n",
      "9.880000e+04      1\n",
      "6.666660e+05      1\n",
      "7.775558e+07      1\n",
      "2.123047e+06      1\n",
      "1.420000e+02      1\n",
      "3.211230e+06      1\n",
      "1.800000e+01      1\n",
      "5.400000e+03      1\n",
      "1.354000e+06      1\n",
      "4.555500e+04      1\n",
      "5.555444e+06      1\n",
      "1.200760e+05      1\n",
      "8.800000e+05      1\n",
      "1.190000e+02      1\n",
      "6.666000e+03      1\n",
      "1.999990e+05      1\n",
      "4.650000e+04      1\n",
      "1.336600e+04      1\n",
      "2.330000e+02      1\n",
      "5.675400e+04      1\n",
      "1.007000e+03      1\n",
      "6.550000e+04      1\n",
      "6.038000e+04      1\n",
      "8.000100e+11      1\n",
      "2.600000e+03      1\n",
      "1.620000e+04      1\n",
      "2.850000e+05      1\n",
      "1.460000e+05      1\n",
      "1.233000e+03      1\n",
      "2.134660e+05      1\n",
      "9.300000e+01      1\n",
      "3.333000e+03      1\n",
      "3.300000e+01      1\n",
      "2.270000e+05      1\n",
      "3.001111e+06      1\n",
      "6.289390e+05      1\n",
      "1.423120e+05      1\n",
      "1.160000e+02      1\n",
      "4.600000e+01      1\n",
      "5.666600e+04      1\n",
      "3.253800e+04      1\n",
      "1.600000e+06      1\n",
      "1.111222e+07      1\n",
      "4.456770e+05      1\n",
      "6.500000e+01      1\n",
      "6.489008e+07      1\n",
      "1.799000e+04      1\n",
      "3.850000e+05      1\n",
      "3.750000e+04      1\n",
      "5.050400e+05      1\n",
      "8.580050e+06      1\n",
      "3.200000e+02      1\n",
      "4.444000e+03      1\n",
      "9.440000e+04      1\n",
      "1.470000e+02      1\n",
      "3.400000e+01      1\n",
      "2.880000e+04      1\n",
      "5.670000e+04      1\n",
      "4.899000e+04      1\n",
      "1.111111e+11      1\n",
      "1.245200e+04      1\n",
      "1.291000e+05      1\n",
      "2.448906e+07      1\n",
      "9.150000e+04      1\n",
      "4.200000e+01      1\n",
      "3.800000e+01      1\n",
      "2.700000e+02      1\n",
      "1.413000e+05      1\n",
      "2.017880e+05      1\n",
      "9.990000e+05      1\n",
      "2.450000e+05      1\n",
      "6.660000e+04      1\n",
      "6.112345e+06      1\n",
      "3.200000e+01      1\n",
      "1.750000e+02      1\n",
      "2.356880e+06      1\n",
      "4.700000e+05      1\n",
      "2.770000e+05      1\n",
      "1.605420e+05      1\n",
      "4.030000e+04      1\n",
      "1.483720e+05      1\n",
      "2.030000e+05      1\n",
      "1.212120e+05      1\n",
      "1.031060e+05      1\n",
      "2.190000e+02      1\n",
      "8.211110e+05      1\n",
      "5.263250e+05      1\n",
      "7.500000e+02      1\n",
      "3.234300e+04      1\n",
      "1.100000e+06      1\n",
      "1.990000e+04      1\n",
      "8.800000e+01      1\n",
      "1.764030e+05      1\n",
      "8.700000e+05      1\n",
      "1.185670e+05      1\n",
      "9.500000e+03      1\n",
      "3.500000e+03      1\n",
      "2.095570e+05      1\n",
      "4.800000e+05      1\n",
      "1.230000e+06      1\n",
      "7.450000e+04      1\n",
      "3.630000e+05      1\n",
      "3.456670e+05      1\n",
      "6.300000e+01      1\n",
      "6.578888e+10      1\n",
      "1.206780e+05      1\n",
      "1.244560e+05      1\n",
      "1.635200e+04      1\n",
      "4.500000e+03      1\n",
      "9.950000e+04      1\n",
      "2.220000e+02      1\n",
      "6.841860e+05      1\n",
      "1.800000e+06      1\n",
      "2.613400e+04      1\n",
      "1.555550e+05      1\n",
      "2.450000e+02      1\n",
      "1.920000e+02      1\n",
      "2.510000e+02      1\n",
      "4.273740e+05      1\n",
      "1.276540e+05      1\n",
      "1.500000e+03      1\n",
      "1.759000e+04      1\n",
      "7.500000e+06      1\n",
      "2.620000e+05      1\n",
      "8.700000e+01      1\n",
      "5.400000e+05      1\n",
      "2.500000e+01      1\n",
      "8.088870e+05      1\n",
      "4.500000e+02      1\n",
      "2.200000e+01      1\n",
      "1.682200e+04      1\n",
      "1.231260e+05      1\n",
      "2.632000e+05      1\n",
      "7.686866e+06      1\n",
      "Name: Car_Speedometer1, dtype: int64\n"
     ]
    }
   ],
   "source": [
    "pd.set_option('display.max_rows', None)\n",
    "pd.set_option('display.max_columns', None)\n",
    "pd.set_option('display.width', None)\n",
    "\n",
    "print(df['Car_Speedometer1'].value_counts())"
   ]
  },
  {
   "cell_type": "code",
   "execution_count": 122,
   "id": "e462eeff",
   "metadata": {},
   "outputs": [
    {
     "name": "stdout",
     "output_type": "stream",
     "text": [
      "186\n"
     ]
    }
   ],
   "source": [
    "count_values_grate_than_1000000 = (df['Car_Speedometer1'] > 500000).sum()\n",
    "print(count_values_grate_than_1000000)"
   ]
  },
  {
   "cell_type": "code",
   "execution_count": 123,
   "id": "2c530c6f",
   "metadata": {},
   "outputs": [
    {
     "data": {
      "text/plain": [
       "1997"
      ]
     },
     "execution_count": 123,
     "metadata": {},
     "output_type": "execute_result"
    }
   ],
   "source": [
    "df['Car_Speedometer1'].isna().sum()"
   ]
  },
  {
   "cell_type": "code",
   "execution_count": 124,
   "id": "529d1e79",
   "metadata": {},
   "outputs": [],
   "source": [
    "df['Car_Speedometer1'] = np.where(df['Car_Speedometer1'] > 500000, np.nan, df['Car_Speedometer1'])"
   ]
  },
  {
   "cell_type": "code",
   "execution_count": 125,
   "id": "a341cde1",
   "metadata": {},
   "outputs": [],
   "source": [
    "pd.reset_option('display.max_rows')\n",
    "pd.reset_option('display.max_columns')\n",
    "pd.reset_option('display.width')"
   ]
  },
  {
   "cell_type": "code",
   "execution_count": 126,
   "id": "c34e2946",
   "metadata": {},
   "outputs": [
    {
     "data": {
      "text/plain": [
       "2183"
      ]
     },
     "execution_count": 126,
     "metadata": {},
     "output_type": "execute_result"
    }
   ],
   "source": [
    "df['Car_Speedometer1'].isna().sum()"
   ]
  },
  {
   "cell_type": "code",
   "execution_count": 127,
   "id": "9213fd96",
   "metadata": {},
   "outputs": [
    {
     "name": "stdout",
     "output_type": "stream",
     "text": [
      "82201.54533219397\n"
     ]
    }
   ],
   "source": [
    "mean_value = df['Car_Speedometer1'].mean()\n",
    "print(mean_value)"
   ]
  },
  {
   "cell_type": "code",
   "execution_count": 128,
   "id": "63241409",
   "metadata": {},
   "outputs": [
    {
     "data": {
      "text/plain": [
       "Index(['File_Name', 'Car_Name', 'Model_Year', 'Price', 'Car_Color',\n",
       "       'Fuel_Type', 'Car_Origin', 'Driving_License', 'Lime_Type', 'Glass_Type',\n",
       "       'Motor_Power', 'Passenger_Number', 'Payment_Method', 'Shown_Status',\n",
       "       'Extras', 'Age', 'Car_Speedometer1', 'New_Previous_Owners'],\n",
       "      dtype='object')"
      ]
     },
     "execution_count": 128,
     "metadata": {},
     "output_type": "execute_result"
    }
   ],
   "source": [
    "df.columns"
   ]
  },
  {
   "cell_type": "code",
   "execution_count": 129,
   "id": "3f759884",
   "metadata": {},
   "outputs": [],
   "source": [
    "df['Car_Name'] = df['Car_Name'].str.strip()\n",
    "\n",
    "Car_Name = df['Car_Name'].unique()"
   ]
  },
  {
   "cell_type": "code",
   "execution_count": 130,
   "id": "219465fa",
   "metadata": {},
   "outputs": [
    {
     "name": "stdout",
     "output_type": "stream",
     "text": [
      "['كيا اوبتيما' 'كيا سورينتو' 'هونداي افانتي' 'فيات 127' 'بيجو 208'\n",
      " 'بي ام دبليو x3' 'اوبل كورسا' 'مرسيدس C200' 'فورد فيستا' 'نيسان باترول'\n",
      " 'فورد ترانزيت' 'بيجو 206+' 'سكودا فابيا' 'فيات 1998' 'كيا برايد'\n",
      " 'بيجو بارتنر' 'فولكسفاجن كادي' 'هوندا اكورد' 'اوبل اسكونا'\n",
      " 'هونداي سانتافيه' 'هونداي الانترا' 'هونداي i30' 'هونداي توسان'\n",
      " 'سكودا رابيد' 'هونداي i40' 'سكودا اوكتافيا' 'كيا فورتي' 'اوبل كاديت'\n",
      " 'هونداي اكسنت' 'فولكسفاجن بولو' 'دايو لانوس' 'فولكسفاجن توران'\n",
      " 'شفروليه اوبترا' 'دايو رايسر' 'رينو R9' 'مرسيدس فيتو' 'جييب شيروكي'\n",
      " 'فولكسفاجن كرافيل' 'هونداي جيتس' 'فولكسفاجن جولف' 'فولكسفاجن باسات'\n",
      " 'فولكسفاجن ترانسبورتر' 'اوبل زافيرا' 'سكودا سوبيرب' 'كيا بيكانتو'\n",
      " 'فورد فوكس' 'دايو نوبيرا' 'بي ام دبليو X3' 'شفروليه افيو'\n",
      " 'دراجة نارية دراجه سييم' 'بيجو 305' 'ستروين كسارا' 'هونداي كليك'\n",
      " 'بي ام دبليو 520' 'هونداي i25' 'بيجو 307' 'فولكسفاجن CC' 'دايو ماتيز'\n",
      " 'مرسيدس 220' 'فولفو FH 12' 'اوبل أوميغا' 'كيا ريو' 'اوبل استرا' 'رينو R5'\n",
      " 'مازدا 6' 'دايو ليجانزا' 'كيا سبورتاج' 'فولكسفاجن طوارق' 'ايسوزو تروبر'\n",
      " 'سانغ يونغ Sym' 'سيت ابيزا' 'فيات دوبلو' 'مرسيدس C250' 'بيجو 206'\n",
      " 'فورد كونيكت' 'هونداي فيرنا' 'ايسوزو  4800' 'دايو 2000' 'تويوتا كورولا'\n",
      " 'سيت ليون' 'هونداي i20' 'سوبارو عريض' 'سوبارو نملة' 'بي ام دبليو 320'\n",
      " 'فولكسفاجن GTI' 'تويوتا تيندرا' 'هونداي ix35' 'مرسيدس 200'\n",
      " 'بي ام دبليو 523' 'ستروين C-Elysee' 'مرسيدس S350Long' 'مرسيدس 614'\n",
      " 'فولكسفاجن بيتل' 'هوندا سيفيك' 'دراجة نارية 2013' 'رينو كليو'\n",
      " 'ميتسوبيشي باجيرو' 'بي ام دبليو 740' 'بي ام دبليو 316' 'بيجو 205'\n",
      " 'مرسيدس S320' 'مرسيدس E300' 'فيات باندا' 'مرسيدس 250' 'بي ام دبليو 528'\n",
      " 'ستروين بيكاسو C4' 'بي ام دبليو 530' 'فولكسفاجن بورا' 'بي ام دبليو i 116'\n",
      " 'فولكسفاجن LT' 'دراجة نارية ktm duke 390' 'فولكسفاجن كبينة' 'مرسيدس 410'\n",
      " 'هونداي H1' 'بيجو 207' 'ميتسوبيشي كاريزما' 'بي ام دبليو X5' 'كيا سيراتو'\n",
      " 'بي ام دبليو 318' 'اودي A6' 'فيات اونو' 'اوبل فيكترا' 'سيت قرطبة'\n",
      " 'مازدا 323' 'مرسيدس 412' 'فولكسفاجن كرافتر' 'بيجو 306' 'بيجو 406'\n",
      " 'بي ام دبليو 325' 'كيا سول' 'مازدا 3' 'كيا ماجنتيس' 'ميتسوبيشي لانسر'\n",
      " 'مرسيدس 180' 'اودي Q5' 'مرسيدس 230' 'شاحنة مان' 'مرسيدس 914'\n",
      " 'بي ام دبليو 525' 'فولكسفاجن جيتا' 'هونداي اتوس' 'فولكسفاجن تيجوان'\n",
      " 'بيجو 107' 'مرسيدس E270' 'مازدا 5' 'داف lf.55.220.    مع باب خلفي'\n",
      " 'اودي Q7' 'فولفو 2007' 'اودي 80' 'ميتسوبيشي ماجنوم' 'بيجو 301'\n",
      " 'هونداي تيراكان' 'سكودا فيليسيا' 'جييب Wrangler' 'مرسيدس 416'\n",
      " 'مرسيدس 207' 'مرسيدس S500' 'فولفو FL 12' 'مرسيدس 608' 'مرسيدس 814'\n",
      " 'نيسان ميكرا' 'ميتسوبيشي L200' 'سوزوكي سويفت' 'اوبل كوووورسا بسعر ممتاز'\n",
      " 'شفروليه كافلير' 'داف 55' 'كيا مورننغ' 'ميتسوبيشي بيجيرو كنج'\n",
      " 'داتشيا 2016' 'بيجو 405' 'اودي A4' 'دراجة نارية Sym'\n",
      " 'بي ام دبليو BMW 428i' 'هونداي H100' 'دراجة نارية SYM' 'مرسيدس C270'\n",
      " 'جييب  سوناتا' 'جي ام سي  سفانا' 'مرسيدس S350 long' 'مرسيدس 280'\n",
      " 'سانغ يونغ كيرون' 'دايو سبيرو' 'ميتسوبيشي سبيس ستار'\n",
      " 'هونداي توسان - مع بانوراما وبصمه وشاشة - كاميرا'\n",
      " 'دراجة نارية بوليرس 550' 'سكودا اوكتافيا رمش' 'شفروليه ماليبو'\n",
      " 'شفروليه سبارك' 'بيجو 404' 'دراجة نارية 2016' 'هونداي سوناتا'\n",
      " 'مرسيدس E220' 'فولكسفاجن جولف بلس' 'مرسيدس E200' 'فورد مونديو'\n",
      " 'سانغ يونغ ركستون' 'كاديلاك 2011' 'مرسيدس C 230' 'دراجة نارية سيم ٢٠١٦'\n",
      " 'هونداي توكسون' 'لاندروفر ديسكفري' 'هونداي i10' 'فيات بونتو'\n",
      " 'شاحنة أفيكو تنك مياه' 'بيجو 308' 'فورد ايدج' 'سوبارو امبريزا'\n",
      " 'ستروين بيرلينجو' 'بي ام دبليو ٣٣٠i' 'فيات تيمبرا' 'رينو ميغان'\n",
      " 'ستروين  C4' 'فولكسفاجن بولو اتوماتيك' 'سكودا رومستر' 'مرسيدس 1524'\n",
      " 'شفروليه كروز' 'مرسيدس 300' 'مرسيدس ١٩٩٩' 'مرسيدس 518' 'هونداي كوبيه'\n",
      " 'تويوتا هيلاكس' 'فيات فرينو' 'بيجو 407' 'ستروين بيكاسو C3' 'مرسيدس E280'\n",
      " 'روفر s400' 'مرسيدس 190' 'داتشيا ستيب واي' 'ستروين c3 diesel privat'\n",
      " 'نيسان كشكاي' 'نيسان الميرا' 'سكودا اوكتافيا بانوراما' 'سكودا نيو'\n",
      " 'مرسيدس اتكو' 'كيا 2012' 'جييب Compass' 'ميتسوبيشي اوت لاندر'\n",
      " 'نيسان تيرانو' 'باص فولكس شتل ترانسبورتر' 'هونداي سنتافاي فل اضافات'\n",
      " 'جييب سانتافيه' 'ميتسوبيشي اتراج' 'ميتسوبيشي كانتر' 'مرسيدس 240'\n",
      " 'فورد موستانغ' 'هونداي تراجيت' 'باص مرسيدس ٣٠٩' 'فولفو FL 7'\n",
      " 'بي ام دبليو  x1' 'سوبارو ليجاسي' 'نيسان تيدا' 'سكودا يتي'\n",
      " 'مرسيدس غواصة S320' 'شفروليه Vandora' 'مرسيدس 350' 'هوندا توسان'\n",
      " 'مرسيدس e270' 'مرسيدس باص 519'\n",
      " 'كيا سبورتاج اصل الماني  بانوراما بصمه شاشه كاميرا' 'كيا سييد'\n",
      " 'مرسيدس C180' 'سيت توليدو' 'فيات ريجاتا' 'مرسيدس 6 روس قلاب'\n",
      " 'مرسيدس 2007' 'رينو كانجو' 'دراجة نارية Ktm' 'فورد اسكورت'\n",
      " 'مرسيدس سبرنتر' 'دراجة نارية ktm' 'مرسيدس اتكوا ١٢١٨' 'تويوتا برادو'\n",
      " 'فولفو فولفو  740 GL' 'أفيكو 150E25' 'اودي A3' 'ايسوزو شحن' 'اوبل  موكا'\n",
      " 'فيات فيات 132' 'فولفو FL6' 'ستروين C3' 'مرسيدس E350'\n",
      " 'مرسيدس باص تجاري 413' 'هوندا CR-V' 'بي ام دبليو E30' 'سكودا سبيس باك'\n",
      " 'شفروليه بونتياك جراند بريكس' 'مرسيدس ١١١٧' 'فولفو FM 10' 'مرسيدس 411'\n",
      " 'دراجة نارية ٢٠١٦' 'دراجة نارية 2017' 'تويوتا لاند كروزر' 'مرسيدس 1999'\n",
      " 'شفروليه كابتيفا' 'بيجو 508' 'مرسيدس 711' 'نيسان جوك' 'ايسوزو ١٩٩٨'\n",
      " 'هونداي ٢٠٠٦' 'دايو سوبر رايسر' 'باص فورد' 'شفروليه همر H3' 'أفيكو 2007'\n",
      " 'بي ام دبليو 735i' 'هونداي 2006' 'بي ام دبليو 1988' 'مرسيدس E250'\n",
      " 'داف 45' 'هوندا I30' 'تويوتا اورايون' 'جييب Compas' 'تويوتا  تندر'\n",
      " 'ستروين DS3' 'بي ام دبليو 330i' 'شفروليه ترافرس' 'فولفو 1997'\n",
      " 'مرسيدس ١٩٩٨' 'بيجو  بارتنر Tepee' 'اوبل موكا mokka' 'ستروين جامبي'\n",
      " 'ميتسوبيشي سبيس واجن' 'رينو فلوانس' 'مرسيدس C300' 'مرسيدس C220'\n",
      " 'مرسيدس SL350' 'مرسيدس 1624' 'فولفو  S40' 'مرسيدس 519' 'ستروين Ds5'\n",
      " 'رينو 87' 'شاحنة اسكانيا' 'سوبارو B4' 'ايسوزو تندر' 'جييب كومباس'\n",
      " 'سكودا كودياك' 'فولفو 440' 'بي ام دبليو Xdrive  X3..28i' 'باص سلندر 5 LT'\n",
      " 'فولكسفاجن أماروك' 'بي ام دبليو X4' 'دراجة نارية هيوسنج GTR'\n",
      " 'ميتسوبيشي جالانت' 'هونداي اكسنت كوري بصمه' 'ميتسوبيشي L400' 'بيجو 2001'\n",
      " 'تويوتا راف' 'رينو اكسبرس' 'دراجة نارية سيم جتا ١٤' 'مرسيدس E220 D'\n",
      " 'فولكسفاجن Tsi' 'دراجة نارية Sym wolf 250' 'شفروليه بونتباك'\n",
      " 'سانغ يونغ موسو' 'فولكسفاجن تعديل ار' 'مرسيدس GLA200' 'فيات سيات'\n",
      " 'مرسيدس  اتيكو 10 17' 'باص 1999' 'فولكسفاجن جوالف' 'فولكسفاجن 2005'\n",
      " 'هونداي ٢٠١٥' 'مرسيدس فيانو' 'فيات 2004' 'فيات لينيا' 'مازدا cx3'\n",
      " 'فيات تيبو' 'دراجة نارية 2012' 'بيجو اكسبرت' 'داف CF85' 'اودي A80'\n",
      " 'بي ام دبليو 328' 'سيت 1985' 'Dodge Massey ferguson' 'سيت كوبرا'\n",
      " 'اوبل إنسيجنيا' 'اودي 1985' 'سوزوكي Kawasaki' 'فولفو FM 7' 'شفروليه 2008'\n",
      " 'لاندروفر ديفندر' 'اوبل  ريكورد' 'سكودا 2014' 'سانغ يونغ اكتيون'\n",
      " 'دراجة نارية Sym joui ride 200 evo 2016' 'ميتسوبيشي 2003'\n",
      " 'بي ام دبليو 335' 'ستروين 2007' 'ميتسوبيشي I300' 'ديهاتسو  ابلاوس'\n",
      " 'بيجو بوكسر' 'مرسيدس 413' 'فورد  اكس بلورر' 'داف 2006' 'ايسوزو ديماكس'\n",
      " 'مرسيدس 709' 'بيجو 2008' 'شاحنة قلاب ميرسيدس سنجل' 'جييب كرايزلر'\n",
      " 'ستروين C1' 'كيا 2007' 'رينو منوف فاسي 800' 'فيات 2009' 'جييب 1993'\n",
      " 'أفيكو  50c18دبل كابينه' 'بي ام دبليو 218d' 'بي ام دبليو ميني كوبر'\n",
      " 'سكودا ٢٠١٥' 'مرسيدس 260' 'لاندروفر سنتانا' 'ايسوزو   شحن'\n",
      " 'جي ام سي  فاندورا' 'أفيكو ٢٠١٠' 'داتشيا دوكر' 'ستروين Spacetourer'\n",
      " 'سكودا 2008' 'فيات 131 ستيشن' 'فيات اوتوبيانكي' 'فيات كيوبو'\n",
      " 'كيا كيا K5/ ترخيص 2014' 'بي ام دبليو بي ام 320' 'كيا نيرو هايبرد'\n",
      " 'مازدا  mbv' 'رينو 12ستيشن' 'فولكسفاجن كبينه' 'هونداي tucan'\n",
      " 'مازدا لانتس' 'فولفو  s40' 'ستروين بيرلينجو مالتي سبيس' 'بيجو 3008'\n",
      " 'جييب sofa' 'أفيكو ديلي' 'شاحنة سكانيا' 'دراجة نارية سيام' 'أفيكو ٢٣٠'\n",
      " 'مرسيدس c' 'أفيكو 65C18' 'دراجة نارية Joymax 2014' 'شفروليه سوبيربان'\n",
      " 'بي ام دبليو  330 e' 'مرسيدس 313' 'دراجة نارية فزبه سيم' 'سكودا MPI'\n",
      " 'هونداي 2019' 'دراجة نارية Kawasaki ninja' 'بيجو Tepee' 'فولفو 88'\n",
      " 'بي ام دبليو X7' 'جييب Patriot' 'نيسان LV200' 'اودي 2001'\n",
      " 'دراجة نارية Tweet' 'داتشيا لودجي' 'أفيكو 2010' 'سكودا 2006'\n",
      " 'شفروليه 1997' 'داتشيا داستر' 'هونداي ايونيك' 'اوبل ١٩٨٣'\n",
      " 'دراجة نارية هايسونق' 'سكودا citigo' 'فورد كوجا' 'كيا ٢٠١٩' 'شاحنة داف'\n",
      " 'فولفو Fl6' 'روفر رانج روفر سبوت بلاك اديشن' 'اوبل ڤيڤارو' 'فيات 1990'\n",
      " 'شفروليه  سافانا' 'بيجو 5008' 'هونداي كونا' 'شاحنة  scania'\n",
      " 'بي ام دبليو 535' 'فورد F 150' 'كيا K3' 'مرسيدس ٢٠٠٣' 'كيا k3'\n",
      " 'داتشيا رينو' 'مازدا  تندر' 'الفا روميو 2014 جوليتا' 'اودي 2000'\n",
      " 'بيجو كوننيت connect' 'مرسيدس شبح' 'هونداي 2007' 'بي ام دبليو BMW/ D 218'\n",
      " 'دراجة نارية  ياماها 2018' 'ستروين C5' 'نيسان اكس تريل'\n",
      " 'دراجة نارية 2015' 'أفيكو c15' 'فولكسفاجن فينتو' 'بي ام دبليو 330i e90'\n",
      " 'دراجة نارية  ياماها' 'بي ام دبليو 218d 7 ركاب' 'مرسيدس 1983'\n",
      " 'مرسيدس GLC250' 'دراجة نارية KTM duke' 'مرسيدس 1990' 'فورد اكسبلورر'\n",
      " 'Dodge رام' 'ميتسوبيشي  هنتر' 'كيا ستونك' 'كيا نيرو'\n",
      " 'داف  اكس اف راس تريلا' 'مرسيدس 170' 'هونداي 2018' 'سكودا 2019'\n",
      " 'دراجة نارية SYM..Joyride' 'اودي Slin' 'فولكسفاجن Golf 2006'\n",
      " 'بي ام دبليو 735' 'مازدا BT50' 'بيجو 308 GTi' 'بي ام دبليو x4'\n",
      " 'نيسان وينر' 'دراجة نارية 2018' 'سكودا 2003' 'بي ام دبليو Bmw e46'\n",
      " 'فولكسفاجن 2004' 'مرسيدس  1524 أتيكو' 'شفروليه 2000' 'سيت ارونا'\n",
      " 'فولكسفاجن 2007' 'فولكسفاجن شيروكو' 'بي ام دبليو BMW735' 'سكودا 2007'\n",
      " 'باص 412' 'شفروليه 2007' 'مرسيدس w210' 'اوبل 99' 'دراجة نارية بولاريس'\n",
      " 'سيت أتيكا' 'ايسوزو 1999' 'أفيكو IVIECO 50C15CH' 'رينو 2003'\n",
      " 'أفيكو 50C13' 'بي ام دبليو M3' 'بي ام دبليو 420I coupe' 'اوبل استر'\n",
      " 'نيسان ألتيما' 'نيسان نوت' 'سكودا كاروك' 'بي ام دبليو 2005' 'جييب همر'\n",
      " 'هونداي فينيو' 'هونداي فيلوستر' 'جاجوار XE' 'بي ام دبليو ٢٠١٢'\n",
      " 'مرسيدس  515' 'جييب كرايسلر' 'كيا 2005' 'تويوتا 2012' 'بيجو 607'\n",
      " 'جييب Renegade' 'مرسيدس CLA180' 'اوبل 1983' 'شفروليه أفيوو'\n",
      " 'بي ام دبليو x1' 'جييب باتريوت' 'هونداي سنتافيه' 'بي ام دبليو 218 D'\n",
      " 'فولكسفاجن 2018' 'مرسيدس 2006' 'سكودا ستيشن' 'مرسيدس GLC 250'\n",
      " 'فولكسفاجن  تي كروس' 'تويوتا تندر 2/4' 'فيات ٢٠١٦' 'لاندروفر رينج روفر'\n",
      " 'دراجة نارية Yamaha R3' 'فولكسفاجن جولف R' 'جييب روبيكون' 'مرسيدس E230'\n",
      " 'أفيكو 2000' 'فورد F350' 'بي ام دبليو كوبرا' 'سكودا كاميك'\n",
      " 'بي ام دبليو ٢٠٠٦' 'جاجوار   xf' 'سكودا سكالا' 'بيجو 308 GT'\n",
      " 'سوبارو نمله' 'مازدا  سوداني' 'دراجة نارية Sym wolf 250cc'\n",
      " 'مرسيدس GLA 250' 'رينو كابتر' 'الفا روميو جوليتا' 'مرسيدس 1713'\n",
      " 'دراجة نارية Sym jet 14' 'سكودا  رمش' 'دراجة نارية سيم جت 4'\n",
      " 'مرسيدس اتيكو' 'فورد 2013' 'باص ٢١٢' 'اودي A8' 'سوبارو ستيشن'\n",
      " 'بي ام دبليو  330i' 'مرسيدس E320' 'سوبارو B3' 'اودي TT كوبيه'\n",
      " 'مرسيدس باص 212' 'اوبل موكا' 'مرسيدس C230' 'بيجو برلنجو' 'سكودا 2012'\n",
      " 'بي ام دبليو BMW هلالي' 'دراجة نارية جيو رايد' 'مرسيدس باص' 'سكودا 2020'\n",
      " 'فولكسفاجن t-cross' 'بي ام دبليو 2006' 'هونداي 2014' 'فولكسفاجن t-roc'\n",
      " 'كيا K5' 'هونداي 2001' 'دراجة نارية sym xpro' 'مرسيدس 6 ابواب'\n",
      " 'ميتسوبيشي سوبر لانسر' 'دراجة نارية كواساكي' 'مازدا B2500']\n"
     ]
    }
   ],
   "source": [
    "Car_Name1 = df['Car_Name'].unique()\n",
    "print(Car_Name1)  "
   ]
  },
  {
   "cell_type": "code",
   "execution_count": 131,
   "id": "5ba231ec",
   "metadata": {},
   "outputs": [
    {
     "data": {
      "text/plain": [
       "سكودا اوكتافيا    499\n",
       "هونداي اكسنت      253\n",
       "هونداي توسان      249\n",
       "فولكسفاجن جولف    243\n",
       "فولكسفاجن بولو    220\n",
       "                 ... \n",
       "مازدا cx3           1\n",
       "فيات 2004           1\n",
       "هونداي ٢٠١٥         1\n",
       "فولكسفاجن 2005      1\n",
       "مازدا B2500         1\n",
       "Name: Car_Name, Length: 619, dtype: int64"
      ]
     },
     "execution_count": 131,
     "metadata": {},
     "output_type": "execute_result"
    }
   ],
   "source": [
    "df.Car_Name.value_counts()"
   ]
  },
  {
   "cell_type": "code",
   "execution_count": 132,
   "id": "6db9c2e7",
   "metadata": {},
   "outputs": [
    {
     "name": "stderr",
     "output_type": "stream",
     "text": [
      "C:\\Users\\Alaa_Abdallah\\AppData\\Local\\Temp\\ipykernel_10852\\2156793939.py:7: FutureWarning: The default value of regex will change from True to False in a future version. In addition, single character regular expressions will *not* be treated as literal strings when regex=True.\n",
      "  df['Car_Name'] = df['Car_Name'].str.replace(text, '')\n"
     ]
    }
   ],
   "source": [
    "texts_to_remove = ['مع باب خلفي', '2013', '+', '1998', '2007','بسعر ممتاز','2016',' - مع بانوراما وبصمه وشاشة - كاميرا','٢٠١٦','2011','١٩٩٩',\n",
    "                   'diesel privat','2012','فل اضافات']\n",
    "\n",
    "for text in texts_to_remove:\n",
    "    df['Car_Name'] = df['Car_Name'].str.replace(text, '')\n",
    "\n",
    "df['Car_Name'] = df['Car_Name'].str.strip()\n"
   ]
  },
  {
   "cell_type": "code",
   "execution_count": 133,
   "id": "274bc58f",
   "metadata": {},
   "outputs": [],
   "source": [
    "# List of keywords\n",
    "keywords = ['فورد', 'سيت', 'سانغ يونغ', 'ايسوزو', 'مازدا', 'رينو', 'فولفو', 'ستروين', 'دراجة نارية', 'جييب',\n",
    "            'رينو', 'شفروليه', 'دايو', 'هونداي', 'فولكسفاجن', 'كيا', 'سكودا', 'نيسان', 'فورد', 'مرسيدس', 'اوبل',\n",
    "            'بي ام دبليو', 'كيا', 'هوندا', 'فيات', 'بيجو', 'ديهاتسو', 'أفيكو', 'باص', 'روفر', 'لاندروفر', 'كاديلاك',\n",
    "            'جي ام سي', 'داتشيا', 'سوزوكي', 'داف', 'شاحنة', 'تويوتا', 'سوبارو', 'ميتسوبيشي', 'اودي','جاجوار','رام','الفا روميو',\n",
    "            'Dodge Massey ferguson']\n",
    "\n",
    "# Create a new column and populate it based on keywords\n",
    "df['New_Column_carName'] = df['Car_Name'].apply(lambda x: next((kw for kw in keywords if kw in x), None))"
   ]
  },
  {
   "cell_type": "code",
   "execution_count": 134,
   "id": "8a583387",
   "metadata": {},
   "outputs": [
    {
     "data": {
      "text/plain": [
       "0             كيا\n",
       "3             كيا\n",
       "4          هونداي\n",
       "6            فيات\n",
       "7            بيجو\n",
       "          ...    \n",
       "7771          كيا\n",
       "7772         فورد\n",
       "7773         بيجو\n",
       "7774          كيا\n",
       "7776    فولكسفاجن\n",
       "Name: New_Column_carName, Length: 6864, dtype: object"
      ]
     },
     "execution_count": 134,
     "metadata": {},
     "output_type": "execute_result"
    }
   ],
   "source": [
    "df['New_Column_carName'] "
   ]
  },
  {
   "cell_type": "code",
   "execution_count": 135,
   "id": "64147bde",
   "metadata": {},
   "outputs": [
    {
     "data": {
      "text/plain": [
       "0                كيا اوبتيما\n",
       "3                كيا سورينتو\n",
       "4              هونداي افانتي\n",
       "6                   فيات 127\n",
       "7                   بيجو 208\n",
       "                ...         \n",
       "7771              كيا مورننغ\n",
       "7772            فورد ترانزيت\n",
       "7773             بيجو بارتنر\n",
       "7774             كيا سورينتو\n",
       "7776    فولكسفاجن ترانسبورتر\n",
       "Name: Car_Name, Length: 6864, dtype: object"
      ]
     },
     "execution_count": 135,
     "metadata": {},
     "output_type": "execute_result"
    }
   ],
   "source": [
    "df['Car_Name']"
   ]
  },
  {
   "cell_type": "code",
   "execution_count": 136,
   "id": "fbf04bb9",
   "metadata": {},
   "outputs": [
    {
     "data": {
      "text/plain": [
       "array(['4', '7', nan, '5', '4+1', '8', '6', '7,+ 1', '7:1', '1+7', '1+4',\n",
       "       '2', '6+1', '6±1', '22', '1', '5+1', '5+2', 'مثال: 4 + 1', '7.1',\n",
       "       '7 =1', '7+1', '1+2', '6x1', '2/1', '8+1', '4+2', '104', '4\\\\1',\n",
       "       '000', '3', 'اكثر من 10', '9'], dtype=object)"
      ]
     },
     "execution_count": 136,
     "metadata": {},
     "output_type": "execute_result"
    }
   ],
   "source": [
    "df['Passenger_Number'] = df['Passenger_Number'].str.strip()\n",
    "\n",
    "df['Passenger_Number'].unique()"
   ]
  },
  {
   "cell_type": "code",
   "execution_count": 137,
   "id": "e711297e",
   "metadata": {},
   "outputs": [],
   "source": [
    "df.to_excel('feature_engineering_V5.xlsx', index=False)"
   ]
  },
  {
   "cell_type": "code",
   "execution_count": 138,
   "id": "bf5ee127",
   "metadata": {},
   "outputs": [
    {
     "data": {
      "text/plain": [
       "(6864, 19)"
      ]
     },
     "execution_count": 138,
     "metadata": {},
     "output_type": "execute_result"
    }
   ],
   "source": [
    "df.shape"
   ]
  },
  {
   "cell_type": "code",
   "execution_count": 139,
   "id": "f8506092",
   "metadata": {},
   "outputs": [
    {
     "data": {
      "text/plain": [
       "File_Name                 0\n",
       "Car_Name                  0\n",
       "Model_Year                0\n",
       "Price                     0\n",
       "Car_Color                 0\n",
       "Fuel_Type                 0\n",
       "Car_Origin                0\n",
       "Driving_License           0\n",
       "Lime_Type                 0\n",
       "Glass_Type                0\n",
       "Motor_Power               0\n",
       "Passenger_Number        778\n",
       "Payment_Method            0\n",
       "Shown_Status              0\n",
       "Extras                    0\n",
       "Age                       0\n",
       "Car_Speedometer1       2183\n",
       "New_Previous_Owners       0\n",
       "New_Column_carName        0\n",
       "dtype: int64"
      ]
     },
     "execution_count": 139,
     "metadata": {},
     "output_type": "execute_result"
    }
   ],
   "source": [
    "df.isna().sum()"
   ]
  },
  {
   "cell_type": "code",
   "execution_count": 140,
   "id": "bb249bed",
   "metadata": {},
   "outputs": [
    {
     "data": {
      "text/html": [
       "<div>\n",
       "<style scoped>\n",
       "    .dataframe tbody tr th:only-of-type {\n",
       "        vertical-align: middle;\n",
       "    }\n",
       "\n",
       "    .dataframe tbody tr th {\n",
       "        vertical-align: top;\n",
       "    }\n",
       "\n",
       "    .dataframe thead th {\n",
       "        text-align: right;\n",
       "    }\n",
       "</style>\n",
       "<table border=\"1\" class=\"dataframe\">\n",
       "  <thead>\n",
       "    <tr style=\"text-align: right;\">\n",
       "      <th></th>\n",
       "      <th>File_Name</th>\n",
       "      <th>Car_Name</th>\n",
       "      <th>Model_Year</th>\n",
       "      <th>Price</th>\n",
       "      <th>Car_Color</th>\n",
       "      <th>Fuel_Type</th>\n",
       "      <th>Car_Origin</th>\n",
       "      <th>Driving_License</th>\n",
       "      <th>Lime_Type</th>\n",
       "      <th>Glass_Type</th>\n",
       "      <th>Motor_Power</th>\n",
       "      <th>Passenger_Number</th>\n",
       "      <th>Payment_Method</th>\n",
       "      <th>Shown_Status</th>\n",
       "      <th>Extras</th>\n",
       "      <th>Age</th>\n",
       "      <th>Car_Speedometer1</th>\n",
       "      <th>New_Previous_Owners</th>\n",
       "      <th>New_Column_carName</th>\n",
       "    </tr>\n",
       "  </thead>\n",
       "  <tbody>\n",
       "    <tr>\n",
       "      <th>0</th>\n",
       "      <td>500118.txt</td>\n",
       "      <td>كيا اوبتيما</td>\n",
       "      <td>2014</td>\n",
       "      <td>100000</td>\n",
       "      <td>white</td>\n",
       "      <td>petrol</td>\n",
       "      <td>private</td>\n",
       "      <td>Palestinian</td>\n",
       "      <td>Automatic</td>\n",
       "      <td>electronic</td>\n",
       "      <td>2000.0</td>\n",
       "      <td>4</td>\n",
       "      <td>cash</td>\n",
       "      <td>For_sale</td>\n",
       "      <td>sunroof</td>\n",
       "      <td>9</td>\n",
       "      <td>75000.0</td>\n",
       "      <td>1.0</td>\n",
       "      <td>كيا</td>\n",
       "    </tr>\n",
       "    <tr>\n",
       "      <th>3</th>\n",
       "      <td>500163.txt</td>\n",
       "      <td>كيا سورينتو</td>\n",
       "      <td>2007</td>\n",
       "      <td>60000</td>\n",
       "      <td>Grey</td>\n",
       "      <td>diesel</td>\n",
       "      <td>private</td>\n",
       "      <td>Palestinian</td>\n",
       "      <td>Semi automatic</td>\n",
       "      <td>electronic</td>\n",
       "      <td>2500.0</td>\n",
       "      <td>7</td>\n",
       "      <td>Installment</td>\n",
       "      <td>Sell_or_exchange</td>\n",
       "      <td>sunroof</td>\n",
       "      <td>16</td>\n",
       "      <td>130000.0</td>\n",
       "      <td>2.0</td>\n",
       "      <td>كيا</td>\n",
       "    </tr>\n",
       "    <tr>\n",
       "      <th>4</th>\n",
       "      <td>500226.txt</td>\n",
       "      <td>هونداي افانتي</td>\n",
       "      <td>2006</td>\n",
       "      <td>43500</td>\n",
       "      <td>Grey</td>\n",
       "      <td>petrol</td>\n",
       "      <td>private</td>\n",
       "      <td>Palestinian</td>\n",
       "      <td>Automatic</td>\n",
       "      <td>electronic</td>\n",
       "      <td>1600.0</td>\n",
       "      <td>NaN</td>\n",
       "      <td>cash</td>\n",
       "      <td>For_sale</td>\n",
       "      <td>No_Sunroof</td>\n",
       "      <td>17</td>\n",
       "      <td>NaN</td>\n",
       "      <td>2.0</td>\n",
       "      <td>هونداي</td>\n",
       "    </tr>\n",
       "    <tr>\n",
       "      <th>6</th>\n",
       "      <td>500390.txt</td>\n",
       "      <td>فيات 127</td>\n",
       "      <td>1982</td>\n",
       "      <td>5500</td>\n",
       "      <td>beige</td>\n",
       "      <td>petrol</td>\n",
       "      <td>private</td>\n",
       "      <td>Palestinian</td>\n",
       "      <td>normal</td>\n",
       "      <td>Manual</td>\n",
       "      <td>906.0</td>\n",
       "      <td>4</td>\n",
       "      <td>Installment</td>\n",
       "      <td>For_sale</td>\n",
       "      <td>No_Sunroof</td>\n",
       "      <td>41</td>\n",
       "      <td>NaN</td>\n",
       "      <td>0.0</td>\n",
       "      <td>فيات</td>\n",
       "    </tr>\n",
       "    <tr>\n",
       "      <th>7</th>\n",
       "      <td>500393.txt</td>\n",
       "      <td>بيجو 208</td>\n",
       "      <td>2014</td>\n",
       "      <td>54000</td>\n",
       "      <td>Grey</td>\n",
       "      <td>petrol</td>\n",
       "      <td>private</td>\n",
       "      <td>Palestinian</td>\n",
       "      <td>Automatic</td>\n",
       "      <td>electronic</td>\n",
       "      <td>1200.0</td>\n",
       "      <td>4</td>\n",
       "      <td>cash</td>\n",
       "      <td>For_sale</td>\n",
       "      <td>No_Sunroof</td>\n",
       "      <td>9</td>\n",
       "      <td>38000.0</td>\n",
       "      <td>2.0</td>\n",
       "      <td>بيجو</td>\n",
       "    </tr>\n",
       "  </tbody>\n",
       "</table>\n",
       "</div>"
      ],
      "text/plain": [
       "    File_Name       Car_Name  Model_Year    Price Car_Color Fuel_Type  \\\n",
       "0  500118.txt    كيا اوبتيما        2014  100000      white    petrol   \n",
       "3  500163.txt    كيا سورينتو        2007   60000       Grey    diesel   \n",
       "4  500226.txt  هونداي افانتي        2006   43500       Grey    petrol   \n",
       "6  500390.txt       فيات 127        1982    5500      beige    petrol   \n",
       "7  500393.txt       بيجو 208        2014   54000       Grey    petrol   \n",
       "\n",
       "  Car_Origin Driving_License       Lime_Type  Glass_Type  Motor_Power  \\\n",
       "0    private     Palestinian       Automatic  electronic       2000.0   \n",
       "3    private     Palestinian  Semi automatic  electronic       2500.0   \n",
       "4    private     Palestinian       Automatic  electronic       1600.0   \n",
       "6    private     Palestinian          normal      Manual        906.0   \n",
       "7    private     Palestinian       Automatic  electronic       1200.0   \n",
       "\n",
       "  Passenger_Number Payment_Method      Shown_Status      Extras  Age  \\\n",
       "0                4           cash         For_sale      sunroof    9   \n",
       "3                7    Installment  Sell_or_exchange     sunroof   16   \n",
       "4              NaN           cash         For_sale   No_Sunroof   17   \n",
       "6                4    Installment         For_sale   No_Sunroof   41   \n",
       "7                4           cash         For_sale   No_Sunroof    9   \n",
       "\n",
       "   Car_Speedometer1  New_Previous_Owners New_Column_carName  \n",
       "0           75000.0                  1.0                كيا  \n",
       "3          130000.0                  2.0                كيا  \n",
       "4               NaN                  2.0             هونداي  \n",
       "6               NaN                  0.0               فيات  \n",
       "7           38000.0                  2.0               بيجو  "
      ]
     },
     "execution_count": 140,
     "metadata": {},
     "output_type": "execute_result"
    }
   ],
   "source": [
    "df.head()"
   ]
  },
  {
   "cell_type": "code",
   "execution_count": 141,
   "id": "0251ad78",
   "metadata": {},
   "outputs": [
    {
     "data": {
      "text/plain": [
       "count      4681.000000\n",
       "mean      82201.545332\n",
       "std       85986.818507\n",
       "min           0.000000\n",
       "25%        4700.000000\n",
       "50%       65000.000000\n",
       "75%      123457.000000\n",
       "max      500000.000000\n",
       "Name: Car_Speedometer1, dtype: float64"
      ]
     },
     "execution_count": 141,
     "metadata": {},
     "output_type": "execute_result"
    }
   ],
   "source": [
    "df.Car_Speedometer1.describe()"
   ]
  },
  {
   "cell_type": "code",
   "execution_count": 142,
   "id": "8859885b",
   "metadata": {},
   "outputs": [
    {
     "data": {
      "text/plain": [
       "File_Name                 0\n",
       "Car_Name                  0\n",
       "Model_Year                0\n",
       "Price                     0\n",
       "Car_Color                 0\n",
       "Fuel_Type                 0\n",
       "Car_Origin                0\n",
       "Driving_License           0\n",
       "Lime_Type                 0\n",
       "Glass_Type                0\n",
       "Motor_Power               0\n",
       "Passenger_Number        778\n",
       "Payment_Method            0\n",
       "Shown_Status              0\n",
       "Extras                    0\n",
       "Age                       0\n",
       "Car_Speedometer1       2183\n",
       "New_Previous_Owners       0\n",
       "New_Column_carName        0\n",
       "dtype: int64"
      ]
     },
     "execution_count": 142,
     "metadata": {},
     "output_type": "execute_result"
    }
   ],
   "source": [
    "df.isna().sum()"
   ]
  },
  {
   "cell_type": "code",
   "execution_count": 143,
   "id": "6091f53b",
   "metadata": {},
   "outputs": [
    {
     "data": {
      "text/plain": [
       "0       1.0\n",
       "3       2.0\n",
       "4       2.0\n",
       "6       0.0\n",
       "7       2.0\n",
       "       ... \n",
       "7771    2.0\n",
       "7772    5.0\n",
       "7773    0.0\n",
       "7774    2.0\n",
       "7776    5.0\n",
       "Name: New_Previous_Owners, Length: 6864, dtype: float64"
      ]
     },
     "execution_count": 143,
     "metadata": {},
     "output_type": "execute_result"
    }
   ],
   "source": [
    "df['New_Previous_Owners']"
   ]
  },
  {
   "cell_type": "code",
   "execution_count": 148,
   "id": "ce4a8300",
   "metadata": {},
   "outputs": [
    {
     "data": {
      "text/html": [
       "<div>\n",
       "<style scoped>\n",
       "    .dataframe tbody tr th:only-of-type {\n",
       "        vertical-align: middle;\n",
       "    }\n",
       "\n",
       "    .dataframe tbody tr th {\n",
       "        vertical-align: top;\n",
       "    }\n",
       "\n",
       "    .dataframe thead th {\n",
       "        text-align: right;\n",
       "    }\n",
       "</style>\n",
       "<table border=\"1\" class=\"dataframe\">\n",
       "  <thead>\n",
       "    <tr style=\"text-align: right;\">\n",
       "      <th></th>\n",
       "      <th>File_Name</th>\n",
       "      <th>Car_Name</th>\n",
       "      <th>Model_Year</th>\n",
       "      <th>Price</th>\n",
       "      <th>Car_Color</th>\n",
       "      <th>Fuel_Type</th>\n",
       "      <th>Car_Origin</th>\n",
       "      <th>Driving_License</th>\n",
       "      <th>Lime_Type</th>\n",
       "      <th>Glass_Type</th>\n",
       "      <th>Motor_Power</th>\n",
       "      <th>Passenger_Number</th>\n",
       "      <th>Payment_Method</th>\n",
       "      <th>Shown_Status</th>\n",
       "      <th>Extras</th>\n",
       "      <th>Age</th>\n",
       "      <th>Car_Speedometer1</th>\n",
       "      <th>New_Previous_Owners</th>\n",
       "      <th>New_Column_carName</th>\n",
       "    </tr>\n",
       "  </thead>\n",
       "  <tbody>\n",
       "    <tr>\n",
       "      <th>0</th>\n",
       "      <td>500118.txt</td>\n",
       "      <td>كيا اوبتيما</td>\n",
       "      <td>2014</td>\n",
       "      <td>100000</td>\n",
       "      <td>white</td>\n",
       "      <td>petrol</td>\n",
       "      <td>private</td>\n",
       "      <td>Palestinian</td>\n",
       "      <td>Automatic</td>\n",
       "      <td>electronic</td>\n",
       "      <td>2000.0</td>\n",
       "      <td>4</td>\n",
       "      <td>cash</td>\n",
       "      <td>For_sale</td>\n",
       "      <td>sunroof</td>\n",
       "      <td>9</td>\n",
       "      <td>75000.0</td>\n",
       "      <td>1.0</td>\n",
       "      <td>كيا</td>\n",
       "    </tr>\n",
       "  </tbody>\n",
       "</table>\n",
       "</div>"
      ],
      "text/plain": [
       "    File_Name     Car_Name  Model_Year    Price Car_Color Fuel_Type  \\\n",
       "0  500118.txt  كيا اوبتيما        2014  100000      white    petrol   \n",
       "\n",
       "  Car_Origin Driving_License  Lime_Type  Glass_Type  Motor_Power  \\\n",
       "0    private     Palestinian  Automatic  electronic       2000.0   \n",
       "\n",
       "  Passenger_Number Payment_Method Shown_Status   Extras  Age  \\\n",
       "0                4           cash    For_sale   sunroof    9   \n",
       "\n",
       "   Car_Speedometer1  New_Previous_Owners New_Column_carName  \n",
       "0           75000.0                  1.0                كيا  "
      ]
     },
     "execution_count": 148,
     "metadata": {},
     "output_type": "execute_result"
    }
   ],
   "source": [
    "df.head(1)"
   ]
  },
  {
   "cell_type": "code",
   "execution_count": 152,
   "id": "48d25e28",
   "metadata": {},
   "outputs": [
    {
     "data": {
      "text/plain": [
       "array([ 1.,  2.,  0.,  4.,  3.,  8.,  6.,  5.,  9.,  7., 12., 10., 11.,\n",
       "       13., 16., 17., 15., 14.])"
      ]
     },
     "execution_count": 152,
     "metadata": {},
     "output_type": "execute_result"
    }
   ],
   "source": [
    "df['New_Previous_Owners'].unique()\n"
   ]
  }
 ],
 "metadata": {
  "kernelspec": {
   "display_name": "Python 3 (ipykernel)",
   "language": "python",
   "name": "python3"
  },
  "language_info": {
   "codemirror_mode": {
    "name": "ipython",
    "version": 3
   },
   "file_extension": ".py",
   "mimetype": "text/x-python",
   "name": "python",
   "nbconvert_exporter": "python",
   "pygments_lexer": "ipython3",
   "version": "3.10.9"
  }
 },
 "nbformat": 4,
 "nbformat_minor": 5
}
