{
 "cells": [
  {
   "cell_type": "code",
   "execution_count": 8,
   "id": "4a1b9e47",
   "metadata": {},
   "outputs": [],
   "source": [
    "from bs4 import BeautifulSoup \n",
    "import pandas as pd\n",
    "import matplotlib.pyplot as plt\n",
    "import numpy as np\n",
    "%matplotlib inline\n",
    "import statsmodels.api as sm\n",
    "import datetime\n",
    " \n",
    "import seaborn as sns\n",
    " \n",
    "from sklearn.model_selection import train_test_split\n",
    "from sklearn.linear_model import LinearRegression\n",
    "from sklearn.ensemble import RandomForestRegressor\n",
    "from sklearn.preprocessing import StandardScaler\n",
    "from sklearn.metrics import r2_score\n",
    "\n",
    "from sklearn.preprocessing import OneHotEncoder, StandardScaler, MinMaxScaler \n",
    "from sklearn.model_selection import GridSearchCV, train_test_split, KFold, cross_val_score\n",
    "from sklearn.linear_model import LinearRegression\n",
    "from sklearn.metrics import r2_score, mean_squared_error, accuracy_score, mean_absolute_error, mean_squared_error\n",
    "from sklearn.ensemble import GradientBoostingRegressor\n",
    "from sklearn.neural_network import MLPRegressor\n",
    "from sklearn.svm import SVR\n",
    "from sklearn.neighbors import KNeighborsRegressor\n",
    "from sklearn.cross_decomposition import PLSRegression\n",
    "from sklearn.tree import DecisionTreeRegressor\n",
    "from sklearn.utils import shuffle \n",
    "from sklearn.preprocessing import LabelEncoder\n",
    "labelencoder = LabelEncoder()\n",
    "import pickle\n",
    "from scipy import stats    \n"
   ]
  },
  {
   "cell_type": "code",
   "execution_count": 9,
   "id": "3dbd51c9",
   "metadata": {},
   "outputs": [],
   "source": [
    "df= pd.read_excel(r'feature_engineering_V5.xlsx')"
   ]
  },
  {
   "cell_type": "code",
   "execution_count": 10,
   "id": "216e0e05",
   "metadata": {},
   "outputs": [
    {
     "data": {
      "text/plain": [
       "File_Name                 0\n",
       "Car_Name                  0\n",
       "Model_Year                0\n",
       "Price                     0\n",
       "Car_Color                 0\n",
       "Fuel_Type                 0\n",
       "Car_Origin                0\n",
       "Driving_License           0\n",
       "Lime_Type                 0\n",
       "Glass_Type                0\n",
       "Motor_Power               0\n",
       "Passenger_Number        778\n",
       "Payment_Method            0\n",
       "Shown_Status              0\n",
       "Extras                    0\n",
       "Age                       0\n",
       "Car_Speedometer1       2183\n",
       "New_Previous_Owners       0\n",
       "New_Column_carName        0\n",
       "dtype: int64"
      ]
     },
     "execution_count": 10,
     "metadata": {},
     "output_type": "execute_result"
    }
   ],
   "source": [
    "df.isna().sum()"
   ]
  },
  {
   "cell_type": "code",
   "execution_count": 11,
   "id": "cbdae137",
   "metadata": {},
   "outputs": [],
   "source": [
    "mean_previous_owners = df['New_Previous_Owners'].mean()\n",
    "df['New_Previous_Owners'].fillna(mean_previous_owners, inplace=True)"
   ]
  },
  {
   "cell_type": "code",
   "execution_count": 12,
   "id": "6445d70c",
   "metadata": {},
   "outputs": [
    {
     "data": {
      "text/html": [
       "<div>\n",
       "<style scoped>\n",
       "    .dataframe tbody tr th:only-of-type {\n",
       "        vertical-align: middle;\n",
       "    }\n",
       "\n",
       "    .dataframe tbody tr th {\n",
       "        vertical-align: top;\n",
       "    }\n",
       "\n",
       "    .dataframe thead th {\n",
       "        text-align: right;\n",
       "    }\n",
       "</style>\n",
       "<table border=\"1\" class=\"dataframe\">\n",
       "  <thead>\n",
       "    <tr style=\"text-align: right;\">\n",
       "      <th></th>\n",
       "      <th>File_Name</th>\n",
       "      <th>Car_Name</th>\n",
       "      <th>Model_Year</th>\n",
       "      <th>Price</th>\n",
       "      <th>Car_Color</th>\n",
       "      <th>Fuel_Type</th>\n",
       "      <th>Car_Origin</th>\n",
       "      <th>Driving_License</th>\n",
       "      <th>Lime_Type</th>\n",
       "      <th>Glass_Type</th>\n",
       "      <th>Motor_Power</th>\n",
       "      <th>Passenger_Number</th>\n",
       "      <th>Payment_Method</th>\n",
       "      <th>Shown_Status</th>\n",
       "      <th>Extras</th>\n",
       "      <th>Age</th>\n",
       "      <th>Car_Speedometer1</th>\n",
       "      <th>New_Previous_Owners</th>\n",
       "      <th>New_Column_carName</th>\n",
       "    </tr>\n",
       "  </thead>\n",
       "  <tbody>\n",
       "    <tr>\n",
       "      <th>0</th>\n",
       "      <td>500118.txt</td>\n",
       "      <td>كيا اوبتيما</td>\n",
       "      <td>2014</td>\n",
       "      <td>100000</td>\n",
       "      <td>white</td>\n",
       "      <td>petrol</td>\n",
       "      <td>private</td>\n",
       "      <td>Palestinian</td>\n",
       "      <td>Automatic</td>\n",
       "      <td>electronic</td>\n",
       "      <td>2000</td>\n",
       "      <td>4</td>\n",
       "      <td>cash</td>\n",
       "      <td>For_sale</td>\n",
       "      <td>sunroof</td>\n",
       "      <td>9</td>\n",
       "      <td>75000.0</td>\n",
       "      <td>1</td>\n",
       "      <td>كيا</td>\n",
       "    </tr>\n",
       "    <tr>\n",
       "      <th>1</th>\n",
       "      <td>500163.txt</td>\n",
       "      <td>كيا سورينتو</td>\n",
       "      <td>2007</td>\n",
       "      <td>60000</td>\n",
       "      <td>Grey</td>\n",
       "      <td>diesel</td>\n",
       "      <td>private</td>\n",
       "      <td>Palestinian</td>\n",
       "      <td>Semi automatic</td>\n",
       "      <td>electronic</td>\n",
       "      <td>2500</td>\n",
       "      <td>7</td>\n",
       "      <td>Installment</td>\n",
       "      <td>Sell_or_exchange</td>\n",
       "      <td>sunroof</td>\n",
       "      <td>16</td>\n",
       "      <td>130000.0</td>\n",
       "      <td>2</td>\n",
       "      <td>كيا</td>\n",
       "    </tr>\n",
       "  </tbody>\n",
       "</table>\n",
       "</div>"
      ],
      "text/plain": [
       "    File_Name     Car_Name  Model_Year   Price Car_Color Fuel_Type Car_Origin  \\\n",
       "0  500118.txt  كيا اوبتيما        2014  100000     white    petrol    private   \n",
       "1  500163.txt  كيا سورينتو        2007   60000      Grey    diesel    private   \n",
       "\n",
       "  Driving_License       Lime_Type  Glass_Type  Motor_Power Passenger_Number  \\\n",
       "0     Palestinian       Automatic  electronic         2000                4   \n",
       "1     Palestinian  Semi automatic  electronic         2500                7   \n",
       "\n",
       "  Payment_Method      Shown_Status   Extras  Age  Car_Speedometer1  \\\n",
       "0           cash         For_sale   sunroof    9           75000.0   \n",
       "1    Installment  Sell_or_exchange  sunroof   16          130000.0   \n",
       "\n",
       "   New_Previous_Owners New_Column_carName  \n",
       "0                    1                كيا  \n",
       "1                    2                كيا  "
      ]
     },
     "execution_count": 12,
     "metadata": {},
     "output_type": "execute_result"
    }
   ],
   "source": [
    "df.head(2)"
   ]
  },
  {
   "cell_type": "code",
   "execution_count": 13,
   "id": "2c646f0c",
   "metadata": {},
   "outputs": [
    {
     "data": {
      "text/plain": [
       "82201.54533219397"
      ]
     },
     "execution_count": 13,
     "metadata": {},
     "output_type": "execute_result"
    }
   ],
   "source": [
    "mean_value = df['Car_Speedometer1'].mean()\n",
    "mean_value"
   ]
  },
  {
   "cell_type": "code",
   "execution_count": 14,
   "id": "3c2642e6",
   "metadata": {},
   "outputs": [],
   "source": [
    "df['Car_Speedometer1'].fillna(int(mean_value), inplace=True)         #           هلالي   رام    ركاب"
   ]
  },
  {
   "cell_type": "code",
   "execution_count": 15,
   "id": "4efd5b29",
   "metadata": {},
   "outputs": [
    {
     "name": "stderr",
     "output_type": "stream",
     "text": [
      "C:\\Users\\Alaa_Abdallah\\AppData\\Local\\Temp\\ipykernel_12004\\3647292599.py:10: FutureWarning: The default value of regex will change from True to False in a future version. In addition, single character regular expressions will *not* be treated as literal strings when regex=True.\n",
      "  df['Car_Name'] = df['Car_Name'].str.replace(text, '')\n",
      "C:\\Users\\Alaa_Abdallah\\AppData\\Local\\Temp\\ipykernel_12004\\3647292599.py:10: FutureWarning: The default value of regex will change from True to False in a future version.\n",
      "  df['Car_Name'] = df['Car_Name'].str.replace(text, '')\n"
     ]
    }
   ],
   "source": [
    "# List of texts I want to delete\n",
    "texts_to_remove = ['+','1998','2000','4800','2013','مع باب خلفي','2007','كوووورسا بسعر ممتاز','2016','- مع بانوراما وبصمه وشاشة - كاميرا',\n",
    "             '2016','٢٠١٦','2011','تنك مياه','١٩٩٩','diesel privat','Compass','2012','فل اضافات','x1','اصل الماني  بانوراما بصمه شاشه كاميرا',\n",
    "                  '١٢١٨','١١١٧','٢٠١٦','2017','1999','١٩٩٨','٢٠٠٦','2006','1988','1997','سكودا كودياك  Xdrive  X3..28i',\n",
    "                  '2001','اكسنت كوري بصمه','تعديل ار','1999','2005','٢٠١٥','2004','1985','2008','2014','2003','1993','2009',\n",
    "                  'd','٢٠١٥','٢٠١٠','2019','2010','١٩٨٣','٢٠١٩','1990','٢٠٠٣','connect','2018','2015','1983','2000','1983',\n",
    "                  '٢٠١٢','2006','2/4','ابواب 6']\n",
    "\n",
    "for text in texts_to_remove:\n",
    "    df['Car_Name'] = df['Car_Name'].str.replace(text, '')\n",
    "\n",
    "df['Car_Name'] = df['Car_Name'].str.strip()"
   ]
  },
  {
   "cell_type": "code",
   "execution_count": 16,
   "id": "d3a6c791",
   "metadata": {},
   "outputs": [
    {
     "data": {
      "text/plain": [
       "array(['4', '7', nan, '5', '4+1', '8', '6', '7,+ 1', '7:1', '1+7', '1+4',\n",
       "       '2', '6+1', '6±1', '22', '1', '5+1', '5+2', 'مثال: 4 + 1', '7.1',\n",
       "       '7 =1', '7+1', '1+2', '6x1', '2/1', '8+1', '4+2', '104', '4\\\\1',\n",
       "       '000', '3', 'اكثر من 10', '9'], dtype=object)"
      ]
     },
     "execution_count": 16,
     "metadata": {},
     "output_type": "execute_result"
    }
   ],
   "source": [
    "df['Passenger_Number'].unique()"
   ]
  },
  {
   "cell_type": "code",
   "execution_count": 17,
   "id": "2ae5efee",
   "metadata": {},
   "outputs": [],
   "source": [
    "texts_to_remove = [ ]\n",
    "\n",
    "for text in texts_to_remove:\n",
    "    df['Car_Name'] = df['Car_Name'].str.replace(text, '')\n",
    "\n",
    "df['Car_Name'] = df['Car_Name'].str.strip()"
   ]
  },
  {
   "cell_type": "code",
   "execution_count": 18,
   "id": "872466bc",
   "metadata": {},
   "outputs": [],
   "source": [
    "df['Passenger_Number'] = df['Passenger_Number'].str.strip()\n",
    "df['Passenger_Number'].replace({\n",
    "    '000':'0',\n",
    "     '4+1':'5',\n",
    "    '7,+ 1':'8',\n",
    "    '1+7':'8',\n",
    "    '1+4':'5',\n",
    "    '6+1':'7',\n",
    "    '6±1':'7',\n",
    "    '5+1':'6',\n",
    "    '5+2':'7',\n",
    "    '7.1':'8',\n",
    "    'مثال: 4 + 1':'5',\n",
    "    '7 =1':'8',\n",
    "    '7+1':'8',\n",
    "    '1+2':'3',\n",
    "    '6x1':'7',\n",
    "    '2/1':'5',\n",
    "    '8+1':'9',\n",
    "    '4+2':'6',\n",
    "    '104':'5',\n",
    "    '4\\\\1':'5',\n",
    "    '7:1':'8',\n",
    "    'اكثر من 10':'5',          }, inplace=True)"
   ]
  },
  {
   "cell_type": "code",
   "execution_count": 19,
   "id": "07ac1a37",
   "metadata": {},
   "outputs": [],
   "source": [
    "df['Passenger_Number'] = pd.to_numeric(df['Passenger_Number'], errors='coerce')\n",
    "\n",
    "# Fill NaN values with the mean of the column\n",
    "mean_value = df['Passenger_Number'].mean()\n",
    "df['Passenger_Number'].fillna(mean_value, inplace=True)\n",
    "\n",
    "# Convert to integers\n",
    "df['Passenger_Number'] = df['Passenger_Number'].astype(int)"
   ]
  },
  {
   "cell_type": "code",
   "execution_count": 20,
   "id": "60dc407a",
   "metadata": {},
   "outputs": [
    {
     "data": {
      "text/plain": [
       "4"
      ]
     },
     "execution_count": 20,
     "metadata": {},
     "output_type": "execute_result"
    }
   ],
   "source": [
    "mean_value = df['Passenger_Number'].mean()\n",
    "int(mean_value)"
   ]
  },
  {
   "cell_type": "code",
   "execution_count": 21,
   "id": "f5445e75",
   "metadata": {},
   "outputs": [],
   "source": [
    "df['Passenger_Number'].fillna(int(mean_value), inplace=True)"
   ]
  },
  {
   "cell_type": "code",
   "execution_count": 22,
   "id": "2ef0e25a",
   "metadata": {},
   "outputs": [],
   "source": [
    "df['Passenger_Number'] = pd.to_numeric(df['Passenger_Number'], errors='coerce').astype(int)"
   ]
  },
  {
   "cell_type": "code",
   "execution_count": 23,
   "id": "2f95d4b4",
   "metadata": {},
   "outputs": [
    {
     "data": {
      "text/plain": [
       "array([ 4,  7,  5,  8,  6,  2, 22,  1,  3,  9,  0])"
      ]
     },
     "execution_count": 23,
     "metadata": {},
     "output_type": "execute_result"
    }
   ],
   "source": [
    "df['Passenger_Number'].unique()"
   ]
  },
  {
   "cell_type": "code",
   "execution_count": 17,
   "id": "2dd6c5f0",
   "metadata": {},
   "outputs": [],
   "source": [
    "df.to_excel('feature_engineering_newV6.xlsx', index=False)"
   ]
  },
  {
   "cell_type": "code",
   "execution_count": 24,
   "id": "8274bf54",
   "metadata": {},
   "outputs": [
    {
     "data": {
      "text/plain": [
       "white             2117\n",
       "Grey              2035\n",
       "black              950\n",
       "blue               430\n",
       "red                388\n",
       "navy blue          214\n",
       "green              161\n",
       "yellow             160\n",
       "brown              125\n",
       "petroleum          106\n",
       "beige               72\n",
       "several colors      55\n",
       "orange              35\n",
       "purple              16\n",
       "Name: Car_Color, dtype: int64"
      ]
     },
     "execution_count": 24,
     "metadata": {},
     "output_type": "execute_result"
    }
   ],
   "source": [
    " df.Car_Color.value_counts() "
   ]
  },
  {
   "cell_type": "code",
   "execution_count": 25,
   "id": "1915dc13",
   "metadata": {},
   "outputs": [
    {
     "data": {
      "image/png": "[encoded data removed]",
      "text/plain": [
       "<Figure size 3000x3000 with 9 Axes>"
      ]
     },
     "metadata": {},
     "output_type": "display_data"
    }
   ],
   "source": [
    "import matplotlib.pyplot as plt  # Import the pyplot module from Matplotlib\n",
    "df.hist(bins=100,figsize=(30,30))\n",
    "plt.show() "
   ]
  },
  {
   "cell_type": "code",
   "execution_count": 26,
   "id": "dba9b8fa",
   "metadata": {},
   "outputs": [
    {
     "data": {
      "text/plain": [
       "فولكسفاجن                1160\n",
       "هونداي                   1046\n",
       "كيا                       827\n",
       "سكودا                     770\n",
       "اوبل                      493\n",
       "مرسيدس                    367\n",
       "بيجو                      330\n",
       "سيت                       261\n",
       "فورد                      233\n",
       "بي ام دبليو               219\n",
       "فيات                      149\n",
       "ستروين                     99\n",
       "ميتسوبيشي                  95\n",
       "شفروليه                    88\n",
       "دايو                       84\n",
       "اودي                       84\n",
       "سوبارو                     83\n",
       "رينو                       63\n",
       "نيسان                      47\n",
       "تويوتا                     45\n",
       "هوندا                      44\n",
       "دراجة نارية                43\n",
       "مازدا                      37\n",
       "جييب                       34\n",
       "فولفو                      26\n",
       "أفيكو                      26\n",
       "روفر                       20\n",
       "ايسوزو                     19\n",
       "داف                        16\n",
       "سانغ يونغ                  15\n",
       "داتشيا                     11\n",
       "شاحنة                       8\n",
       "جي ام سي                    5\n",
       "باص                         5\n",
       "جاجوار                      3\n",
       "سوزوكي                      2\n",
       "الفا روميو                  2\n",
       "رام                         2\n",
       "كاديلاك                     1\n",
       "Dodge Massey ferguson       1\n",
       "ديهاتسو                     1\n",
       "Name: New_Column_carName, dtype: int64"
      ]
     },
     "execution_count": 26,
     "metadata": {},
     "output_type": "execute_result"
    }
   ],
   "source": [
    "df['New_Column_carName'].value_counts()"
   ]
  },
  {
   "cell_type": "code",
   "execution_count": 27,
   "id": "941088c3",
   "metadata": {},
   "outputs": [],
   "source": [
    "# Assigning unique labels to each brand\n",
    "df['Brand_Unique_Label'] = pd.factorize(df['New_Column_carName'])[0]"
   ]
  },
  {
   "cell_type": "code",
   "execution_count": 28,
   "id": "7045fc4f",
   "metadata": {},
   "outputs": [],
   "source": [
    "# Binary encoding\n",
    "df['Sunroof_Presence'] = (df['Extras'] == 'sunroof').astype(int)"
   ]
  },
  {
   "cell_type": "code",
   "execution_count": 29,
   "id": "f75176dd",
   "metadata": {},
   "outputs": [
    {
     "data": {
      "text/plain": [
       "File_Name              0\n",
       "Car_Name               0\n",
       "Model_Year             0\n",
       "Price                  0\n",
       "Car_Color              0\n",
       "Fuel_Type              0\n",
       "Car_Origin             0\n",
       "Driving_License        0\n",
       "Lime_Type              0\n",
       "Glass_Type             0\n",
       "Motor_Power            0\n",
       "Passenger_Number       0\n",
       "Payment_Method         0\n",
       "Shown_Status           0\n",
       "Extras                 0\n",
       "Age                    0\n",
       "Car_Speedometer1       0\n",
       "New_Previous_Owners    0\n",
       "New_Column_carName     0\n",
       "Brand_Unique_Label     0\n",
       "Sunroof_Presence       0\n",
       "dtype: int64"
      ]
     },
     "execution_count": 29,
     "metadata": {},
     "output_type": "execute_result"
    }
   ],
   "source": [
    "df.isna().sum()"
   ]
  },
  {
   "cell_type": "code",
   "execution_count": 30,
   "id": "1cd8e277",
   "metadata": {},
   "outputs": [
    {
     "data": {
      "text/html": [
       "<div>\n",
       "<style scoped>\n",
       "    .dataframe tbody tr th:only-of-type {\n",
       "        vertical-align: middle;\n",
       "    }\n",
       "\n",
       "    .dataframe tbody tr th {\n",
       "        vertical-align: top;\n",
       "    }\n",
       "\n",
       "    .dataframe thead th {\n",
       "        text-align: right;\n",
       "    }\n",
       "</style>\n",
       "<table border=\"1\" class=\"dataframe\">\n",
       "  <thead>\n",
       "    <tr style=\"text-align: right;\">\n",
       "      <th></th>\n",
       "      <th>File_Name</th>\n",
       "      <th>Car_Name</th>\n",
       "      <th>Model_Year</th>\n",
       "      <th>Price</th>\n",
       "      <th>Car_Color</th>\n",
       "      <th>Fuel_Type</th>\n",
       "      <th>Car_Origin</th>\n",
       "      <th>Driving_License</th>\n",
       "      <th>Lime_Type</th>\n",
       "      <th>Glass_Type</th>\n",
       "      <th>...</th>\n",
       "      <th>Passenger_Number</th>\n",
       "      <th>Payment_Method</th>\n",
       "      <th>Shown_Status</th>\n",
       "      <th>Extras</th>\n",
       "      <th>Age</th>\n",
       "      <th>Car_Speedometer1</th>\n",
       "      <th>New_Previous_Owners</th>\n",
       "      <th>New_Column_carName</th>\n",
       "      <th>Brand_Unique_Label</th>\n",
       "      <th>Sunroof_Presence</th>\n",
       "    </tr>\n",
       "  </thead>\n",
       "  <tbody>\n",
       "    <tr>\n",
       "      <th>0</th>\n",
       "      <td>500118.txt</td>\n",
       "      <td>كيا اوبتيما</td>\n",
       "      <td>2014</td>\n",
       "      <td>100000</td>\n",
       "      <td>white</td>\n",
       "      <td>petrol</td>\n",
       "      <td>private</td>\n",
       "      <td>Palestinian</td>\n",
       "      <td>Automatic</td>\n",
       "      <td>electronic</td>\n",
       "      <td>...</td>\n",
       "      <td>4</td>\n",
       "      <td>cash</td>\n",
       "      <td>For_sale</td>\n",
       "      <td>sunroof</td>\n",
       "      <td>9</td>\n",
       "      <td>75000.0</td>\n",
       "      <td>1</td>\n",
       "      <td>كيا</td>\n",
       "      <td>0</td>\n",
       "      <td>1</td>\n",
       "    </tr>\n",
       "    <tr>\n",
       "      <th>1</th>\n",
       "      <td>500163.txt</td>\n",
       "      <td>كيا سورينتو</td>\n",
       "      <td>2007</td>\n",
       "      <td>60000</td>\n",
       "      <td>Grey</td>\n",
       "      <td>diesel</td>\n",
       "      <td>private</td>\n",
       "      <td>Palestinian</td>\n",
       "      <td>Semi automatic</td>\n",
       "      <td>electronic</td>\n",
       "      <td>...</td>\n",
       "      <td>7</td>\n",
       "      <td>Installment</td>\n",
       "      <td>Sell_or_exchange</td>\n",
       "      <td>sunroof</td>\n",
       "      <td>16</td>\n",
       "      <td>130000.0</td>\n",
       "      <td>2</td>\n",
       "      <td>كيا</td>\n",
       "      <td>0</td>\n",
       "      <td>1</td>\n",
       "    </tr>\n",
       "  </tbody>\n",
       "</table>\n",
       "<p>2 rows × 21 columns</p>\n",
       "</div>"
      ],
      "text/plain": [
       "    File_Name     Car_Name  Model_Year   Price Car_Color Fuel_Type Car_Origin  \\\n",
       "0  500118.txt  كيا اوبتيما        2014  100000     white    petrol    private   \n",
       "1  500163.txt  كيا سورينتو        2007   60000      Grey    diesel    private   \n",
       "\n",
       "  Driving_License       Lime_Type  Glass_Type  ...  Passenger_Number  \\\n",
       "0     Palestinian       Automatic  electronic  ...                 4   \n",
       "1     Palestinian  Semi automatic  electronic  ...                 7   \n",
       "\n",
       "   Payment_Method      Shown_Status   Extras Age  Car_Speedometer1  \\\n",
       "0            cash         For_sale   sunroof   9           75000.0   \n",
       "1     Installment  Sell_or_exchange  sunroof  16          130000.0   \n",
       "\n",
       "   New_Previous_Owners  New_Column_carName Brand_Unique_Label  \\\n",
       "0                    1                 كيا                  0   \n",
       "1                    2                 كيا                  0   \n",
       "\n",
       "   Sunroof_Presence  \n",
       "0                 1  \n",
       "1                 1  \n",
       "\n",
       "[2 rows x 21 columns]"
      ]
     },
     "execution_count": 30,
     "metadata": {},
     "output_type": "execute_result"
    }
   ],
   "source": [
    "df.head(2)"
   ]
  },
  {
   "cell_type": "code",
   "execution_count": 31,
   "id": "fee4e1fb",
   "metadata": {},
   "outputs": [
    {
     "data": {
      "text/plain": [
       "cash           4323\n",
       "Installment    2541\n",
       "Name: Payment_Method, dtype: int64"
      ]
     },
     "execution_count": 31,
     "metadata": {},
     "output_type": "execute_result"
    }
   ],
   "source": [
    "df.Payment_Method.value_counts()"
   ]
  },
  {
   "cell_type": "code",
   "execution_count": 32,
   "id": "88b5c470",
   "metadata": {},
   "outputs": [
    {
     "data": {
      "text/plain": [
       "Index(['File_Name', 'Car_Name', 'Model_Year', 'Price', 'Car_Color',\n",
       "       'Fuel_Type', 'Car_Origin', 'Driving_License', 'Lime_Type', 'Glass_Type',\n",
       "       'Motor_Power', 'Passenger_Number', 'Payment_Method', 'Shown_Status',\n",
       "       'Extras', 'Age', 'Car_Speedometer1', 'New_Previous_Owners',\n",
       "       'New_Column_carName', 'Brand_Unique_Label', 'Sunroof_Presence'],\n",
       "      dtype='object')"
      ]
     },
     "execution_count": 32,
     "metadata": {},
     "output_type": "execute_result"
    }
   ],
   "source": [
    "df.columns"
   ]
  },
  {
   "cell_type": "code",
   "execution_count": 33,
   "id": "c495a04e",
   "metadata": {},
   "outputs": [
    {
     "data": {
      "text/plain": [
       "petrol         3970\n",
       "diesel         2870\n",
       "Hybrid           23\n",
       "electricity       1\n",
       "Name: Fuel_Type, dtype: int64"
      ]
     },
     "execution_count": 33,
     "metadata": {},
     "output_type": "execute_result"
    }
   ],
   "source": [
    "df.Fuel_Type.value_counts()"
   ]
  },
  {
   "cell_type": "code",
   "execution_count": 34,
   "id": "169500be",
   "metadata": {},
   "outputs": [],
   "source": [
    "df = df[df['Fuel_Type'] != 'electricity']"
   ]
  },
  {
   "cell_type": "code",
   "execution_count": 35,
   "id": "d617a517",
   "metadata": {},
   "outputs": [],
   "source": [
    "df = pd.get_dummies(df, columns=['Car_Color'], prefix='color')"
   ]
  },
  {
   "cell_type": "code",
   "execution_count": 36,
   "id": "607c540f",
   "metadata": {},
   "outputs": [],
   "source": [
    "df = pd.get_dummies(df, columns=['Brand_Unique_Label'], prefix='BUL')"
   ]
  },
  {
   "cell_type": "code",
   "execution_count": 37,
   "id": "cd2ae43f",
   "metadata": {},
   "outputs": [],
   "source": [
    "df = pd.get_dummies(df, columns=['Payment_Method'], prefix='Payment')\n",
    "df = pd.get_dummies(df, columns=['Fuel_Type'], prefix='Fuel')\n",
    "df = pd.get_dummies(df, columns=['Car_Origin'], prefix='CarOrigin')\n",
    "df = pd.get_dummies(df, columns=['Driving_License'], prefix='DL')\n",
    "df = pd.get_dummies(df, columns=['Lime_Type'], prefix='LT')\n",
    "df = pd.get_dummies(df, columns=['Glass_Type'], prefix='Glass')"
   ]
  },
  {
   "cell_type": "code",
   "execution_count": 38,
   "id": "319e0f3d",
   "metadata": {},
   "outputs": [],
   "source": [
    "df = pd.get_dummies(df, columns=['Shown_Status'], prefix='Shown')"
   ]
  },
  {
   "cell_type": "code",
   "execution_count": 39,
   "id": "05b19bc0",
   "metadata": {},
   "outputs": [
    {
     "data": {
      "text/plain": [
       "Index(['File_Name', 'Car_Name', 'Model_Year', 'Price', 'Motor_Power',\n",
       "       'Passenger_Number', 'Extras', 'Age', 'Car_Speedometer1',\n",
       "       'New_Previous_Owners', 'New_Column_carName', 'Sunroof_Presence',\n",
       "       'color_Grey', 'color_beige', 'color_black', 'color_blue', 'color_brown',\n",
       "       'color_green', 'color_navy blue', 'color_orange', 'color_petroleum',\n",
       "       'color_purple', 'color_red', 'color_several colors', 'color_white',\n",
       "       'color_yellow', 'BUL_0', 'BUL_1', 'BUL_2', 'BUL_3', 'BUL_4', 'BUL_5',\n",
       "       'BUL_6', 'BUL_7', 'BUL_8', 'BUL_9', 'BUL_10', 'BUL_11', 'BUL_12',\n",
       "       'BUL_13', 'BUL_14', 'BUL_15', 'BUL_16', 'BUL_17', 'BUL_18', 'BUL_19',\n",
       "       'BUL_20', 'BUL_21', 'BUL_22', 'BUL_23', 'BUL_24', 'BUL_25', 'BUL_26',\n",
       "       'BUL_27', 'BUL_28', 'BUL_29', 'BUL_30', 'BUL_31', 'BUL_32', 'BUL_33',\n",
       "       'BUL_34', 'BUL_35', 'BUL_36', 'BUL_37', 'BUL_38', 'BUL_39', 'BUL_40',\n",
       "       'Payment_Installment', 'Payment_cash', 'Fuel_Hybrid', 'Fuel_diesel',\n",
       "       'Fuel_petrol', 'CarOrigin_Leasing', 'CarOrigin_Tegari',\n",
       "       'CarOrigin_governmental', 'CarOrigin_private', 'CarOrigin_public',\n",
       "       'CarOrigin_training', 'DL_Non_Palestinian', 'DL_Palestinian',\n",
       "       'LT_Automatic', 'LT_Semi automatic', 'LT_normal', 'Glass_Manual',\n",
       "       'Glass_electronic', 'Shown_For_sale ', 'Shown_Sell_or_exchange',\n",
       "       'Shown_To_switch '],\n",
       "      dtype='object')"
      ]
     },
     "execution_count": 39,
     "metadata": {},
     "output_type": "execute_result"
    }
   ],
   "source": [
    "df.columns"
   ]
  },
  {
   "cell_type": "code",
   "execution_count": 40,
   "id": "d1e1dbf6",
   "metadata": {},
   "outputs": [],
   "source": [
    "df.to_excel('feature_engineering_the_last_version.xlsx', index=False)"
   ]
  },
  {
   "cell_type": "code",
   "execution_count": 41,
   "id": "ac68bba0",
   "metadata": {},
   "outputs": [
    {
     "data": {
      "text/html": [
       "<div>\n",
       "<style scoped>\n",
       "    .dataframe tbody tr th:only-of-type {\n",
       "        vertical-align: middle;\n",
       "    }\n",
       "\n",
       "    .dataframe tbody tr th {\n",
       "        vertical-align: top;\n",
       "    }\n",
       "\n",
       "    .dataframe thead th {\n",
       "        text-align: right;\n",
       "    }\n",
       "</style>\n",
       "<table border=\"1\" class=\"dataframe\">\n",
       "  <thead>\n",
       "    <tr style=\"text-align: right;\">\n",
       "      <th></th>\n",
       "      <th>Price</th>\n",
       "      <th>Motor_Power</th>\n",
       "      <th>Passenger_Number</th>\n",
       "      <th>Age</th>\n",
       "      <th>Car_Speedometer1</th>\n",
       "      <th>New_Previous_Owners</th>\n",
       "      <th>Sunroof_Presence</th>\n",
       "      <th>color_Grey</th>\n",
       "      <th>color_beige</th>\n",
       "      <th>color_black</th>\n",
       "      <th>...</th>\n",
       "      <th>DL_Non_Palestinian</th>\n",
       "      <th>DL_Palestinian</th>\n",
       "      <th>LT_Automatic</th>\n",
       "      <th>LT_Semi automatic</th>\n",
       "      <th>LT_normal</th>\n",
       "      <th>Glass_Manual</th>\n",
       "      <th>Glass_electronic</th>\n",
       "      <th>Shown_For_sale</th>\n",
       "      <th>Shown_Sell_or_exchange</th>\n",
       "      <th>Shown_To_switch</th>\n",
       "    </tr>\n",
       "  </thead>\n",
       "  <tbody>\n",
       "    <tr>\n",
       "      <th>0</th>\n",
       "      <td>100000</td>\n",
       "      <td>2000</td>\n",
       "      <td>4</td>\n",
       "      <td>9</td>\n",
       "      <td>75000.0</td>\n",
       "      <td>1</td>\n",
       "      <td>1</td>\n",
       "      <td>0</td>\n",
       "      <td>0</td>\n",
       "      <td>0</td>\n",
       "      <td>...</td>\n",
       "      <td>0</td>\n",
       "      <td>1</td>\n",
       "      <td>1</td>\n",
       "      <td>0</td>\n",
       "      <td>0</td>\n",
       "      <td>0</td>\n",
       "      <td>1</td>\n",
       "      <td>1</td>\n",
       "      <td>0</td>\n",
       "      <td>0</td>\n",
       "    </tr>\n",
       "    <tr>\n",
       "      <th>1</th>\n",
       "      <td>60000</td>\n",
       "      <td>2500</td>\n",
       "      <td>7</td>\n",
       "      <td>16</td>\n",
       "      <td>130000.0</td>\n",
       "      <td>2</td>\n",
       "      <td>1</td>\n",
       "      <td>1</td>\n",
       "      <td>0</td>\n",
       "      <td>0</td>\n",
       "      <td>...</td>\n",
       "      <td>0</td>\n",
       "      <td>1</td>\n",
       "      <td>0</td>\n",
       "      <td>1</td>\n",
       "      <td>0</td>\n",
       "      <td>0</td>\n",
       "      <td>1</td>\n",
       "      <td>0</td>\n",
       "      <td>1</td>\n",
       "      <td>0</td>\n",
       "    </tr>\n",
       "    <tr>\n",
       "      <th>2</th>\n",
       "      <td>43500</td>\n",
       "      <td>1600</td>\n",
       "      <td>4</td>\n",
       "      <td>17</td>\n",
       "      <td>82201.0</td>\n",
       "      <td>2</td>\n",
       "      <td>0</td>\n",
       "      <td>1</td>\n",
       "      <td>0</td>\n",
       "      <td>0</td>\n",
       "      <td>...</td>\n",
       "      <td>0</td>\n",
       "      <td>1</td>\n",
       "      <td>1</td>\n",
       "      <td>0</td>\n",
       "      <td>0</td>\n",
       "      <td>0</td>\n",
       "      <td>1</td>\n",
       "      <td>1</td>\n",
       "      <td>0</td>\n",
       "      <td>0</td>\n",
       "    </tr>\n",
       "    <tr>\n",
       "      <th>3</th>\n",
       "      <td>5500</td>\n",
       "      <td>906</td>\n",
       "      <td>4</td>\n",
       "      <td>41</td>\n",
       "      <td>82201.0</td>\n",
       "      <td>0</td>\n",
       "      <td>0</td>\n",
       "      <td>0</td>\n",
       "      <td>1</td>\n",
       "      <td>0</td>\n",
       "      <td>...</td>\n",
       "      <td>0</td>\n",
       "      <td>1</td>\n",
       "      <td>0</td>\n",
       "      <td>0</td>\n",
       "      <td>1</td>\n",
       "      <td>1</td>\n",
       "      <td>0</td>\n",
       "      <td>1</td>\n",
       "      <td>0</td>\n",
       "      <td>0</td>\n",
       "    </tr>\n",
       "    <tr>\n",
       "      <th>4</th>\n",
       "      <td>54000</td>\n",
       "      <td>1200</td>\n",
       "      <td>4</td>\n",
       "      <td>9</td>\n",
       "      <td>38000.0</td>\n",
       "      <td>2</td>\n",
       "      <td>0</td>\n",
       "      <td>1</td>\n",
       "      <td>0</td>\n",
       "      <td>0</td>\n",
       "      <td>...</td>\n",
       "      <td>0</td>\n",
       "      <td>1</td>\n",
       "      <td>1</td>\n",
       "      <td>0</td>\n",
       "      <td>0</td>\n",
       "      <td>0</td>\n",
       "      <td>1</td>\n",
       "      <td>1</td>\n",
       "      <td>0</td>\n",
       "      <td>0</td>\n",
       "    </tr>\n",
       "    <tr>\n",
       "      <th>...</th>\n",
       "      <td>...</td>\n",
       "      <td>...</td>\n",
       "      <td>...</td>\n",
       "      <td>...</td>\n",
       "      <td>...</td>\n",
       "      <td>...</td>\n",
       "      <td>...</td>\n",
       "      <td>...</td>\n",
       "      <td>...</td>\n",
       "      <td>...</td>\n",
       "      <td>...</td>\n",
       "      <td>...</td>\n",
       "      <td>...</td>\n",
       "      <td>...</td>\n",
       "      <td>...</td>\n",
       "      <td>...</td>\n",
       "      <td>...</td>\n",
       "      <td>...</td>\n",
       "      <td>...</td>\n",
       "      <td>...</td>\n",
       "      <td>...</td>\n",
       "    </tr>\n",
       "    <tr>\n",
       "      <th>6858</th>\n",
       "      <td>50000</td>\n",
       "      <td>1600</td>\n",
       "      <td>4</td>\n",
       "      <td>11</td>\n",
       "      <td>82201.0</td>\n",
       "      <td>1</td>\n",
       "      <td>0</td>\n",
       "      <td>0</td>\n",
       "      <td>0</td>\n",
       "      <td>0</td>\n",
       "      <td>...</td>\n",
       "      <td>0</td>\n",
       "      <td>1</td>\n",
       "      <td>1</td>\n",
       "      <td>0</td>\n",
       "      <td>0</td>\n",
       "      <td>0</td>\n",
       "      <td>1</td>\n",
       "      <td>1</td>\n",
       "      <td>0</td>\n",
       "      <td>0</td>\n",
       "    </tr>\n",
       "    <tr>\n",
       "      <th>6860</th>\n",
       "      <td>48000</td>\n",
       "      <td>2400</td>\n",
       "      <td>7</td>\n",
       "      <td>21</td>\n",
       "      <td>0.0</td>\n",
       "      <td>5</td>\n",
       "      <td>0</td>\n",
       "      <td>0</td>\n",
       "      <td>0</td>\n",
       "      <td>0</td>\n",
       "      <td>...</td>\n",
       "      <td>0</td>\n",
       "      <td>1</td>\n",
       "      <td>0</td>\n",
       "      <td>0</td>\n",
       "      <td>1</td>\n",
       "      <td>0</td>\n",
       "      <td>1</td>\n",
       "      <td>1</td>\n",
       "      <td>0</td>\n",
       "      <td>0</td>\n",
       "    </tr>\n",
       "    <tr>\n",
       "      <th>6861</th>\n",
       "      <td>87000</td>\n",
       "      <td>1600</td>\n",
       "      <td>4</td>\n",
       "      <td>5</td>\n",
       "      <td>50000.0</td>\n",
       "      <td>0</td>\n",
       "      <td>0</td>\n",
       "      <td>1</td>\n",
       "      <td>0</td>\n",
       "      <td>0</td>\n",
       "      <td>...</td>\n",
       "      <td>0</td>\n",
       "      <td>1</td>\n",
       "      <td>0</td>\n",
       "      <td>0</td>\n",
       "      <td>1</td>\n",
       "      <td>0</td>\n",
       "      <td>1</td>\n",
       "      <td>1</td>\n",
       "      <td>0</td>\n",
       "      <td>0</td>\n",
       "    </tr>\n",
       "    <tr>\n",
       "      <th>6862</th>\n",
       "      <td>126000</td>\n",
       "      <td>2200</td>\n",
       "      <td>6</td>\n",
       "      <td>6</td>\n",
       "      <td>100.0</td>\n",
       "      <td>2</td>\n",
       "      <td>1</td>\n",
       "      <td>0</td>\n",
       "      <td>0</td>\n",
       "      <td>0</td>\n",
       "      <td>...</td>\n",
       "      <td>0</td>\n",
       "      <td>1</td>\n",
       "      <td>1</td>\n",
       "      <td>0</td>\n",
       "      <td>0</td>\n",
       "      <td>0</td>\n",
       "      <td>1</td>\n",
       "      <td>1</td>\n",
       "      <td>0</td>\n",
       "      <td>0</td>\n",
       "    </tr>\n",
       "    <tr>\n",
       "      <th>6863</th>\n",
       "      <td>28000</td>\n",
       "      <td>2500</td>\n",
       "      <td>7</td>\n",
       "      <td>22</td>\n",
       "      <td>82201.0</td>\n",
       "      <td>5</td>\n",
       "      <td>0</td>\n",
       "      <td>0</td>\n",
       "      <td>0</td>\n",
       "      <td>0</td>\n",
       "      <td>...</td>\n",
       "      <td>0</td>\n",
       "      <td>1</td>\n",
       "      <td>0</td>\n",
       "      <td>0</td>\n",
       "      <td>1</td>\n",
       "      <td>0</td>\n",
       "      <td>1</td>\n",
       "      <td>0</td>\n",
       "      <td>1</td>\n",
       "      <td>0</td>\n",
       "    </tr>\n",
       "  </tbody>\n",
       "</table>\n",
       "<p>6863 rows × 83 columns</p>\n",
       "</div>"
      ],
      "text/plain": [
       "       Price  Motor_Power  Passenger_Number  Age  Car_Speedometer1  \\\n",
       "0     100000         2000                 4    9           75000.0   \n",
       "1      60000         2500                 7   16          130000.0   \n",
       "2      43500         1600                 4   17           82201.0   \n",
       "3       5500          906                 4   41           82201.0   \n",
       "4      54000         1200                 4    9           38000.0   \n",
       "...      ...          ...               ...  ...               ...   \n",
       "6858   50000         1600                 4   11           82201.0   \n",
       "6860   48000         2400                 7   21               0.0   \n",
       "6861   87000         1600                 4    5           50000.0   \n",
       "6862  126000         2200                 6    6             100.0   \n",
       "6863   28000         2500                 7   22           82201.0   \n",
       "\n",
       "      New_Previous_Owners  Sunroof_Presence  color_Grey  color_beige  \\\n",
       "0                       1                 1           0            0   \n",
       "1                       2                 1           1            0   \n",
       "2                       2                 0           1            0   \n",
       "3                       0                 0           0            1   \n",
       "4                       2                 0           1            0   \n",
       "...                   ...               ...         ...          ...   \n",
       "6858                    1                 0           0            0   \n",
       "6860                    5                 0           0            0   \n",
       "6861                    0                 0           1            0   \n",
       "6862                    2                 1           0            0   \n",
       "6863                    5                 0           0            0   \n",
       "\n",
       "      color_black  ...  DL_Non_Palestinian  DL_Palestinian  LT_Automatic  \\\n",
       "0               0  ...                   0               1             1   \n",
       "1               0  ...                   0               1             0   \n",
       "2               0  ...                   0               1             1   \n",
       "3               0  ...                   0               1             0   \n",
       "4               0  ...                   0               1             1   \n",
       "...           ...  ...                 ...             ...           ...   \n",
       "6858            0  ...                   0               1             1   \n",
       "6860            0  ...                   0               1             0   \n",
       "6861            0  ...                   0               1             0   \n",
       "6862            0  ...                   0               1             1   \n",
       "6863            0  ...                   0               1             0   \n",
       "\n",
       "      LT_Semi automatic  LT_normal  Glass_Manual  Glass_electronic  \\\n",
       "0                     0          0             0                 1   \n",
       "1                     1          0             0                 1   \n",
       "2                     0          0             0                 1   \n",
       "3                     0          1             1                 0   \n",
       "4                     0          0             0                 1   \n",
       "...                 ...        ...           ...               ...   \n",
       "6858                  0          0             0                 1   \n",
       "6860                  0          1             0                 1   \n",
       "6861                  0          1             0                 1   \n",
       "6862                  0          0             0                 1   \n",
       "6863                  0          1             0                 1   \n",
       "\n",
       "      Shown_For_sale   Shown_Sell_or_exchange  Shown_To_switch   \n",
       "0                   1                       0                 0  \n",
       "1                   0                       1                 0  \n",
       "2                   1                       0                 0  \n",
       "3                   1                       0                 0  \n",
       "4                   1                       0                 0  \n",
       "...               ...                     ...               ...  \n",
       "6858                1                       0                 0  \n",
       "6860                1                       0                 0  \n",
       "6861                1                       0                 0  \n",
       "6862                1                       0                 0  \n",
       "6863                0                       1                 0  \n",
       "\n",
       "[6863 rows x 83 columns]"
      ]
     },
     "execution_count": 41,
     "metadata": {},
     "output_type": "execute_result"
    }
   ],
   "source": [
    " new_df = df[['Price', 'Motor_Power',\n",
    "       'Passenger_Number', 'Age', 'Car_Speedometer1',\n",
    "       'New_Previous_Owners', 'Sunroof_Presence','color_Grey', 'color_beige', 'color_black', \n",
    "             'color_blue', 'color_brown',\n",
    "             'color_green', 'color_navy blue', 'color_orange', 'color_petroleum',\n",
    "       'color_purple', 'color_red', 'color_several colors', 'color_white',\n",
    "       'color_yellow', 'BUL_0', 'BUL_1', 'BUL_2', 'BUL_3', 'BUL_4', 'BUL_5',\n",
    "       'BUL_6', 'BUL_7', 'BUL_8', 'BUL_9', 'BUL_10', 'BUL_11', 'BUL_12',\n",
    "       'BUL_13', 'BUL_14', 'BUL_15', 'BUL_16', 'BUL_17', 'BUL_18', 'BUL_19',\n",
    "       'BUL_20', 'BUL_21', 'BUL_22', 'BUL_23', 'BUL_24', 'BUL_25', 'BUL_26',\n",
    "       'BUL_27', 'BUL_28', 'BUL_29', 'BUL_30', 'BUL_31', 'BUL_32', 'BUL_33',\n",
    "       'BUL_34', 'BUL_35', 'BUL_36', 'BUL_37', 'BUL_38', 'BUL_39', 'BUL_40',\n",
    "       'Payment_Installment', 'Payment_cash', 'Fuel_Hybrid', 'Fuel_diesel',\n",
    "       'Fuel_petrol', 'CarOrigin_Leasing', 'CarOrigin_Tegari',\n",
    "       'CarOrigin_governmental', 'CarOrigin_private', 'CarOrigin_public',\n",
    "       'CarOrigin_training', 'DL_Non_Palestinian', 'DL_Palestinian',\n",
    "       'LT_Automatic', 'LT_Semi automatic', 'LT_normal', 'Glass_Manual',\n",
    "       'Glass_electronic', 'Shown_For_sale ', 'Shown_Sell_or_exchange',\n",
    "       'Shown_To_switch ']]\n",
    "new_df #masking"
   ]
  },
  {
   "cell_type": "code",
   "execution_count": 42,
   "id": "30fe7700",
   "metadata": {},
   "outputs": [],
   "source": [
    "Y= new_df['Price']\n",
    "X= new_df [[ 'Motor_Power',\n",
    "       'Passenger_Number', 'Age', 'Car_Speedometer1',\n",
    "       'New_Previous_Owners', 'Sunroof_Presence','color_Grey', 'color_beige', 'color_black', \n",
    "             'color_blue', 'color_brown',\n",
    "             'color_green', 'color_navy blue', 'color_orange', 'color_petroleum',\n",
    "       'color_purple', 'color_red', 'color_several colors', 'color_white',\n",
    "       'color_yellow', 'BUL_0', 'BUL_1', 'BUL_2', 'BUL_3', 'BUL_4', 'BUL_5',\n",
    "       'BUL_6', 'BUL_7', 'BUL_8', 'BUL_9', 'BUL_10', 'BUL_11', 'BUL_12',\n",
    "       'BUL_13', 'BUL_14', 'BUL_15', 'BUL_16', 'BUL_17', 'BUL_18', 'BUL_19',\n",
    "       'BUL_20', 'BUL_21', 'BUL_22', 'BUL_23', 'BUL_24', 'BUL_25', 'BUL_26',\n",
    "       'BUL_27', 'BUL_28', 'BUL_29', 'BUL_30', 'BUL_31', 'BUL_32', 'BUL_33',\n",
    "       'BUL_34', 'BUL_35', 'BUL_36', 'BUL_37', 'BUL_38', 'BUL_39', 'BUL_40',\n",
    "       'Payment_Installment', 'Payment_cash', 'Fuel_Hybrid', 'Fuel_diesel',\n",
    "       'Fuel_petrol', 'CarOrigin_Leasing', 'CarOrigin_Tegari',\n",
    "       'CarOrigin_governmental', 'CarOrigin_private', 'CarOrigin_public',\n",
    "       'CarOrigin_training', 'DL_Non_Palestinian', 'DL_Palestinian',\n",
    "       'LT_Automatic', 'LT_Semi automatic', 'LT_normal', 'Glass_Manual',\n",
    "       'Glass_electronic', 'Shown_For_sale ', 'Shown_Sell_or_exchange',\n",
    "       'Shown_To_switch ']]"
   ]
  },
  {
   "cell_type": "code",
   "execution_count": 43,
   "id": "40e27a0b",
   "metadata": {},
   "outputs": [],
   "source": [
    "#X_train.info()"
   ]
  },
  {
   "cell_type": "code",
   "execution_count": 45,
   "id": "47456114",
   "metadata": {},
   "outputs": [
    {
     "data": {
      "text/plain": [
       "0.3973679549603679"
      ]
     },
     "execution_count": 45,
     "metadata": {},
     "output_type": "execute_result"
    }
   ],
   "source": [
    "X_train, X_test, y_train, y_test = train_test_split(X, Y, test_size = 0.3, random_state = 100)\n",
    "model = LinearRegression()\n",
    "model.fit(X_train, y_train)\n",
    "y_predict = model.predict(X_test)\n",
    "r2_score(y_test, y_predict)"
   ]
  },
  {
   "cell_type": "code",
   "execution_count": 47,
   "id": "7032e67f",
   "metadata": {},
   "outputs": [
    {
     "data": {
      "text/plain": [
       "(4804, 82)"
      ]
     },
     "execution_count": 47,
     "metadata": {},
     "output_type": "execute_result"
    }
   ],
   "source": [
    "X_train.shape"
   ]
  },
  {
   "cell_type": "code",
   "execution_count": 109,
   "id": "3865dca5",
   "metadata": {},
   "outputs": [],
   "source": [
    "#standardScaler = StandardScaler()         #X_train, X_test, y_train, y_test\n",
    "#standardScaler.fit(X_train)\n",
    "#X_train = standardScaler.transform(X_train)\n",
    "#X_test = standardScaler.transform(X_test)"
   ]
  },
  {
   "cell_type": "code",
   "execution_count": 48,
   "id": "a39cc474",
   "metadata": {},
   "outputs": [
    {
     "data": {
      "text/plain": [
       "0.46454284167720494"
      ]
     },
     "execution_count": 48,
     "metadata": {},
     "output_type": "execute_result"
    }
   ],
   "source": [
    "rf = RandomForestRegressor(n_estimators = 100)\n",
    "rf.fit(X_train, y_train)\n",
    "y_pred = rf.predict(X_test)\n",
    "r2_score(y_test, y_pred)"
   ]
  },
  {
   "cell_type": "code",
   "execution_count": null,
   "id": "4429ceaa",
   "metadata": {},
   "outputs": [],
   "source": [
    "#another one"
   ]
  },
  {
   "cell_type": "code",
   "execution_count": 52,
   "id": "0e1152d5",
   "metadata": {},
   "outputs": [
    {
     "data": {
      "text/html": [
       "<style>#sk-container-id-2 {color: black;background-color: white;}#sk-container-id-2 pre{padding: 0;}#sk-container-id-2 div.sk-toggleable {background-color: white;}#sk-container-id-2 label.sk-toggleable__label {cursor: pointer;display: block;width: 100%;margin-bottom: 0;padding: 0.3em;box-sizing: border-box;text-align: center;}#sk-container-id-2 label.sk-toggleable__label-arrow:before {content: \"▸\";float: left;margin-right: 0.25em;color: #696969;}#sk-container-id-2 label.sk-toggleable__label-arrow:hover:before {color: black;}#sk-container-id-2 div.sk-estimator:hover label.sk-toggleable__label-arrow:before {color: black;}#sk-container-id-2 div.sk-toggleable__content {max-height: 0;max-width: 0;overflow: hidden;text-align: left;background-color: #f0f8ff;}#sk-container-id-2 div.sk-toggleable__content pre {margin: 0.2em;color: black;border-radius: 0.25em;background-color: #f0f8ff;}#sk-container-id-2 input.sk-toggleable__control:checked~div.sk-toggleable__content {max-height: 200px;max-width: 100%;overflow: auto;}#sk-container-id-2 input.sk-toggleable__control:checked~label.sk-toggleable__label-arrow:before {content: \"▾\";}#sk-container-id-2 div.sk-estimator input.sk-toggleable__control:checked~label.sk-toggleable__label {background-color: #d4ebff;}#sk-container-id-2 div.sk-label input.sk-toggleable__control:checked~label.sk-toggleable__label {background-color: #d4ebff;}#sk-container-id-2 input.sk-hidden--visually {border: 0;clip: rect(1px 1px 1px 1px);clip: rect(1px, 1px, 1px, 1px);height: 1px;margin: -1px;overflow: hidden;padding: 0;position: absolute;width: 1px;}#sk-container-id-2 div.sk-estimator {font-family: monospace;background-color: #f0f8ff;border: 1px dotted black;border-radius: 0.25em;box-sizing: border-box;margin-bottom: 0.5em;}#sk-container-id-2 div.sk-estimator:hover {background-color: #d4ebff;}#sk-container-id-2 div.sk-parallel-item::after {content: \"\";width: 100%;border-bottom: 1px solid gray;flex-grow: 1;}#sk-container-id-2 div.sk-label:hover label.sk-toggleable__label {background-color: #d4ebff;}#sk-container-id-2 div.sk-serial::before {content: \"\";position: absolute;border-left: 1px solid gray;box-sizing: border-box;top: 0;bottom: 0;left: 50%;z-index: 0;}#sk-container-id-2 div.sk-serial {display: flex;flex-direction: column;align-items: center;background-color: white;padding-right: 0.2em;padding-left: 0.2em;position: relative;}#sk-container-id-2 div.sk-item {position: relative;z-index: 1;}#sk-container-id-2 div.sk-parallel {display: flex;align-items: stretch;justify-content: center;background-color: white;position: relative;}#sk-container-id-2 div.sk-item::before, #sk-container-id-2 div.sk-parallel-item::before {content: \"\";position: absolute;border-left: 1px solid gray;box-sizing: border-box;top: 0;bottom: 0;left: 50%;z-index: -1;}#sk-container-id-2 div.sk-parallel-item {display: flex;flex-direction: column;z-index: 1;position: relative;background-color: white;}#sk-container-id-2 div.sk-parallel-item:first-child::after {align-self: flex-end;width: 50%;}#sk-container-id-2 div.sk-parallel-item:last-child::after {align-self: flex-start;width: 50%;}#sk-container-id-2 div.sk-parallel-item:only-child::after {width: 0;}#sk-container-id-2 div.sk-dashed-wrapped {border: 1px dashed gray;margin: 0 0.4em 0.5em 0.4em;box-sizing: border-box;padding-bottom: 0.4em;background-color: white;}#sk-container-id-2 div.sk-label label {font-family: monospace;font-weight: bold;display: inline-block;line-height: 1.2em;}#sk-container-id-2 div.sk-label-container {text-align: center;}#sk-container-id-2 div.sk-container {/* jupyter's `normalize.less` sets `[hidden] { display: none; }` but bootstrap.min.css set `[hidden] { display: none !important; }` so we also need the `!important` here to be able to override the default hidden behavior on the sphinx rendered scikit-learn.org. See: https://github.com/scikit-learn/scikit-learn/issues/21755 */display: inline-block !important;position: relative;}#sk-container-id-2 div.sk-text-repr-fallback {display: none;}</style><div id=\"sk-container-id-2\" class=\"sk-top-container\"><div class=\"sk-text-repr-fallback\"><pre>LinearRegression()</pre><b>In a Jupyter environment, please rerun this cell to show the HTML representation or trust the notebook. <br />On GitHub, the HTML representation is unable to render, please try loading this page with nbviewer.org.</b></div><div class=\"sk-container\" hidden><div class=\"sk-item\"><div class=\"sk-estimator sk-toggleable\"><input class=\"sk-toggleable__control sk-hidden--visually\" id=\"sk-estimator-id-2\" type=\"checkbox\" checked><label for=\"sk-estimator-id-2\" class=\"sk-toggleable__label sk-toggleable__label-arrow\">LinearRegression</label><div class=\"sk-toggleable__content\"><pre>LinearRegression()</pre></div></div></div></div></div>"
      ],
      "text/plain": [
       "LinearRegression()"
      ]
     },
     "execution_count": 52,
     "metadata": {},
     "output_type": "execute_result"
    }
   ],
   "source": [
    "lm=LinearRegression()     \n",
    "x_train=new_df [[ 'Motor_Power',\n",
    "       'Passenger_Number', 'Age', 'Car_Speedometer1',\n",
    "       'New_Previous_Owners', 'Sunroof_Presence','color_Grey', 'color_beige', 'color_black', \n",
    "             'color_blue', 'color_brown',\n",
    "             'color_green', 'color_navy blue', 'color_orange', 'color_petroleum',\n",
    "       'color_purple', 'color_red', 'color_several colors', 'color_white',\n",
    "       'color_yellow', 'BUL_0', 'BUL_1', 'BUL_2', 'BUL_3', 'BUL_4', 'BUL_5',\n",
    "       'BUL_6', 'BUL_7', 'BUL_8', 'BUL_9', 'BUL_10', 'BUL_11', 'BUL_12',\n",
    "       'BUL_13', 'BUL_14', 'BUL_15', 'BUL_16', 'BUL_17', 'BUL_18', 'BUL_19',\n",
    "       'BUL_20', 'BUL_21', 'BUL_22', 'BUL_23', 'BUL_24', 'BUL_25', 'BUL_26',\n",
    "       'BUL_27', 'BUL_28', 'BUL_29', 'BUL_30', 'BUL_31', 'BUL_32', 'BUL_33',\n",
    "       'BUL_34', 'BUL_35', 'BUL_36', 'BUL_37', 'BUL_38', 'BUL_39', 'BUL_40',\n",
    "       'Payment_Installment', 'Payment_cash', 'Fuel_Hybrid', 'Fuel_diesel',\n",
    "       'Fuel_petrol', 'CarOrigin_Leasing', 'CarOrigin_Tegari',\n",
    "       'CarOrigin_governmental', 'CarOrigin_private', 'CarOrigin_public',\n",
    "       'CarOrigin_training', 'DL_Non_Palestinian', 'DL_Palestinian',\n",
    "       'LT_Automatic', 'LT_Semi automatic', 'LT_normal', 'Glass_Manual',\n",
    "       'Glass_electronic', 'Shown_For_sale ', 'Shown_Sell_or_exchange',\n",
    "       'Shown_To_switch ']]\n",
    "y_train=new_df['Price'] \n",
    "lm.fit(x_train,y_train) "
   ]
  },
  {
   "cell_type": "code",
   "execution_count": 53,
   "id": "90dfddf7",
   "metadata": {},
   "outputs": [
    {
     "data": {
      "text/plain": [
       "['12.85956',\n",
       " '4342.07974',\n",
       " '-3170.59588',\n",
       " '-0.01916',\n",
       " '-1470.52938',\n",
       " '17075.35281',\n",
       " '-2824.30656',\n",
       " '638.40759',\n",
       " '1639.79831',\n",
       " '-1809.60016',\n",
       " '153.17015',\n",
       " '-8809.04049',\n",
       " '-7598.94489',\n",
       " '17925.70156',\n",
       " '1058.90709',\n",
       " '-4123.51762',\n",
       " '-1119.36116',\n",
       " '1271.22779',\n",
       " '3887.34291',\n",
       " '-289.78452',\n",
       " '-19160.35875',\n",
       " '-18057.32125',\n",
       " '187.71688',\n",
       " '-24640.32034',\n",
       " '41529.15434',\n",
       " '-8187.05651',\n",
       " '25850.79200',\n",
       " '-21553.12396',\n",
       " '-6418.91533',\n",
       " '-397.50210',\n",
       " '214.70641',\n",
       " '-19436.99356',\n",
       " '-9162.23075',\n",
       " '-26459.34665',\n",
       " '1040.90429',\n",
       " '39466.61421',\n",
       " '-47357.06663',\n",
       " '-22361.05046',\n",
       " '88971.56270',\n",
       " '10368.02501',\n",
       " '-4553.35734',\n",
       " '-35590.46161',\n",
       " '-2942.78008',\n",
       " '49110.14074',\n",
       " '13290.66566',\n",
       " '4098.52339',\n",
       " '13109.56053',\n",
       " '12449.60884',\n",
       " '21240.32360',\n",
       " '1264.39774',\n",
       " '-15460.17462',\n",
       " '-74762.21210',\n",
       " '629.62907',\n",
       " '51192.12961',\n",
       " '-14493.46666',\n",
       " '-25330.97455',\n",
       " '8080.86670',\n",
       " '-15070.83088',\n",
       " '34429.26615',\n",
       " '-43506.84162',\n",
       " '38377.79786',\n",
       " '727.43700',\n",
       " '-727.43700',\n",
       " '8832.83844',\n",
       " '2540.11944',\n",
       " '-11372.95788',\n",
       " '-1792.02273',\n",
       " '-218.46573',\n",
       " '6682.93025',\n",
       " '9512.83031',\n",
       " '-15800.11627',\n",
       " '1614.84418',\n",
       " '-21249.55662',\n",
       " '21249.55662',\n",
       " '2197.11727',\n",
       " '5210.71069',\n",
       " '-7407.82796',\n",
       " '10958.33633',\n",
       " '-10958.33633',\n",
       " '1068.57302',\n",
       " '1591.41505',\n",
       " '-2659.98807']"
      ]
     },
     "execution_count": 53,
     "metadata": {},
     "output_type": "execute_result"
    }
   ],
   "source": [
    "#get the coefficients of the model               FROM G.D\n",
    "[\"{:.5f}\".format(x) for x in lm.coef_]"
   ]
  },
  {
   "cell_type": "code",
   "execution_count": 54,
   "id": "d2284dcc",
   "metadata": {},
   "outputs": [
    {
     "data": {
      "text/plain": [
       "64884.08365757674"
      ]
     },
     "execution_count": 54,
     "metadata": {},
     "output_type": "execute_result"
    }
   ],
   "source": [
    "#get the intercept value\n",
    "lm.intercept_"
   ]
  },
  {
   "cell_type": "code",
   "execution_count": 55,
   "id": "1d69f90c",
   "metadata": {},
   "outputs": [],
   "source": [
    "pickle.dump(model, open('./model.sav','wb'))\n",
    "#sav file -> binary file "
   ]
  },
  {
   "cell_type": "code",
   "execution_count": 56,
   "id": "fb1b5b38",
   "metadata": {},
   "outputs": [],
   "source": [
    "# if you want to load to model from the storage \n",
    "loaded_model = pickle.load(open('./modell.sav','rb'))"
   ]
  },
  {
   "cell_type": "code",
   "execution_count": null,
   "id": "be892cf0",
   "metadata": {},
   "outputs": [],
   "source": [
    "#use the model to predit\n",
    "#note the predict function assumes a 2D array where each line is a sample to predict for \n",
    "#x=np.array([ 'Motor_Power',\n",
    "   #    'Passenger_Number', 'Age', 'Car_Speedometer1',\n",
    "    #   'New_Previous_Owners', 'Sunroof_Presence','color_Grey', 'color_beige', 'color_black', \n",
    "     #        'color_blue', 'color_brown',\n",
    "      #       'color_green', 'color_navy blue', 'color_orange', 'color_petroleum',\n",
    "  #     'color_purple', 'color_red', 'color_several colors', 'color_white',\n",
    "   #    'color_yellow', 'BUL_0', 'BUL_1', 'BUL_2', 'BUL_3', 'BUL_4', 'BUL_5',\n",
    "    #   'BUL_6', 'BUL_7', 'BUL_8', 'BUL_9', 'BUL_10', 'BUL_11', 'BUL_12',\n",
    "     #  'BUL_13', 'BUL_14', 'BUL_15', 'BUL_16', 'BUL_17', 'BUL_18', 'BUL_19',\n",
    "      # 'BUL_20', 'BUL_21', 'BUL_22', 'BUL_23', 'BUL_24', 'BUL_25', 'BUL_26',\n",
    "  #     'BUL_27', 'BUL_28', 'BUL_29', 'BUL_30', 'BUL_31', 'BUL_32', 'BUL_33',\n",
    "   #    'BUL_34', 'BUL_35', 'BUL_36', 'BUL_37', 'BUL_38', 'BUL_39', 'BUL_40',\n",
    "    #   'Payment_Installment', 'Payment_cash', 'Fuel_Hybrid', 'Fuel_diesel',\n",
    "     #  'Fuel_petrol', 'CarOrigin_Leasing', 'CarOrigin_Tegari',\n",
    "      # 'CarOrigin_governmental', 'CarOrigin_private', 'CarOrigin_public',\n",
    " #      'CarOrigin_training', 'DL_Non_Palestinian', 'DL_Palestinian',\n",
    "  #     'LT_Automatic', 'LT_Semi automatic', 'LT_normal', 'Glass_Manual',\n",
    "   #    'Glass_electronic', 'Shown_For_sale ', 'Shown_Sell_or_exchange',\n",
    "    #   'Shown_To_switch ' ]).reshape(1,82) # -> 2D use reshape\n",
    "\n",
    "\n",
    "#result= loaded_model.predict(x)\n",
    "#if x.shape[0]==1:\n",
    " #   result=result[0]\n",
    "#print(result)"
   ]
  }
 ],
 "metadata": {
  "kernelspec": {
   "display_name": "Python 3 (ipykernel)",
   "language": "python",
   "name": "python3"
  },
  "language_info": {
   "codemirror_mode": {
    "name": "ipython",
    "version": 3
   },
   "file_extension": ".py",
   "mimetype": "text/x-python",
   "name": "python",
   "nbconvert_exporter": "python",
   "pygments_lexer": "ipython3",
   "version": "3.10.9"
  }
 },
 "nbformat": 4,
 "nbformat_minor": 5
}
